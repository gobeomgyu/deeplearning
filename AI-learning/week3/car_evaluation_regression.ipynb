{
 "cells": [
  {
   "cell_type": "code",
   "execution_count": 7,
   "id": "086dc038-4370-4e1d-882d-c55371e5e078",
   "metadata": {},
   "outputs": [],
   "source": [
    "import pandas as pd\n",
    "import numpy as np\n",
    "import warnings\n",
    "from sklearn.model_selection import train_test_split\n",
    "from sklearn.preprocessing import LabelEncoder\n",
    "from sklearn.linear_model import LinearRegression\n",
    "from sklearn.metrics import mean_absolute_error, mean_squared_error, r2_score"
   ]
  },
  {
   "cell_type": "code",
   "execution_count": 9,
   "id": "84673eb7-7a5b-4e8a-9c78-c9509b8f6ccd",
   "metadata": {},
   "outputs": [],
   "source": [
    "# 경고 무시\n",
    "warnings.filterwarnings('ignore')\n"
   ]
  },
  {
   "cell_type": "code",
   "execution_count": 11,
   "id": "7a658d00-59b1-4237-a131-adae92e2ffa2",
   "metadata": {},
   "outputs": [],
   "source": [
    "# 데이터 불러오기\n",
    "df = pd.read_csv(\"C:\\\\Users\\\\LG\\\\Downloads\\\\archive\\\\car_evaluation.csv\", header=None)\n",
    "df.columns = ['price', 'maint', 'doors', 'persons', 'lug_capacity', 'safety', 'output']"
   ]
  },
  {
   "cell_type": "code",
   "execution_count": 13,
   "id": "2d9e4b3b-45fd-4893-a025-4e3b6c45694e",
   "metadata": {},
   "outputs": [],
   "source": [
    "# 모든 범주형 데이터를 숫자로 변환 (Label Encoding)\n",
    "label_encoders = {}\n",
    "for column in df.columns:\n",
    "    label_encoders[column] = LabelEncoder()\n",
    "    df[column] = label_encoders[column].fit_transform(df[column])"
   ]
  },
  {
   "cell_type": "code",
   "execution_count": 15,
   "id": "b8746991-cbaf-470e-8900-bb4717d793ff",
   "metadata": {},
   "outputs": [],
   "source": [
    "# 입력 데이터(X)와 타겟(y) 설정\n",
    "X = df.drop(columns=['output'])  # 독립 변수\n",
    "y = df['output']  # 종속 변수"
   ]
  },
  {
   "cell_type": "code",
   "execution_count": 17,
   "id": "a30548ca-ca3d-4143-be78-2faf6cd28b6f",
   "metadata": {},
   "outputs": [],
   "source": [
    "# 훈련 데이터 & 테스트 데이터 분리 (80:20)\n",
    "X_train, X_test, y_train, y_test = train_test_split(X, y, test_size=0.2, random_state=42)"
   ]
  },
  {
   "cell_type": "code",
   "execution_count": 21,
   "id": "d2da35e2-41ec-4d22-a214-df962173382e",
   "metadata": {},
   "outputs": [
    {
     "name": "stdout",
     "output_type": "stream",
     "text": [
      "=== Linear Regression ===\n",
      "MAE (Mean Absolute Error): 0.6668909386175065\n",
      "MSE (Mean Squared Error): 0.76434795515757\n",
      "R² Score: 0.07533670372227508\n"
     ]
    }
   ],
   "source": [
    "# LR모델 학습\n",
    "model = LinearRegression()\n",
    "model.fit(X_train, y_train)\n",
    "\n",
    "# 예측 수행\n",
    "y_pred = model.predict(X_test)\n",
    "\n",
    "# 모델 평가\n",
    "print(\"=== Linear Regression ===\")\n",
    "print(\"MAE (Mean Absolute Error):\", mean_absolute_error(y_test, y_pred))\n",
    "print(\"MSE (Mean Squared Error):\", mean_squared_error(y_test, y_pred))\n",
    "print(\"R² Score:\", r2_score(y_test, y_pred))  #R² (결정 계수): 모델이 데이터를 얼마나 잘 설명하는지에 대한 지표"
   ]
  },
  {
   "cell_type": "code",
   "execution_count": 23,
   "id": "598e0e2c-8b83-4cb9-addf-e9ec9d40a2bf",
   "metadata": {},
   "outputs": [
    {
     "name": "stdout",
     "output_type": "stream",
     "text": [
      "=== Random Forest Regressor ===\n",
      "MAE (Mean Absolute Error): 0.12083815028901734\n",
      "MSE (Mean Squared Error): 0.0849771676300578\n",
      "R² Score: 0.8971996099434115\n"
     ]
    }
   ],
   "source": [
    "from sklearn.ensemble import RandomForestRegressor\n",
    "\n",
    "# RF모델 학습\n",
    "model = RandomForestRegressor(n_estimators=100, random_state=42)\n",
    "model.fit(X_train, y_train)\n",
    "\n",
    "# 예측 수행\n",
    "y_pred = model.predict(X_test)\n",
    "\n",
    "# 모델 평가\n",
    "print(\"=== Random Forest Regressor ===\")\n",
    "print(\"MAE (Mean Absolute Error):\", mean_absolute_error(y_test, y_pred))\n",
    "print(\"MSE (Mean Squared Error):\", mean_squared_error(y_test, y_pred))\n",
    "print(\"R² Score:\", r2_score(y_test, y_pred))  #R² (결정 계수): 모델이 데이터를 얼마나 잘 설명하는지에 대한 지표"
   ]
  },
  {
   "cell_type": "code",
   "execution_count": 25,
   "id": "c74b6cc1-66f5-4979-8bc0-275aaa85d266",
   "metadata": {},
   "outputs": [
    {
     "name": "stdout",
     "output_type": "stream",
     "text": [
      "=== SVM Regressor ===\n",
      "MAE (Mean Absolute Error): 0.4683673592347672\n",
      "MSE (Mean Squared Error): 0.5459926698466008\n",
      "R² Score: 0.33949011253682637\n"
     ]
    }
   ],
   "source": [
    "from sklearn.preprocessing import LabelEncoder, StandardScaler\n",
    "from sklearn.svm import SVR\n",
    "\n",
    "#SVM모델 학습(스케일링 포함)\n",
    "\n",
    "# 데이터 스케일링 (SVM 모델을 위한 표준화)\n",
    "scaler = StandardScaler()\n",
    "X_train_scaled = scaler.fit_transform(X_train)\n",
    "X_test_scaled = scaler.transform(X_test)\n",
    "\n",
    "# 모델 학습\n",
    "model = SVR(kernel='rbf')\n",
    "model.fit(X_train_scaled, y_train)\n",
    "\n",
    "# 예측 수행\n",
    "y_pred = model.predict(X_test_scaled)\n",
    "\n",
    "# 모델 평가\n",
    "print(\"=== SVM Regressor ===\")\n",
    "print(\"MAE (Mean Absolute Error):\", mean_absolute_error(y_test, y_pred))\n",
    "print(\"MSE (Mean Squared Error):\", mean_squared_error(y_test, y_pred))\n",
    "print(\"R² Score:\", r2_score(y_test, y_pred))  #R² (결정 계수): 모델이 데이터를 얼마나 잘 설명하는지에 대한 지표"
   ]
  },
  {
   "cell_type": "code",
   "execution_count": 27,
   "id": "bcdafaea-363e-4427-8ea2-84d43aa7859b",
   "metadata": {},
   "outputs": [
    {
     "name": "stdout",
     "output_type": "stream",
     "text": [
      "=== Decision Tree Regressor ===\n",
      "MAE (Mean Absolute Error): 0.10982658959537572\n",
      "MSE (Mean Squared Error): 0.2658959537572254\n",
      "R² Score: 0.6783346806790622\n"
     ]
    }
   ],
   "source": [
    "from sklearn.tree import DecisionTreeRegressor\n",
    "\n",
    "# DT모델 학습\n",
    "model = DecisionTreeRegressor(random_state=42)\n",
    "model.fit(X_train, y_train)\n",
    "\n",
    "# 예측 수행\n",
    "y_pred = model.predict(X_test)\n",
    "\n",
    "print(\"=== Decision Tree Regressor ===\")\n",
    "print(\"MAE (Mean Absolute Error):\", mean_absolute_error(y_test, y_pred))\n",
    "print(\"MSE (Mean Squared Error):\", mean_squared_error(y_test, y_pred))\n",
    "print(\"R² Score:\", r2_score(y_test, y_pred))  #R² (결정 계수): 모델이 데이터를 얼마나 잘 설명하는지에 대한 지표"
   ]
  },
  {
   "cell_type": "code",
   "execution_count": null,
   "id": "6392346d-ee6d-4cab-a814-b6ff6e9cad31",
   "metadata": {},
   "outputs": [],
   "source": []
  }
 ],
 "metadata": {
  "kernelspec": {
   "display_name": "Python [conda env:base] *",
   "language": "python",
   "name": "conda-base-py"
  },
  "language_info": {
   "codemirror_mode": {
    "name": "ipython",
    "version": 3
   },
   "file_extension": ".py",
   "mimetype": "text/x-python",
   "name": "python",
   "nbconvert_exporter": "python",
   "pygments_lexer": "ipython3",
   "version": "3.12.7"
  }
 },
 "nbformat": 4,
 "nbformat_minor": 5
}
