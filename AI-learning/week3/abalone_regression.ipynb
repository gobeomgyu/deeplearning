{
 "cells": [
  {
   "cell_type": "code",
   "execution_count": 81,
   "id": "85ab7849-8879-42d7-8bf7-94beda01c7c9",
   "metadata": {},
   "outputs": [],
   "source": [
    "import pandas as pd\n",
    "import numpy as np\n",
    "import warnings\n",
    "from sklearn.model_selection import train_test_split\n",
    "from sklearn.preprocessing import LabelEncoder\n",
    "from sklearn.linear_model import LinearRegression\n",
    "from sklearn.metrics import mean_absolute_error, mean_squared_error, r2_score"
   ]
  },
  {
   "cell_type": "code",
   "execution_count": 83,
   "id": "b16df1f5-fff6-47df-b9c1-3d47f865293a",
   "metadata": {},
   "outputs": [],
   "source": [
    "# 경고 무시\n",
    "warnings.filterwarnings('ignore')"
   ]
  },
  {
   "cell_type": "code",
   "execution_count": 85,
   "id": "9a14fefd-4895-410e-8b06-22aee95354f6",
   "metadata": {},
   "outputs": [],
   "source": [
    "#데이터 로딩\n",
    "df = pd.read_csv(\"C:\\\\Users\\\\LG\\\\Downloads\\\\abalone.csv\", header= None)\n",
    "df.columns = ['id', 'Sex', 'Length', 'Diameter', 'Height', 'Whole_weight', 'Shucked_weight', 'Viscera_weight', 'Shell_weight', 'Rings']"
   ]
  },
  {
   "cell_type": "code",
   "execution_count": 87,
   "id": "915f94d8-b5d1-495a-a548-ff19f5d5305f",
   "metadata": {},
   "outputs": [],
   "source": [
    "# 모든 범주형 데이터를 숫자로 변환 (Label Encoding)\n",
    "label_encoders = {}\n",
    "for column in df.columns:\n",
    "    label_encoders[column] = LabelEncoder()\n",
    "    df[column] = label_encoders[column].fit_transform(df[column])"
   ]
  },
  {
   "cell_type": "code",
   "execution_count": 89,
   "id": "33c66223-e0cc-4412-9acc-378baf860dc2",
   "metadata": {},
   "outputs": [],
   "source": [
    "# 입력 데이터(X)와 타겟(y) 설정\n",
    "X = df.drop(columns=['Rings'])  # 독립 변수\n",
    "y = df['Rings']  # 종속 변수"
   ]
  },
  {
   "cell_type": "code",
   "execution_count": 91,
   "id": "259d6236-8fa0-48a3-8feb-eb90c5d13e79",
   "metadata": {},
   "outputs": [],
   "source": [
    "# 훈련 데이터 & 테스트 데이터 분리 (80:20)\n",
    "X_train, X_test, y_train, y_test = train_test_split(X, y, test_size=0.2, random_state=42)"
   ]
  },
  {
   "cell_type": "code",
   "execution_count": 93,
   "id": "04749774-0be2-4df1-bf8f-b54c69611dff",
   "metadata": {},
   "outputs": [
    {
     "name": "stdout",
     "output_type": "stream",
     "text": [
      "=== Linear Regression ===\n",
      "MAE (Mean Absolute Error): 8.03570187014605\n",
      "MSE (Mean Squared Error): 90.6978738079556\n",
      "R² Score: 0.28163186387446604\n"
     ]
    }
   ],
   "source": [
    "# LR모델 학습\n",
    "model = LinearRegression()\n",
    "model.fit(X_train, y_train)\n",
    "\n",
    "# 예측 수행\n",
    "y_pred = model.predict(X_test)\n",
    "\n",
    "# 모델 평가\n",
    "print(\"=== Linear Regression ===\")\n",
    "print(\"MAE (Mean Absolute Error):\", mean_absolute_error(y_test, y_pred))\n",
    "print(\"MSE (Mean Squared Error):\", mean_squared_error(y_test, y_pred))\n",
    "print(\"R² Score:\", r2_score(y_test, y_pred))  #R² (결정 계수): 모델이 데이터를 얼마나 잘 설명하는지에 대한 지표"
   ]
  },
  {
   "cell_type": "code",
   "execution_count": 95,
   "id": "3e2c0f08-5234-4b86-a9be-3b2834af9191",
   "metadata": {},
   "outputs": [
    {
     "name": "stdout",
     "output_type": "stream",
     "text": [
      "=== Random Forest Regressor ===\n",
      "MAE (Mean Absolute Error): 6.817942583732058\n",
      "MSE (Mean Squared Error): 82.81203062200957\n",
      "R² Score: 0.34409130458044423\n"
     ]
    }
   ],
   "source": [
    "from sklearn.ensemble import RandomForestRegressor\n",
    "\n",
    "# RF모델 학습\n",
    "model = RandomForestRegressor(n_estimators=100, random_state=42)\n",
    "model.fit(X_train, y_train)\n",
    "\n",
    "# 예측 수행\n",
    "y_pred = model.predict(X_test)\n",
    "\n",
    "# 모델 평가\n",
    "print(\"=== Random Forest Regressor ===\")\n",
    "print(\"MAE (Mean Absolute Error):\", mean_absolute_error(y_test, y_pred))\n",
    "print(\"MSE (Mean Squared Error):\", mean_squared_error(y_test, y_pred))\n",
    "print(\"R² Score:\", r2_score(y_test, y_pred))  #R² (결정 계수): 모델이 데이터를 얼마나 잘 설명하는지에 대한 지표"
   ]
  },
  {
   "cell_type": "code",
   "execution_count": 97,
   "id": "900bd486-c2d0-4577-8e30-6eb8b2f0a786",
   "metadata": {},
   "outputs": [
    {
     "name": "stdout",
     "output_type": "stream",
     "text": [
      "=== SVM Regressor ===\n",
      "MAE (Mean Absolute Error): 7.009900936203419\n",
      "MSE (Mean Squared Error): 100.39333683598848\n",
      "R² Score: 0.20483941646748982\n"
     ]
    }
   ],
   "source": [
    "from sklearn.preprocessing import LabelEncoder, StandardScaler\n",
    "from sklearn.svm import SVR\n",
    "\n",
    "#SVM모델 학습(스케일링 포함)\n",
    "\n",
    "# 데이터 스케일링 (SVM 모델을 위한 표준화)\n",
    "scaler = StandardScaler()\n",
    "X_train_scaled = scaler.fit_transform(X_train)\n",
    "X_test_scaled = scaler.transform(X_test)\n",
    "\n",
    "# 모델 학습\n",
    "model = SVR(kernel='rbf')\n",
    "model.fit(X_train_scaled, y_train)\n",
    "\n",
    "# 예측 수행\n",
    "y_pred = model.predict(X_test_scaled)\n",
    "\n",
    "# 모델 평가\n",
    "print(\"=== SVM Regressor ===\")\n",
    "print(\"MAE (Mean Absolute Error):\", mean_absolute_error(y_test, y_pred))\n",
    "print(\"MSE (Mean Squared Error):\", mean_squared_error(y_test, y_pred))\n",
    "print(\"R² Score:\", r2_score(y_test, y_pred))  #R² (결정 계수): 모델이 데이터를 얼마나 잘 설명하는지에 대한 지표"
   ]
  },
  {
   "cell_type": "code",
   "execution_count": 99,
   "id": "644a1fb9-4b12-4759-bd1d-69e80c9e9dbe",
   "metadata": {},
   "outputs": [
    {
     "name": "stdout",
     "output_type": "stream",
     "text": [
      "=== Decision Tree Regressor ===\n",
      "MAE (Mean Absolute Error): 8.08133971291866\n",
      "MSE (Mean Squared Error): 172.2224880382775\n",
      "R² Score: -0.3640799120927949\n"
     ]
    }
   ],
   "source": [
    "from sklearn.tree import DecisionTreeRegressor\n",
    "\n",
    "# DT모델 학습\n",
    "model = DecisionTreeRegressor(random_state=42)\n",
    "model.fit(X_train, y_train)\n",
    "\n",
    "# 예측 수행\n",
    "y_pred = model.predict(X_test)\n",
    "\n",
    "print(\"=== Decision Tree Regressor ===\")\n",
    "print(\"MAE (Mean Absolute Error):\", mean_absolute_error(y_test, y_pred))\n",
    "print(\"MSE (Mean Squared Error):\", mean_squared_error(y_test, y_pred))\n",
    "print(\"R² Score:\", r2_score(y_test, y_pred))  #R² (결정 계수): 모델이 데이터를 얼마나 잘 설명하는지에 대한 지표"
   ]
  },
  {
   "cell_type": "code",
   "execution_count": null,
   "id": "01fc0e15-bc0c-42d2-b19a-4347731a917f",
   "metadata": {},
   "outputs": [],
   "source": []
  }
 ],
 "metadata": {
  "kernelspec": {
   "display_name": "Python [conda env:base] *",
   "language": "python",
   "name": "conda-base-py"
  },
  "language_info": {
   "codemirror_mode": {
    "name": "ipython",
    "version": 3
   },
   "file_extension": ".py",
   "mimetype": "text/x-python",
   "name": "python",
   "nbconvert_exporter": "python",
   "pygments_lexer": "ipython3",
   "version": "3.12.7"
  }
 },
 "nbformat": 4,
 "nbformat_minor": 5
}
