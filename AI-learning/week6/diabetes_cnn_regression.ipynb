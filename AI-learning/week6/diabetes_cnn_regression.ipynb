{
 "cells": [
  {
   "cell_type": "code",
   "execution_count": 2,
   "id": "bd069ae9-c83b-4ae0-8f0f-736c73b78f47",
   "metadata": {},
   "outputs": [],
   "source": [
    "import pandas as pd\n",
    "import numpy as np\n",
    "from sklearn.model_selection import train_test_split\n",
    "from sklearn.preprocessing import StandardScaler\n",
    "from sklearn.metrics import mean_squared_error, r2_score\n",
    "import torch\n",
    "import torch.nn as nn\n",
    "from torch.utils.data import DataLoader, TensorDataset\n",
    "import matplotlib.pyplot as plt"
   ]
  },
  {
   "cell_type": "code",
   "execution_count": 4,
   "id": "98bd61ca-e16a-46ff-9eba-f3409b055bf9",
   "metadata": {},
   "outputs": [],
   "source": [
    "# 데이터 불러오기\n",
    "data = pd.read_csv(\"C:/Users/LG/Downloads/diabetes.csv\")"
   ]
  },
  {
   "cell_type": "code",
   "execution_count": 6,
   "id": "738f4a92-2115-4d1c-b838-225f4f4092b6",
   "metadata": {},
   "outputs": [],
   "source": [
    "# 타겟(BMI) 분리, Outcome 제거\n",
    "X = data.drop(columns=['Outcome', 'BMI']).values  # 7개 특성\n",
    "y = data['BMI'].values.astype(np.float32)"
   ]
  },
  {
   "cell_type": "code",
   "execution_count": 8,
   "id": "5f0984eb-c2a4-4400-8b2d-6ebdfde75773",
   "metadata": {},
   "outputs": [],
   "source": [
    "# 정규화\n",
    "scaler = StandardScaler()\n",
    "X = scaler.fit_transform(X)"
   ]
  },
  {
   "cell_type": "code",
   "execution_count": 10,
   "id": "3173e23f-2772-43f4-80b8-a0272e08a1f4",
   "metadata": {},
   "outputs": [],
   "source": [
    "# 시퀀스 형태로 변환\n",
    "def split_sequences(sequences, n_steps):\n",
    "    X, y = [], []\n",
    "    for i in range(len(sequences)):\n",
    "        end_ix = i + n_steps\n",
    "        if end_ix > len(sequences):\n",
    "            break\n",
    "        seq_x, seq_y = sequences[i:end_ix, :-1], sequences[end_ix-1, -1]\n",
    "        X.append(seq_x)\n",
    "        y.append(seq_y)\n",
    "    return np.array(X), np.array(y)"
   ]
  },
  {
   "cell_type": "code",
   "execution_count": 12,
   "id": "6d2925bf-71b0-4a85-b08a-4d6c2f21487b",
   "metadata": {},
   "outputs": [],
   "source": [
    "# BMI를 붙여서 시퀀스 분할\n",
    "full_data = np.hstack((X, y.reshape(-1, 1)))\n",
    "X_seq, y_seq = split_sequences(full_data, n_steps=5)"
   ]
  },
  {
   "cell_type": "code",
   "execution_count": 14,
   "id": "57b3bdc2-2f96-4413-a6b2-ec4e1f4db4ad",
   "metadata": {},
   "outputs": [],
   "source": [
    "# Train/Test 분할\n",
    "X_train, X_test, y_train, y_test = train_test_split(X_seq, y_seq, test_size=0.2, random_state=42)\n"
   ]
  },
  {
   "cell_type": "code",
   "execution_count": 16,
   "id": "8c4d0d62-af47-4183-8ce8-13ee551b5723",
   "metadata": {},
   "outputs": [],
   "source": [
    "# Tensor 변환\n",
    "X_train = torch.tensor(X_train, dtype=torch.float32).permute(0, 2, 1)  # (batch, channels, seq_len)\n",
    "X_test = torch.tensor(X_test, dtype=torch.float32).permute(0, 2, 1)\n",
    "y_train = torch.tensor(y_train, dtype=torch.float32).view(-1, 1)\n",
    "y_test = torch.tensor(y_test, dtype=torch.float32).view(-1, 1)"
   ]
  },
  {
   "cell_type": "code",
   "execution_count": 18,
   "id": "a635f115-38fe-4602-9052-914e58bb0d1e",
   "metadata": {},
   "outputs": [],
   "source": [
    "train_dataset = TensorDataset(X_train, y_train)\n",
    "test_dataset = TensorDataset(X_test, y_test)"
   ]
  },
  {
   "cell_type": "code",
   "execution_count": 20,
   "id": "9ba39a7a-3810-4d82-aa80-d1b0f9ddeac7",
   "metadata": {},
   "outputs": [],
   "source": [
    "train_loader = DataLoader(train_dataset, batch_size=32, shuffle=True)\n",
    "test_loader = DataLoader(test_dataset, batch_size=32)"
   ]
  },
  {
   "cell_type": "code",
   "execution_count": 24,
   "id": "cf6491fb-107c-40ae-ac90-8efa8cfee820",
   "metadata": {},
   "outputs": [],
   "source": [
    "#모델 정의: Conv1D 회귀 모델\n",
    "class BMICNN(nn.Module):\n",
    "    def __init__(self):\n",
    "        super(BMICNN, self).__init__()\n",
    "        self.conv1 = nn.Conv1d(in_channels=7, out_channels=16, kernel_size=3, padding=1)\n",
    "        self.conv2 = nn.Conv1d(16, 32, kernel_size=3, padding=1)\n",
    "        self.fc1 = nn.Linear(32 * 5, 64)\n",
    "        self.fc2 = nn.Linear(64, 1)  # 회귀 출력\n",
    "\n",
    "    def forward(self, x):\n",
    "        x = torch.relu(self.conv1(x))\n",
    "        x = torch.relu(self.conv2(x))\n",
    "        x = x.view(x.size(0), -1)\n",
    "        x = torch.relu(self.fc1(x))\n",
    "        return self.fc2(x)\n"
   ]
  },
  {
   "cell_type": "code",
   "execution_count": 26,
   "id": "d12a784a-613f-4fff-889e-a3b0e2f0cbea",
   "metadata": {},
   "outputs": [
    {
     "name": "stdout",
     "output_type": "stream",
     "text": [
      "Epoch 1, Loss: 1083.0423\n",
      "Epoch 2, Loss: 864.6016\n",
      "Epoch 3, Loss: 249.2274\n",
      "Epoch 4, Loss: 102.4231\n",
      "Epoch 5, Loss: 79.2588\n",
      "Epoch 6, Loss: 73.6605\n",
      "Epoch 7, Loss: 73.7682\n",
      "Epoch 8, Loss: 67.3138\n",
      "Epoch 9, Loss: 64.7872\n",
      "Epoch 10, Loss: 63.3088\n",
      "Epoch 11, Loss: 61.6138\n",
      "Epoch 12, Loss: 58.7349\n",
      "Epoch 13, Loss: 57.7707\n",
      "Epoch 14, Loss: 57.4317\n",
      "Epoch 15, Loss: 55.1382\n",
      "Epoch 16, Loss: 57.0918\n",
      "Epoch 17, Loss: 55.1739\n",
      "Epoch 18, Loss: 52.4765\n",
      "Epoch 19, Loss: 55.0611\n",
      "Epoch 20, Loss: 52.7251\n",
      "Epoch 21, Loss: 50.3513\n",
      "Epoch 22, Loss: 49.2733\n",
      "Epoch 23, Loss: 51.5007\n",
      "Epoch 24, Loss: 48.7092\n",
      "Epoch 25, Loss: 47.5042\n",
      "Epoch 26, Loss: 47.4314\n",
      "Epoch 27, Loss: 46.4107\n",
      "Epoch 28, Loss: 54.0680\n",
      "Epoch 29, Loss: 48.8829\n",
      "Epoch 30, Loss: 44.4029\n"
     ]
    }
   ],
   "source": [
    "#학습 및 평가\n",
    "model = BMICNN()\n",
    "criterion = nn.MSELoss()\n",
    "optimizer = torch.optim.Adam(model.parameters(), lr=0.001)\n",
    "\n",
    "train_losses = []\n",
    "\n",
    "# Training loop\n",
    "for epoch in range(30):\n",
    "    model.train()\n",
    "    running_loss = 0.0\n",
    "    for xb, yb in train_loader:\n",
    "        optimizer.zero_grad()\n",
    "        preds = model(xb)\n",
    "        loss = criterion(preds, yb)\n",
    "        loss.backward()\n",
    "        optimizer.step()\n",
    "        running_loss += loss.item()\n",
    "    train_losses.append(running_loss / len(train_loader))\n",
    "    print(f\"Epoch {epoch+1}, Loss: {train_losses[-1]:.4f}\")"
   ]
  },
  {
   "cell_type": "code",
   "execution_count": 27,
   "id": "3bcabd48-c1cc-4c4c-9f3d-9e184c6b0578",
   "metadata": {},
   "outputs": [
    {
     "name": "stdout",
     "output_type": "stream",
     "text": [
      "Test MSE: 54.5893\n",
      "R² Score: 0.1999\n"
     ]
    }
   ],
   "source": [
    "# Evaluation\n",
    "model.eval()\n",
    "preds = []\n",
    "actuals = []\n",
    "with torch.no_grad():\n",
    "    for xb, yb in test_loader:\n",
    "        out = model(xb)\n",
    "        preds.extend(out.squeeze().cpu().numpy())\n",
    "        actuals.extend(yb.squeeze().cpu().numpy())\n",
    "\n",
    "mse = mean_squared_error(actuals, preds)\n",
    "r2 = r2_score(actuals, preds)\n",
    "print(f\"Test MSE: {mse:.4f}\")\n",
    "print(f\"R² Score: {r2:.4f}\")"
   ]
  },
  {
   "cell_type": "code",
   "execution_count": null,
   "id": "1a74adc8-9bab-407b-b7c1-54b5452f38c2",
   "metadata": {},
   "outputs": [],
   "source": []
  }
 ],
 "metadata": {
  "kernelspec": {
   "display_name": "Python [conda env:base] *",
   "language": "python",
   "name": "conda-base-py"
  },
  "language_info": {
   "codemirror_mode": {
    "name": "ipython",
    "version": 3
   },
   "file_extension": ".py",
   "mimetype": "text/x-python",
   "name": "python",
   "nbconvert_exporter": "python",
   "pygments_lexer": "ipython3",
   "version": "3.12.7"
  }
 },
 "nbformat": 4,
 "nbformat_minor": 5
}
