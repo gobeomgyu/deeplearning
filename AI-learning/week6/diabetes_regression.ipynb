{
 "cells": [
  {
   "cell_type": "code",
   "execution_count": 2,
   "id": "d318be98-3c99-4c6b-a837-7c3fdb39882f",
   "metadata": {},
   "outputs": [],
   "source": [
    "import pandas as pd\n",
    "import numpy as np\n",
    "from sklearn.model_selection import train_test_split\n",
    "from sklearn.preprocessing import StandardScaler\n",
    "from sklearn.metrics import mean_squared_error\n",
    "import torch\n",
    "import torch.nn as nn\n",
    "import torch.optim as optim\n",
    "from torch.utils.data import TensorDataset, DataLoader"
   ]
  },
  {
   "cell_type": "code",
   "execution_count": 3,
   "id": "8a4823b4-a18c-448c-957b-d64f02aa06fd",
   "metadata": {},
   "outputs": [],
   "source": [
    "# 데이터 로드\n",
    "data = pd.read_csv(\"C:\\\\Users\\\\LG\\\\Downloads\\\\diabetes.csv\")"
   ]
  },
  {
   "cell_type": "code",
   "execution_count": 6,
   "id": "cbd89924-5acb-475b-967e-2a7fa369b1c4",
   "metadata": {},
   "outputs": [],
   "source": [
    "# Outcome 제거, BMI를 예측 타겟으로 설정\n",
    "X = data.drop(columns=['Outcome', 'BMI']).values   # BMI와 Outcome 제외 → 나머지 7개 특성\n",
    "y = data['BMI'].values.astype(np.float32)          # 예측 타겟: BMI (회귀)"
   ]
  },
  {
   "cell_type": "code",
   "execution_count": 8,
   "id": "5da555f2-4268-4cb3-badc-562f582b8563",
   "metadata": {},
   "outputs": [],
   "source": [
    "# 정규화\n",
    "scaler = StandardScaler()\n",
    "X = scaler.fit_transform(X)"
   ]
  },
  {
   "cell_type": "code",
   "execution_count": 10,
   "id": "50e9904a-c91a-4e6e-8596-de013b13a5c1",
   "metadata": {},
   "outputs": [],
   "source": [
    "# 학습/테스트 분할\n",
    "X_train, X_test, y_train, y_test = train_test_split(X, y, test_size=0.2, random_state=42)"
   ]
  },
  {
   "cell_type": "code",
   "execution_count": 12,
   "id": "9cb291dc-33f4-4121-8f5d-49c3d209c511",
   "metadata": {},
   "outputs": [],
   "source": [
    "# 텐서로 변환\n",
    "X_train_tensor = torch.tensor(X_train, dtype=torch.float32)\n",
    "y_train_tensor = torch.tensor(y_train, dtype=torch.float32).view(-1, 1)\n",
    "X_test_tensor = torch.tensor(X_test, dtype=torch.float32)\n",
    "y_test_tensor = torch.tensor(y_test, dtype=torch.float32).view(-1, 1)"
   ]
  },
  {
   "cell_type": "code",
   "execution_count": 14,
   "id": "51d4a06d-b64f-457a-9480-63b414fc688c",
   "metadata": {},
   "outputs": [],
   "source": [
    "# DataLoader 구성\n",
    "train_dataset = TensorDataset(X_train_tensor, y_train_tensor)\n",
    "test_dataset = TensorDataset(X_test_tensor, y_test_tensor)\n",
    "\n",
    "train_loader = DataLoader(train_dataset, batch_size=32, shuffle=True)\n",
    "test_loader = DataLoader(test_dataset, batch_size=32, shuffle=False)"
   ]
  },
  {
   "cell_type": "code",
   "execution_count": 16,
   "id": "5454a8fa-487c-4690-8934-aca2b7e828ae",
   "metadata": {},
   "outputs": [],
   "source": [
    "# MLP 회귀 모델 정의\n",
    "class BMIRegressionModel(nn.Module):\n",
    "    def __init__(self):\n",
    "        super(BMIRegressionModel, self).__init__()\n",
    "        self.model = nn.Sequential(\n",
    "            nn.Linear(7, 64),     # 입력 차원: 7\n",
    "            nn.ReLU(),\n",
    "            nn.Linear(64, 32),\n",
    "            nn.ReLU(),\n",
    "            nn.Linear(32, 1)      # 출력: BMI (회귀)\n",
    "        )\n",
    "\n",
    "    def forward(self, x):\n",
    "        return self.model(x)"
   ]
  },
  {
   "cell_type": "code",
   "execution_count": 18,
   "id": "d9b573c0-9392-4d71-b068-d2f68860519d",
   "metadata": {},
   "outputs": [],
   "source": [
    "# 학습 설정\n",
    "device = torch.device(\"cuda\" if torch.cuda.is_available() else \"cpu\")\n",
    "model = BMIRegressionModel().to(device)\n",
    "criterion = nn.MSELoss()\n",
    "optimizer = optim.Adam(model.parameters(), lr=0.001)"
   ]
  },
  {
   "cell_type": "code",
   "execution_count": 20,
   "id": "e6f5fb9d-d110-4384-9fae-058ff75c15b9",
   "metadata": {},
   "outputs": [
    {
     "name": "stdout",
     "output_type": "stream",
     "text": [
      "Epoch 1, Loss: 1041.8297\n",
      "Epoch 2, Loss: 1010.5800\n",
      "Epoch 3, Loss: 889.6990\n",
      "Epoch 4, Loss: 726.7693\n",
      "Epoch 5, Loss: 517.2225\n",
      "Epoch 6, Loss: 313.6847\n",
      "Epoch 7, Loss: 162.8200\n",
      "Epoch 8, Loss: 98.7786\n",
      "Epoch 9, Loss: 85.1188\n",
      "Epoch 10, Loss: 77.5389\n",
      "Epoch 11, Loss: 75.9847\n",
      "Epoch 12, Loss: 71.7787\n",
      "Epoch 13, Loss: 68.2477\n",
      "Epoch 14, Loss: 66.8928\n",
      "Epoch 15, Loss: 66.0953\n",
      "Epoch 16, Loss: 63.7183\n",
      "Epoch 17, Loss: 61.5986\n",
      "Epoch 18, Loss: 61.3456\n",
      "Epoch 19, Loss: 58.4315\n",
      "Epoch 20, Loss: 58.2348\n",
      "Epoch 21, Loss: 59.1689\n",
      "Epoch 22, Loss: 56.3399\n",
      "Epoch 23, Loss: 55.6525\n",
      "Epoch 24, Loss: 59.4944\n",
      "Epoch 25, Loss: 62.1947\n",
      "Epoch 26, Loss: 53.2449\n",
      "Epoch 27, Loss: 51.2777\n",
      "Epoch 28, Loss: 52.3383\n",
      "Epoch 29, Loss: 52.3614\n",
      "Epoch 30, Loss: 49.0260\n",
      "Epoch 31, Loss: 49.9240\n",
      "Epoch 32, Loss: 53.4309\n",
      "Epoch 33, Loss: 49.4434\n",
      "Epoch 34, Loss: 46.9167\n",
      "Epoch 35, Loss: 48.9908\n",
      "Epoch 36, Loss: 46.5292\n",
      "Epoch 37, Loss: 45.4281\n",
      "Epoch 38, Loss: 45.1257\n",
      "Epoch 39, Loss: 46.4136\n",
      "Epoch 40, Loss: 46.0067\n",
      "Epoch 41, Loss: 44.0930\n",
      "Epoch 42, Loss: 54.4996\n",
      "Epoch 43, Loss: 42.9773\n",
      "Epoch 44, Loss: 42.4325\n",
      "Epoch 45, Loss: 42.4867\n",
      "Epoch 46, Loss: 42.9577\n",
      "Epoch 47, Loss: 44.0058\n",
      "Epoch 48, Loss: 42.0122\n",
      "Epoch 49, Loss: 42.0589\n",
      "Epoch 50, Loss: 41.0398\n"
     ]
    }
   ],
   "source": [
    "# 학습 루프\n",
    "model.train()\n",
    "for epoch in range(50):\n",
    "    total_loss = 0\n",
    "    for X_batch, y_batch in train_loader:\n",
    "        X_batch, y_batch = X_batch.to(device), y_batch.to(device)\n",
    "        optimizer.zero_grad()\n",
    "        output = model(X_batch)\n",
    "        loss = criterion(output, y_batch)\n",
    "        loss.backward()\n",
    "        optimizer.step()\n",
    "        total_loss += loss.item()\n",
    "    print(f\"Epoch {epoch+1}, Loss: {total_loss / len(train_loader):.4f}\")"
   ]
  },
  {
   "cell_type": "code",
   "execution_count": 22,
   "id": "6c1bc794-2728-41de-9bf9-0b05276b6ffb",
   "metadata": {},
   "outputs": [
    {
     "name": "stdout",
     "output_type": "stream",
     "text": [
      "Test MSE: 68.8765\n"
     ]
    }
   ],
   "source": [
    "# 평가\n",
    "model.eval()\n",
    "preds, actuals = [], []\n",
    "with torch.no_grad():\n",
    "    for X_batch, y_batch in test_loader:\n",
    "        X_batch = X_batch.to(device)\n",
    "        output = model(X_batch).cpu().numpy()\n",
    "        preds.extend(output)\n",
    "        actuals.extend(y_batch.numpy())\n",
    "\n",
    "mse = mean_squared_error(actuals, preds)\n",
    "print(f\"Test MSE: {mse:.4f}\")"
   ]
  },
  {
   "cell_type": "code",
   "execution_count": null,
   "id": "3abcd390-0f39-48a2-89c2-c0ddd247d33c",
   "metadata": {},
   "outputs": [],
   "source": []
  }
 ],
 "metadata": {
  "kernelspec": {
   "display_name": "Python [conda env:base] *",
   "language": "python",
   "name": "conda-base-py"
  },
  "language_info": {
   "codemirror_mode": {
    "name": "ipython",
    "version": 3
   },
   "file_extension": ".py",
   "mimetype": "text/x-python",
   "name": "python",
   "nbconvert_exporter": "python",
   "pygments_lexer": "ipython3",
   "version": "3.12.7"
  }
 },
 "nbformat": 4,
 "nbformat_minor": 5
}
