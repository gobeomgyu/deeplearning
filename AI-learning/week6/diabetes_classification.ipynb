{
 "cells": [
  {
   "cell_type": "code",
   "execution_count": 2,
   "id": "27b05110-f602-4440-9641-8d9e19790804",
   "metadata": {},
   "outputs": [],
   "source": [
    "import pandas as pd\n",
    "import numpy as np\n",
    "from sklearn.model_selection import train_test_split\n",
    "from sklearn.preprocessing import StandardScaler\n",
    "from sklearn.metrics import accuracy_score\n",
    "import torch\n",
    "import torch.nn as nn\n",
    "import torch.optim as optim\n",
    "from torch.utils.data import TensorDataset, DataLoader"
   ]
  },
  {
   "cell_type": "code",
   "execution_count": 3,
   "id": "b15b5dd3-5b0e-46f5-9a98-4339e62d5600",
   "metadata": {},
   "outputs": [],
   "source": [
    "# 데이터 로드\n",
    "data = pd.read_csv(\"C:\\\\Users\\\\LG\\\\Downloads\\\\diabetes.csv\")"
   ]
  },
  {
   "cell_type": "code",
   "execution_count": 6,
   "id": "a95f907d-0408-49a0-af0f-ba9917affd25",
   "metadata": {},
   "outputs": [],
   "source": [
    "# 특성과 타겟 분리\n",
    "X = data.drop(columns=['Outcome']).values\n",
    "y = data['Outcome'].values.astype(np.int64)  # 분류이므로 int64"
   ]
  },
  {
   "cell_type": "code",
   "execution_count": 8,
   "id": "570d08b8-e3ec-4560-b5dd-927ae63b8f4e",
   "metadata": {},
   "outputs": [],
   "source": [
    "# 정규화\n",
    "scaler = StandardScaler()\n",
    "X = scaler.fit_transform(X)"
   ]
  },
  {
   "cell_type": "code",
   "execution_count": 10,
   "id": "62c17b6c-baac-42ee-b953-9b3f723e764d",
   "metadata": {},
   "outputs": [],
   "source": [
    "# train/test 분할\n",
    "X_train, X_test, y_train, y_test = train_test_split(X, y, test_size=0.2, random_state=42)"
   ]
  },
  {
   "cell_type": "code",
   "execution_count": 12,
   "id": "fa613495-18bd-404e-ac32-8deb231edc35",
   "metadata": {},
   "outputs": [],
   "source": [
    "# Tensor 변환\n",
    "X_train_tensor = torch.tensor(X_train, dtype=torch.float32)\n",
    "y_train_tensor = torch.tensor(y_train, dtype=torch.long)\n",
    "X_test_tensor = torch.tensor(X_test, dtype=torch.float32)\n",
    "y_test_tensor = torch.tensor(y_test, dtype=torch.long)\n",
    "\n",
    "train_dataset = TensorDataset(X_train_tensor, y_train_tensor)\n",
    "test_dataset = TensorDataset(X_test_tensor, y_test_tensor)\n",
    "\n",
    "train_loader = DataLoader(train_dataset, batch_size=32, shuffle=True)\n",
    "test_loader = DataLoader(test_dataset, batch_size=32)"
   ]
  },
  {
   "cell_type": "code",
   "execution_count": 14,
   "id": "2709908f-c1c6-4387-88ab-02beaef7b741",
   "metadata": {},
   "outputs": [],
   "source": [
    "# 이진 분류 모델 정의\n",
    "class ClassificationModel(nn.Module):\n",
    "    def __init__(self):\n",
    "        super(ClassificationModel, self).__init__()\n",
    "        self.model = nn.Sequential(\n",
    "            nn.Linear(8, 64),\n",
    "            nn.ReLU(),\n",
    "            nn.Linear(64, 32),\n",
    "            nn.ReLU(),\n",
    "            nn.Linear(32, 2)  # 이진 분류: 클래스 2개\n",
    "        )\n",
    "\n",
    "    def forward(self, x):\n",
    "        return self.model(x)"
   ]
  },
  {
   "cell_type": "code",
   "execution_count": 16,
   "id": "c4b288fb-5004-480a-aa78-aa670d5ca30a",
   "metadata": {},
   "outputs": [],
   "source": [
    "device = torch.device(\"cuda\" if torch.cuda.is_available() else \"cpu\")\n",
    "model = ClassificationModel().to(device)\n",
    "criterion = nn.CrossEntropyLoss()  # 분류용 손실 함수\n",
    "optimizer = optim.Adam(model.parameters(), lr=0.001)"
   ]
  },
  {
   "cell_type": "code",
   "execution_count": 18,
   "id": "91e8b589-4387-476d-849f-b70867bbc063",
   "metadata": {},
   "outputs": [
    {
     "name": "stdout",
     "output_type": "stream",
     "text": [
      "Epoch 1, Loss: 0.6342\n",
      "Epoch 2, Loss: 0.5676\n",
      "Epoch 3, Loss: 0.5134\n",
      "Epoch 4, Loss: 0.4744\n",
      "Epoch 5, Loss: 0.4540\n",
      "Epoch 6, Loss: 0.4542\n",
      "Epoch 7, Loss: 0.4377\n",
      "Epoch 8, Loss: 0.4392\n",
      "Epoch 9, Loss: 0.4289\n",
      "Epoch 10, Loss: 0.4163\n",
      "Epoch 11, Loss: 0.4254\n",
      "Epoch 12, Loss: 0.4391\n",
      "Epoch 13, Loss: 0.4130\n",
      "Epoch 14, Loss: 0.4029\n",
      "Epoch 15, Loss: 0.3971\n",
      "Epoch 16, Loss: 0.4071\n",
      "Epoch 17, Loss: 0.4085\n",
      "Epoch 18, Loss: 0.4021\n",
      "Epoch 19, Loss: 0.4006\n",
      "Epoch 20, Loss: 0.3953\n",
      "Epoch 21, Loss: 0.4070\n",
      "Epoch 22, Loss: 0.3884\n",
      "Epoch 23, Loss: 0.3848\n",
      "Epoch 24, Loss: 0.3800\n",
      "Epoch 25, Loss: 0.3808\n",
      "Epoch 26, Loss: 0.3777\n",
      "Epoch 27, Loss: 0.3764\n",
      "Epoch 28, Loss: 0.3688\n",
      "Epoch 29, Loss: 0.3739\n",
      "Epoch 30, Loss: 0.3747\n",
      "Epoch 31, Loss: 0.3750\n",
      "Epoch 32, Loss: 0.3744\n",
      "Epoch 33, Loss: 0.3667\n",
      "Epoch 34, Loss: 0.3699\n",
      "Epoch 35, Loss: 0.3711\n",
      "Epoch 36, Loss: 0.3669\n",
      "Epoch 37, Loss: 0.3522\n",
      "Epoch 38, Loss: 0.3577\n",
      "Epoch 39, Loss: 0.3580\n",
      "Epoch 40, Loss: 0.3467\n",
      "Epoch 41, Loss: 0.3514\n",
      "Epoch 42, Loss: 0.3400\n",
      "Epoch 43, Loss: 0.3451\n",
      "Epoch 44, Loss: 0.3443\n",
      "Epoch 45, Loss: 0.3443\n",
      "Epoch 46, Loss: 0.3342\n",
      "Epoch 47, Loss: 0.3676\n",
      "Epoch 48, Loss: 0.3341\n",
      "Epoch 49, Loss: 0.3339\n",
      "Epoch 50, Loss: 0.3349\n"
     ]
    }
   ],
   "source": [
    "# 학습 루프\n",
    "model.train()\n",
    "for epoch in range(50):\n",
    "    total_loss = 0\n",
    "    for X_batch, y_batch in train_loader:\n",
    "        X_batch, y_batch = X_batch.to(device), y_batch.to(device)\n",
    "        optimizer.zero_grad()\n",
    "        output = model(X_batch)\n",
    "        loss = criterion(output, y_batch)\n",
    "        loss.backward()\n",
    "        optimizer.step()\n",
    "        total_loss += loss.item()\n",
    "    print(f\"Epoch {epoch+1}, Loss: {total_loss / len(train_loader):.4f}\")"
   ]
  },
  {
   "cell_type": "code",
   "execution_count": 20,
   "id": "b32bf151-5c2b-4eda-be24-5bbe6d957075",
   "metadata": {},
   "outputs": [],
   "source": [
    "# 평가\n",
    "model.eval()\n",
    "all_preds = []\n",
    "with torch.no_grad():\n",
    "    for X_batch, _ in test_loader:\n",
    "        X_batch = X_batch.to(device)\n",
    "        outputs = model(X_batch)\n",
    "        preds = torch.argmax(outputs, dim=1).cpu().numpy()\n",
    "        all_preds.extend(preds)"
   ]
  },
  {
   "cell_type": "code",
   "execution_count": 22,
   "id": "6f79c962-c1cf-46ae-a4e7-3f3aabadb8a5",
   "metadata": {},
   "outputs": [
    {
     "name": "stdout",
     "output_type": "stream",
     "text": [
      "Test Accuracy: 74.03%\n"
     ]
    }
   ],
   "source": [
    "accuracy = accuracy_score(y_test, all_preds)\n",
    "print(f\"Test Accuracy: {accuracy * 100:.2f}%\")"
   ]
  },
  {
   "cell_type": "code",
   "execution_count": null,
   "id": "d105d406-ace5-4745-8c06-616f516f12d6",
   "metadata": {},
   "outputs": [],
   "source": []
  }
 ],
 "metadata": {
  "kernelspec": {
   "display_name": "Python [conda env:base] *",
   "language": "python",
   "name": "conda-base-py"
  },
  "language_info": {
   "codemirror_mode": {
    "name": "ipython",
    "version": 3
   },
   "file_extension": ".py",
   "mimetype": "text/x-python",
   "name": "python",
   "nbconvert_exporter": "python",
   "pygments_lexer": "ipython3",
   "version": "3.12.7"
  }
 },
 "nbformat": 4,
 "nbformat_minor": 5
}
