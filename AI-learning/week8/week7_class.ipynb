{
 "cells": [
  {
   "cell_type": "code",
   "execution_count": 198,
   "id": "9e41ade5-c11e-4b43-ac8b-0d8b8792237a",
   "metadata": {},
   "outputs": [],
   "source": [
    "import pandas as pd\n",
    "import numpy as np\n",
    "import torch\n",
    "import torch.nn as nn\n",
    "import torch.optim as optim\n",
    "from torch.utils.data import Dataset, DataLoader, TensorDataset\n",
    "from sklearn.preprocessing import LabelEncoder\n",
    "from sklearn.metrics import precision_score, recall_score, f1_score, roc_auc_score, confusion_matrix, ConfusionMatrixDisplay\n",
    "from sklearn.preprocessing import StandardScaler\n",
    "from sklearn.model_selection import train_test_split\n",
    "\n",
    "import matplotlib.pyplot as plt\n",
    "from torchsummary import summary\n",
    "import numpy as np\n",
    "from sklearn.utils.class_weight import compute_class_weight  # ✅ 클래스 가중치 계산용"
   ]
  },
  {
   "cell_type": "code",
   "execution_count": 200,
   "id": "ba72ed52-b98a-4eac-8028-29fba171589c",
   "metadata": {},
   "outputs": [],
   "source": [
    "# 데이터셋 인스턴스 생성\n",
    "\n",
    "data = pd.read_csv(\"C:\\\\Users\\\\LG\\\\Downloads\\\\BP_data.csv\")  # CSV 파일 경로"
   ]
  },
  {
   "cell_type": "code",
   "execution_count": 238,
   "id": "b9e77943-77ab-46a9-9e05-ee3c34cdef6d",
   "metadata": {},
   "outputs": [
    {
     "name": "stdout",
     "output_type": "stream",
     "text": [
      "클래스 분포: [1013  987]\n"
     ]
    }
   ],
   "source": [
    "data.columns\n",
    "\n",
    "print(\"클래스 분포:\", np.bincount(y.astype(int)))"
   ]
  },
  {
   "cell_type": "code",
   "execution_count": 204,
   "id": "e4a88292-7e33-4b5b-b4ca-32f210a5f035",
   "metadata": {},
   "outputs": [],
   "source": [
    "columns=['Patient_Number', 'Blood_Pressure_Abnormality', 'Level_of_Hemoglobin',\n",
    "       'Genetic_Pedigree_Coefficient', 'Age', 'BMI', 'Sex', 'Pregnancy',\n",
    "       'Smoking', 'Physical_activity', 'salt_content_in_the_diet',\n",
    "       'alcohol_consumption_per_day', 'Level_of_Stress',\n",
    "       'Chronic_kidney_disease', 'Adrenal_and_thyroid_disorders']"
   ]
  },
  {
   "cell_type": "code",
   "execution_count": 206,
   "id": "f62b1247-873e-409a-a3b1-5f5adf0ecd0d",
   "metadata": {},
   "outputs": [],
   "source": [
    "# 데이터와 타겟 분리\n",
    "X = data.drop(['Patient_Number', 'Blood_Pressure_Abnormality'], axis=1).values\n",
    "y = data['Blood_Pressure_Abnormality'].values"
   ]
  },
  {
   "cell_type": "code",
   "execution_count": 208,
   "id": "0729e7e8-63e4-434c-b6e0-34703a85ec0f",
   "metadata": {},
   "outputs": [],
   "source": [
    "# Standardize the data\n",
    "scaler = StandardScaler()\n",
    "X = scaler.fit_transform(X)\n",
    "\n",
    "# Split the dataset into training and test sets\n",
    "X_train, X_test, y_train, y_test = train_test_split(X, y, test_size=0.2, random_state=0)"
   ]
  },
  {
   "cell_type": "code",
   "execution_count": 210,
   "id": "4b8ddd77-f5b5-4ac5-80da-fdf3711dc075",
   "metadata": {},
   "outputs": [
    {
     "data": {
      "text/plain": [
       "((1600, 13), (400, 13), (1600,), (400,))"
      ]
     },
     "execution_count": 210,
     "metadata": {},
     "output_type": "execute_result"
    }
   ],
   "source": [
    "X_train.shape, X_test.shape, y_train.shape, y_test.shape, "
   ]
  },
  {
   "cell_type": "code",
   "execution_count": 212,
   "id": "840f8ccf-9232-44bc-9d85-3cd01448f009",
   "metadata": {},
   "outputs": [],
   "source": [
    "import torch\n",
    "\n",
    "# NumPy 배열을 Tensor로 변환 후 전처리\n",
    "y_train = torch.tensor(y_train, dtype=torch.float32).view(-1, 1)\n",
    "y_test = torch.tensor(y_test, dtype=torch.float32).view(-1, 1)"
   ]
  },
  {
   "cell_type": "code",
   "execution_count": 214,
   "id": "0f624fee-cb45-4ca5-aea8-15522ad15a22",
   "metadata": {},
   "outputs": [],
   "source": [
    "import torch\n",
    "\n",
    "# NumPy 배열을 PyTorch Tensor로 변환하고 float32로 캐스팅\n",
    "X_train = torch.tensor(X_train, dtype=torch.float32)\n",
    "X_test = torch.tensor(X_test, dtype=torch.float32)"
   ]
  },
  {
   "cell_type": "code",
   "execution_count": 216,
   "id": "7e3d410a-cace-45ab-bdbc-f9fbcbea28d1",
   "metadata": {},
   "outputs": [],
   "source": [
    "# Create DataLoader\n",
    "train_dataset = TensorDataset(X_train, y_train)\n",
    "train_dataloader = DataLoader(train_dataset, batch_size=32, shuffle=True)\n",
    "\n",
    "test_dataset = TensorDataset(X_test, y_test)\n",
    "test_dataloader = DataLoader(test_dataset, batch_size=32, shuffle=False)"
   ]
  },
  {
   "cell_type": "code",
   "execution_count": 218,
   "id": "a6ac6718-f060-403e-8c8a-236bfee4efda",
   "metadata": {},
   "outputs": [
    {
     "data": {
      "text/plain": [
       "(torch.Size([1600, 13]),\n",
       " torch.Size([400, 13]),\n",
       " torch.Size([1600, 1]),\n",
       " torch.Size([400, 1]))"
      ]
     },
     "execution_count": 218,
     "metadata": {},
     "output_type": "execute_result"
    }
   ],
   "source": [
    "X_train.shape, X_test.shape, y_train.shape, y_test.shape"
   ]
  },
  {
   "cell_type": "code",
   "execution_count": 220,
   "id": "aeb93d81-3df8-47e2-9fc8-bdf424b16bf8",
   "metadata": {},
   "outputs": [],
   "source": [
    "# 모델 정의\n",
    "class BPNet(nn.Module):\n",
    "    def __init__(self, input_dim):\n",
    "        super(BPNet, self).__init__()\n",
    "        self.net = nn.Sequential(\n",
    "            nn.Linear(input_dim, 64),\n",
    "            nn.ReLU(),\n",
    "            nn.Linear(64, 32),\n",
    "            nn.ReLU(),\n",
    "            nn.Linear(32, 1)  # 출력층: sigmoid 없음 (BCEWithLogitsLoss 사용 예정)\n",
    "        )\n",
    "\n",
    "    def forward(self, x):\n",
    "        return self.net(x)\n",
    "# 모델 초기화\n",
    "model = BPNet(input_dim=X_train.shape[1])"
   ]
  },
  {
   "cell_type": "code",
   "execution_count": 222,
   "id": "e3017e54-d58d-4273-9ed1-10ef412158c3",
   "metadata": {},
   "outputs": [],
   "source": [
    "# 학습 및 평가 저장용 리스트\n",
    "train_losses = []\n",
    "test_accuracies = []\n",
    "\n",
    "from sklearn.utils.class_weight import compute_class_weight\n",
    "import torch\n",
    "\n",
    "# 정수형 클래스 벡터로 변환\n",
    "y_np = y.astype(int)  # ← y = data['Blood_Pressure_Abnormality'].values\n",
    "\n",
    "# 클래스 가중치 계산\n",
    "class_weights = compute_class_weight(class_weight='balanced', classes=np.unique(y_np), y=y_np)\n",
    "\n",
    "# torch 텐서로 변환\n",
    "class_weights = torch.tensor(class_weights, dtype=torch.float32)\n",
    "\n",
    "# BCEWithLogitsLoss는 양성 클래스(1)에 대한 가중치만 받음\n",
    "pos_weight = class_weights[1]  # 🔧 이것이 손실 함수에 들어갈 변수"
   ]
  },
  {
   "cell_type": "code",
   "execution_count": 224,
   "id": "cf40c853-e9d5-4b21-bf7c-fa2c307b8528",
   "metadata": {},
   "outputs": [],
   "source": [
    "# ✅ 클래스 불균형 반영한 손실 함수 적용 (여기!)\n",
    "criterion = nn.BCEWithLogitsLoss(pos_weight=pos_weight)\n",
    "\n",
    "optimizer = optim.Adam(model.parameters(), lr=0.001)"
   ]
  },
  {
   "cell_type": "code",
   "execution_count": 226,
   "id": "79145fc5-70ee-4367-97e5-414b34875155",
   "metadata": {},
   "outputs": [
    {
     "name": "stdout",
     "output_type": "stream",
     "text": [
      "Epoch 1/20, Loss: nan, Accuracy: 52.00%\n",
      "Epoch 2/20, Loss: nan, Accuracy: 52.00%\n",
      "Epoch 3/20, Loss: nan, Accuracy: 52.00%\n",
      "Epoch 4/20, Loss: nan, Accuracy: 52.00%\n",
      "Epoch 5/20, Loss: nan, Accuracy: 52.00%\n",
      "Epoch 6/20, Loss: nan, Accuracy: 52.00%\n",
      "Epoch 7/20, Loss: nan, Accuracy: 52.00%\n",
      "Epoch 8/20, Loss: nan, Accuracy: 52.00%\n",
      "Epoch 9/20, Loss: nan, Accuracy: 52.00%\n",
      "Epoch 10/20, Loss: nan, Accuracy: 52.00%\n",
      "Epoch 11/20, Loss: nan, Accuracy: 52.00%\n",
      "Epoch 12/20, Loss: nan, Accuracy: 52.00%\n",
      "Epoch 13/20, Loss: nan, Accuracy: 52.00%\n",
      "Epoch 14/20, Loss: nan, Accuracy: 52.00%\n",
      "Epoch 15/20, Loss: nan, Accuracy: 52.00%\n",
      "Epoch 16/20, Loss: nan, Accuracy: 52.00%\n",
      "Epoch 17/20, Loss: nan, Accuracy: 52.00%\n",
      "Epoch 18/20, Loss: nan, Accuracy: 52.00%\n",
      "Epoch 19/20, Loss: nan, Accuracy: 52.00%\n",
      "Epoch 20/20, Loss: nan, Accuracy: 52.00%\n",
      "Training complete.\n"
     ]
    }
   ],
   "source": [
    "# 학습 루프\n",
    "num_epochs = 20\n",
    "for epoch in range(num_epochs):\n",
    "    model.train()\n",
    "    running_loss = 0.0\n",
    "    for inputs, labels in train_dataloader:\n",
    "        optimizer.zero_grad()\n",
    "        outputs = model(inputs)\n",
    "        loss = criterion(outputs, labels)\n",
    "        loss.backward()\n",
    "        optimizer.step()\n",
    "        running_loss += loss.item()\n",
    "\n",
    "    train_losses.append(running_loss / len(train_dataloader))\n",
    "\n",
    "   # 테스트 정확도 계산\n",
    "    model.eval()\n",
    "    correct = 0\n",
    "    total = 0\n",
    "    all_preds = []\n",
    "    all_labels = []\n",
    "    with torch.no_grad():\n",
    "        for inputs, labels in test_dataloader:\n",
    "            outputs = model(inputs)\n",
    "            preds = (torch.sigmoid(outputs) >= 0.5).float()\n",
    "            total += labels.size(0)\n",
    "            correct += (preds == labels).sum().item()\n",
    "            all_preds.extend(preds.cpu().numpy())\n",
    "            all_labels.extend(labels.cpu().numpy())\n",
    "\n",
    "    accuracy = 100 * correct / total\n",
    "    test_accuracies.append(accuracy)\n",
    "\n",
    "    print(f\"Epoch {epoch+1}/{num_epochs}, Loss: {train_losses[-1]:.4f}, Accuracy: {accuracy:.2f}%\")\n",
    "\n",
    "print(\"Training complete.\")"
   ]
  },
  {
   "cell_type": "code",
   "execution_count": 228,
   "id": "9fa6acf2-ac83-49bf-ba4e-b2501f880af9",
   "metadata": {},
   "outputs": [],
   "source": [
    "from sklearn.metrics import precision_score"
   ]
  },
  {
   "cell_type": "code",
   "execution_count": 230,
   "id": "11487cfb-fd00-43e4-968f-5171ca14894f",
   "metadata": {},
   "outputs": [
    {
     "name": "stdout",
     "output_type": "stream",
     "text": [
      "Confusion Matrix:\n",
      "[[208   0]\n",
      " [192   0]]\n",
      "F1 Score: 0.36\n",
      "Precision: 0.27\n",
      "Recall: 0.52\n",
      "Specificity: 0.50\n"
     ]
    },
    {
     "name": "stderr",
     "output_type": "stream",
     "text": [
      "C:\\Users\\LG\\anaconda3\\Lib\\site-packages\\sklearn\\metrics\\_classification.py:1531: UndefinedMetricWarning: Precision is ill-defined and being set to 0.0 in labels with no predicted samples. Use `zero_division` parameter to control this behavior.\n",
      "  _warn_prf(average, modifier, f\"{metric.capitalize()} is\", len(result))\n"
     ]
    }
   ],
   "source": [
    "# Evaluation\n",
    "model.eval()\n",
    "all_labels = []\n",
    "all_predictions = []\n",
    "with torch.no_grad():\n",
    "    for inputs, labels in test_dataloader:\n",
    "        outputs = model(inputs)\n",
    "        predicted = (outputs >= 0.5).float()  # 🔧 이진 분류 방식에 맞는 예측\n",
    "        all_labels.extend(labels.cpu().numpy())\n",
    "        all_predictions.extend(predicted.cpu().numpy())\n",
    "\n",
    "y_true = np.array(all_labels)\n",
    "y_pred = np.array(all_predictions)\n",
    "\n",
    "# Convert to numpy arrays\n",
    "all_labels = np.array(all_labels)\n",
    "all_predictions = np.array(all_predictions)\n",
    "\n",
    "# Calculate metrics\n",
    "conf_matrix = confusion_matrix(all_labels, all_predictions)\n",
    "f1 = f1_score(all_labels, all_predictions, average='weighted')\n",
    "precision = precision_score(all_labels, all_predictions, average='weighted')\n",
    "recall = recall_score(all_labels, all_predictions, average='weighted')\n",
    "\n",
    "# Calculate specificity for each class\n",
    "specificity = []\n",
    "for i in range(conf_matrix.shape[0]):\n",
    "    tn = conf_matrix.sum() - (conf_matrix[i, :].sum() + conf_matrix[:, i].sum() - conf_matrix[i, i])\n",
    "    fp = conf_matrix[:, i].sum() - conf_matrix[i, i]\n",
    "    specificity.append(tn / (tn + fp))\n",
    "\n",
    "print(f'Confusion Matrix:\\n{conf_matrix}')\n",
    "print(f'F1 Score: {f1:.2f}')\n",
    "print(f'Precision: {precision:.2f}')\n",
    "print(f'Recall: {recall:.2f}')\n",
    "print(f'Specificity: {np.mean(specificity):.2f}')"
   ]
  },
  {
   "cell_type": "code",
   "execution_count": 232,
   "id": "1a3a62ef-5317-490a-b91d-9cdd1ed333a5",
   "metadata": {},
   "outputs": [
    {
     "data": {
      "image/png": "[encoded data removed]",
      "text/plain": [
       "<Figure size 1200x500 with 2 Axes>"
      ]
     },
     "metadata": {},
     "output_type": "display_data"
    }
   ],
   "source": [
    "# Plot the loss and accuracy\n",
    "plt.figure(figsize=(12, 5))\n",
    "\n",
    "# Plot loss\n",
    "plt.subplot(1, 2, 1)\n",
    "plt.plot(train_losses, label='Training Loss')\n",
    "plt.xlabel('Epoch')\n",
    "plt.ylabel('Loss')\n",
    "plt.title('Training Loss Over Epochs')\n",
    "plt.legend()\n",
    "\n",
    "# Plot accuracy\n",
    "plt.subplot(1, 2, 2)\n",
    "plt.plot(test_accuracies, label='Test Accuracy')\n",
    "plt.xlabel('Epoch')\n",
    "plt.ylabel('Accuracy (%)')\n",
    "plt.title('Test Accuracy Over Epochs')\n",
    "plt.legend()\n",
    "\n",
    "plt.show()"
   ]
  },
  {
   "cell_type": "code",
   "execution_count": null,
   "id": "367a1b8e-1abf-450e-a883-d2f45a42df85",
   "metadata": {},
   "outputs": [],
   "source": []
  }
 ],
 "metadata": {
  "kernelspec": {
   "display_name": "Python [conda env:base] *",
   "language": "python",
   "name": "conda-base-py"
  },
  "language_info": {
   "codemirror_mode": {
    "name": "ipython",
    "version": 3
   },
   "file_extension": ".py",
   "mimetype": "text/x-python",
   "name": "python",
   "nbconvert_exporter": "python",
   "pygments_lexer": "ipython3",
   "version": "3.12.7"
  }
 },
 "nbformat": 4,
 "nbformat_minor": 5
}
