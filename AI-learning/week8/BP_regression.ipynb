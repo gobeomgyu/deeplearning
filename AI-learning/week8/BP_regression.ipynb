{
 "cells": [
  {
   "cell_type": "code",
   "execution_count": 76,
   "id": "7e33b89d-c005-4339-b9b9-5cf3142bea15",
   "metadata": {},
   "outputs": [],
   "source": [
    "import pandas as pd\n",
    "import numpy as np\n",
    "from sklearn.model_selection import train_test_split\n",
    "from sklearn.preprocessing import StandardScaler\n",
    "from sklearn.metrics import mean_squared_error\n",
    "import torch\n",
    "import torch.nn as nn\n",
    "import torch.optim as optim\n",
    "from torch.utils.data import TensorDataset, DataLoader"
   ]
  },
  {
   "cell_type": "code",
   "execution_count": 78,
   "id": "fdce85d1-5113-40c9-8005-df871be402b9",
   "metadata": {},
   "outputs": [],
   "source": [
    "# 데이터 로드\n",
    "data = pd.read_csv(\"C:\\\\Users\\\\LG\\\\Downloads\\\\BP_data.csv\")"
   ]
  },
  {
   "cell_type": "code",
   "execution_count": 80,
   "id": "e7b162cf-835a-4010-8860-26c3f466e8c5",
   "metadata": {},
   "outputs": [
    {
     "data": {
      "text/plain": [
       "Patient_Number                      0\n",
       "Blood_Pressure_Abnormality          0\n",
       "Level_of_Hemoglobin                 0\n",
       "Genetic_Pedigree_Coefficient       92\n",
       "Age                                 0\n",
       "BMI                                 0\n",
       "Sex                                 0\n",
       "Pregnancy                        1558\n",
       "Smoking                             0\n",
       "Physical_activity                   0\n",
       "salt_content_in_the_diet            0\n",
       "alcohol_consumption_per_day       242\n",
       "Level_of_Stress                     0\n",
       "Chronic_kidney_disease              0\n",
       "Adrenal_and_thyroid_disorders       0\n",
       "dtype: int64"
      ]
     },
     "execution_count": 80,
     "metadata": {},
     "output_type": "execute_result"
    }
   ],
   "source": [
    "data.isnull().sum()"
   ]
  },
  {
   "cell_type": "code",
   "execution_count": 82,
   "id": "84a4a550-3815-4eee-8f0f-c12499c1fbf3",
   "metadata": {},
   "outputs": [],
   "source": [
    "data = data.fillna(0)"
   ]
  },
  {
   "cell_type": "code",
   "execution_count": 84,
   "id": "e7b739d3-03fe-40d2-9a72-e6e4e54010ca",
   "metadata": {},
   "outputs": [],
   "source": [
    "# 불필요 컬럼 제거, 레이블을 예측 타겟으로 설정\n",
    "X = data.drop(columns=['Patient_Number', 'Blood_Pressure_Abnormality']).values  \n",
    "y = data['Blood_Pressure_Abnormality'].values.astype(np.float32)         "
   ]
  },
  {
   "cell_type": "code",
   "execution_count": 86,
   "id": "052acb13-ea5a-4115-9c30-50bd333c6acf",
   "metadata": {},
   "outputs": [],
   "source": [
    "# 정규화\n",
    "scaler = StandardScaler()\n",
    "X = scaler.fit_transform(X)"
   ]
  },
  {
   "cell_type": "code",
   "execution_count": 88,
   "id": "b0fbe7be-c21c-4aae-b0b3-53c83c6ab363",
   "metadata": {},
   "outputs": [],
   "source": [
    "# 학습/테스트 분할\n",
    "X_train, X_test, y_train, y_test = train_test_split(X, y, test_size=0.2, random_state=42)"
   ]
  },
  {
   "cell_type": "code",
   "execution_count": 90,
   "id": "09e784fd-a105-48a9-aa7a-68a2188cca88",
   "metadata": {},
   "outputs": [],
   "source": [
    "# 텐서로 변환\n",
    "X_train_tensor = torch.tensor(X_train, dtype=torch.float32)\n",
    "y_train_tensor = torch.tensor(y_train, dtype=torch.float32).view(-1, 1)\n",
    "X_test_tensor = torch.tensor(X_test, dtype=torch.float32)\n",
    "y_test_tensor = torch.tensor(y_test, dtype=torch.float32).view(-1, 1)"
   ]
  },
  {
   "cell_type": "code",
   "execution_count": 92,
   "id": "fde75643-92f2-47d2-9414-74d5d514db69",
   "metadata": {},
   "outputs": [],
   "source": [
    "# DataLoader 구성\n",
    "train_dataset = TensorDataset(X_train_tensor, y_train_tensor)\n",
    "test_dataset = TensorDataset(X_test_tensor, y_test_tensor)\n",
    "\n",
    "train_loader = DataLoader(train_dataset, batch_size=32, shuffle=True)\n",
    "test_loader = DataLoader(test_dataset, batch_size=32, shuffle=False)"
   ]
  },
  {
   "cell_type": "code",
   "execution_count": 94,
   "id": "60aab760-b940-455f-8d7e-9dee8d9e9ed1",
   "metadata": {},
   "outputs": [],
   "source": [
    "# MLP 회귀 모델 정의\n",
    "class BPRegressionModel(nn.Module):\n",
    "    def __init__(self):\n",
    "        super(BPRegressionModel, self).__init__()\n",
    "        self.model = nn.Sequential(\n",
    "            nn.Linear(13, 64),     # 입력 차원: 13\n",
    "            nn.ReLU(),\n",
    "            nn.Linear(64, 32),\n",
    "            nn.ReLU(),\n",
    "            nn.Linear(32, 1)      \n",
    "        )\n",
    "\n",
    "    def forward(self, x):\n",
    "        return self.model(x)"
   ]
  },
  {
   "cell_type": "code",
   "execution_count": 96,
   "id": "2ed2bf8d-1546-4112-8862-f7ab0d23ed50",
   "metadata": {},
   "outputs": [],
   "source": [
    "# 학습 설정\n",
    "device = torch.device(\"cuda\" if torch.cuda.is_available() else \"cpu\")\n",
    "model = BPRegressionModel().to(device)\n",
    "criterion = nn.MSELoss()\n",
    "optimizer = optim.Adam(model.parameters(), lr=0.001)"
   ]
  },
  {
   "cell_type": "code",
   "execution_count": 98,
   "id": "cf04ee11-e677-43bf-9d0e-222a352349dd",
   "metadata": {},
   "outputs": [
    {
     "name": "stdout",
     "output_type": "stream",
     "text": [
      "Epoch 1, Loss: 0.3654\n",
      "Epoch 2, Loss: 0.1847\n",
      "Epoch 3, Loss: 0.1672\n",
      "Epoch 4, Loss: 0.1592\n",
      "Epoch 5, Loss: 0.1527\n",
      "Epoch 6, Loss: 0.1447\n",
      "Epoch 7, Loss: 0.1376\n",
      "Epoch 8, Loss: 0.1317\n",
      "Epoch 9, Loss: 0.1256\n",
      "Epoch 10, Loss: 0.1195\n",
      "Epoch 11, Loss: 0.1131\n",
      "Epoch 12, Loss: 0.1105\n",
      "Epoch 13, Loss: 0.1068\n",
      "Epoch 14, Loss: 0.1050\n",
      "Epoch 15, Loss: 0.1030\n",
      "Epoch 16, Loss: 0.1003\n",
      "Epoch 17, Loss: 0.0987\n",
      "Epoch 18, Loss: 0.0970\n",
      "Epoch 19, Loss: 0.0940\n",
      "Epoch 20, Loss: 0.0926\n",
      "Epoch 21, Loss: 0.0921\n",
      "Epoch 22, Loss: 0.0905\n",
      "Epoch 23, Loss: 0.0877\n",
      "Epoch 24, Loss: 0.0869\n",
      "Epoch 25, Loss: 0.0842\n",
      "Epoch 26, Loss: 0.0825\n",
      "Epoch 27, Loss: 0.0807\n",
      "Epoch 28, Loss: 0.0793\n",
      "Epoch 29, Loss: 0.0770\n",
      "Epoch 30, Loss: 0.0762\n",
      "Epoch 31, Loss: 0.0737\n",
      "Epoch 32, Loss: 0.0722\n",
      "Epoch 33, Loss: 0.0707\n",
      "Epoch 34, Loss: 0.0701\n",
      "Epoch 35, Loss: 0.0692\n",
      "Epoch 36, Loss: 0.0674\n",
      "Epoch 37, Loss: 0.0672\n",
      "Epoch 38, Loss: 0.0661\n",
      "Epoch 39, Loss: 0.0632\n",
      "Epoch 40, Loss: 0.0623\n",
      "Epoch 41, Loss: 0.0601\n",
      "Epoch 42, Loss: 0.0604\n",
      "Epoch 43, Loss: 0.0582\n",
      "Epoch 44, Loss: 0.0573\n",
      "Epoch 45, Loss: 0.0574\n",
      "Epoch 46, Loss: 0.0563\n",
      "Epoch 47, Loss: 0.0548\n",
      "Epoch 48, Loss: 0.0544\n",
      "Epoch 49, Loss: 0.0523\n",
      "Epoch 50, Loss: 0.0514\n"
     ]
    }
   ],
   "source": [
    "# 학습 루프\n",
    "model.train()\n",
    "for epoch in range(50):\n",
    "    total_loss = 0\n",
    "    for X_batch, y_batch in train_loader:\n",
    "        X_batch, y_batch = X_batch.to(device), y_batch.to(device)\n",
    "        optimizer.zero_grad()\n",
    "        output = model(X_batch)\n",
    "        loss = criterion(output, y_batch)\n",
    "        loss.backward()\n",
    "        optimizer.step()\n",
    "        total_loss += loss.item()\n",
    "    print(f\"Epoch {epoch+1}, Loss: {total_loss / len(train_loader):.4f}\")"
   ]
  },
  {
   "cell_type": "code",
   "execution_count": 99,
   "id": "22706ee7-0257-470d-8b11-c64584bfc461",
   "metadata": {},
   "outputs": [
    {
     "name": "stdout",
     "output_type": "stream",
     "text": [
      "Test MSE: 0.1503\n"
     ]
    }
   ],
   "source": [
    "# 평가\n",
    "model.eval()\n",
    "preds, actuals = [], []\n",
    "with torch.no_grad():\n",
    "    for X_batch, y_batch in test_loader:\n",
    "        X_batch = X_batch.to(device)\n",
    "        output = model(X_batch).cpu().numpy()\n",
    "        preds.extend(output)\n",
    "        actuals.extend(y_batch.numpy())\n",
    "\n",
    "mse = mean_squared_error(actuals, preds)\n",
    "print(f\"Test MSE: {mse:.4f}\")"
   ]
  },
  {
   "cell_type": "code",
   "execution_count": null,
   "id": "15efbf27-2d2b-4f80-b62d-ada8c2f8b9ab",
   "metadata": {},
   "outputs": [],
   "source": []
  }
 ],
 "metadata": {
  "kernelspec": {
   "display_name": "Python [conda env:base] *",
   "language": "python",
   "name": "conda-base-py"
  },
  "language_info": {
   "codemirror_mode": {
    "name": "ipython",
    "version": 3
   },
   "file_extension": ".py",
   "mimetype": "text/x-python",
   "name": "python",
   "nbconvert_exporter": "python",
   "pygments_lexer": "ipython3",
   "version": "3.12.7"
  }
 },
 "nbformat": 4,
 "nbformat_minor": 5
}
