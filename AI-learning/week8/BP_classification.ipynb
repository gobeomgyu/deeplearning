{
 "cells": [
  {
   "cell_type": "code",
   "execution_count": 2,
   "id": "08621492-a117-4cec-8820-d8837aa47a5f",
   "metadata": {},
   "outputs": [],
   "source": [
    "import pandas as pd\n",
    "import numpy as np\n",
    "from sklearn.model_selection import train_test_split\n",
    "from sklearn.preprocessing import StandardScaler\n",
    "from sklearn.metrics import accuracy_score\n",
    "import torch\n",
    "import torch.nn as nn\n",
    "import torch.optim as optim\n",
    "from torch.utils.data import TensorDataset, DataLoader"
   ]
  },
  {
   "cell_type": "code",
   "execution_count": 3,
   "id": "5a51eda7-630b-4bd6-a9a0-d37c4f4603aa",
   "metadata": {},
   "outputs": [],
   "source": [
    "# 데이터 로드\n",
    "data = pd.read_csv(\"C:\\\\Users\\\\LG\\\\Downloads\\\\BP_data.csv\")"
   ]
  },
  {
   "cell_type": "code",
   "execution_count": 6,
   "id": "1f800412-e46e-4e2c-b8ae-eb98245a8a62",
   "metadata": {},
   "outputs": [],
   "source": [
    "data.isnull().sum()\n",
    "data = data.fillna(0)"
   ]
  },
  {
   "cell_type": "code",
   "execution_count": 8,
   "id": "a8728975-1a5f-48b4-b7a5-809aabebd576",
   "metadata": {},
   "outputs": [],
   "source": [
    "# 특성과 타겟 분리\n",
    "X = data.drop(columns=['Blood_Pressure_Abnormality']).values\n",
    "y = data['Blood_Pressure_Abnormality'].values.astype(np.int64)  # 분류이므로 int64"
   ]
  },
  {
   "cell_type": "code",
   "execution_count": 10,
   "id": "33ab2864-d914-4ebf-ad52-33784e8d4f65",
   "metadata": {},
   "outputs": [],
   "source": [
    "# 정규화\n",
    "scaler = StandardScaler()\n",
    "X = scaler.fit_transform(X)"
   ]
  },
  {
   "cell_type": "code",
   "execution_count": 12,
   "id": "616fe4c7-f5e1-4f3b-8c9f-03624d4c5e11",
   "metadata": {},
   "outputs": [],
   "source": [
    "# train/test 분할\n",
    "X_train, X_test, y_train, y_test = train_test_split(X, y, test_size=0.2, random_state=42)"
   ]
  },
  {
   "cell_type": "code",
   "execution_count": 14,
   "id": "87fc26c8-ff26-449e-a2a3-d5411f134f55",
   "metadata": {},
   "outputs": [],
   "source": [
    "# Tensor 변환\n",
    "X_train_tensor = torch.tensor(X_train, dtype=torch.float32)\n",
    "y_train_tensor = torch.tensor(y_train, dtype=torch.long)\n",
    "X_test_tensor = torch.tensor(X_test, dtype=torch.float32)\n",
    "y_test_tensor = torch.tensor(y_test, dtype=torch.long)\n",
    "\n",
    "train_dataset = TensorDataset(X_train_tensor, y_train_tensor)\n",
    "test_dataset = TensorDataset(X_test_tensor, y_test_tensor)\n",
    "\n",
    "train_loader = DataLoader(train_dataset, batch_size=32, shuffle=True)\n",
    "test_loader = DataLoader(test_dataset, batch_size=32)"
   ]
  },
  {
   "cell_type": "code",
   "execution_count": 16,
   "id": "2c3989db-3204-4296-8955-a7013139875d",
   "metadata": {},
   "outputs": [],
   "source": [
    "# 이진 분류 모델 정의\n",
    "class ClassificationModel(nn.Module):\n",
    "    def __init__(self):\n",
    "        super(ClassificationModel, self).__init__()\n",
    "        self.model = nn.Sequential(\n",
    "            nn.Linear(14, 64),\n",
    "            nn.ReLU(),\n",
    "            nn.Linear(64, 32),\n",
    "            nn.ReLU(),\n",
    "            nn.Linear(32, 2)  # 이진 분류: 클래스 2개\n",
    "        )\n",
    "\n",
    "    def forward(self, x):\n",
    "        return self.model(x)"
   ]
  },
  {
   "cell_type": "code",
   "execution_count": 18,
   "id": "6d2d9432-1b51-418a-89e0-c81468d6ab05",
   "metadata": {},
   "outputs": [],
   "source": [
    "device = torch.device(\"cuda\" if torch.cuda.is_available() else \"cpu\")\n",
    "model = ClassificationModel().to(device)\n",
    "criterion = nn.CrossEntropyLoss()  # 분류용 손실 함수\n",
    "optimizer = optim.Adam(model.parameters(), lr=0.001)"
   ]
  },
  {
   "cell_type": "code",
   "execution_count": 20,
   "id": "3b1a8f5f-f92c-4b69-8600-905add9bd037",
   "metadata": {},
   "outputs": [
    {
     "name": "stdout",
     "output_type": "stream",
     "text": [
      "Epoch 1, Loss: 0.6422\n",
      "Epoch 2, Loss: 0.5420\n",
      "Epoch 3, Loss: 0.5027\n",
      "Epoch 4, Loss: 0.4769\n",
      "Epoch 5, Loss: 0.4525\n",
      "Epoch 6, Loss: 0.4273\n",
      "Epoch 7, Loss: 0.4039\n",
      "Epoch 8, Loss: 0.3846\n",
      "Epoch 9, Loss: 0.3627\n",
      "Epoch 10, Loss: 0.3480\n",
      "Epoch 11, Loss: 0.3377\n",
      "Epoch 12, Loss: 0.3290\n",
      "Epoch 13, Loss: 0.3220\n",
      "Epoch 14, Loss: 0.3134\n",
      "Epoch 15, Loss: 0.3078\n",
      "Epoch 16, Loss: 0.3059\n",
      "Epoch 17, Loss: 0.2967\n",
      "Epoch 18, Loss: 0.2940\n",
      "Epoch 19, Loss: 0.2874\n",
      "Epoch 20, Loss: 0.2833\n",
      "Epoch 21, Loss: 0.2817\n",
      "Epoch 22, Loss: 0.2781\n",
      "Epoch 23, Loss: 0.2689\n",
      "Epoch 24, Loss: 0.2679\n",
      "Epoch 25, Loss: 0.2650\n",
      "Epoch 26, Loss: 0.2594\n",
      "Epoch 27, Loss: 0.2609\n",
      "Epoch 28, Loss: 0.2570\n",
      "Epoch 29, Loss: 0.2507\n",
      "Epoch 30, Loss: 0.2447\n",
      "Epoch 31, Loss: 0.2405\n",
      "Epoch 32, Loss: 0.2416\n",
      "Epoch 33, Loss: 0.2344\n",
      "Epoch 34, Loss: 0.2325\n",
      "Epoch 35, Loss: 0.2282\n",
      "Epoch 36, Loss: 0.2257\n",
      "Epoch 37, Loss: 0.2228\n",
      "Epoch 38, Loss: 0.2193\n",
      "Epoch 39, Loss: 0.2106\n",
      "Epoch 40, Loss: 0.2102\n",
      "Epoch 41, Loss: 0.2077\n",
      "Epoch 42, Loss: 0.2058\n",
      "Epoch 43, Loss: 0.1984\n",
      "Epoch 44, Loss: 0.1972\n",
      "Epoch 45, Loss: 0.1948\n",
      "Epoch 46, Loss: 0.1886\n",
      "Epoch 47, Loss: 0.1860\n",
      "Epoch 48, Loss: 0.1883\n",
      "Epoch 49, Loss: 0.1789\n",
      "Epoch 50, Loss: 0.1752\n"
     ]
    }
   ],
   "source": [
    "# 학습 루프\n",
    "model.train()\n",
    "for epoch in range(50):\n",
    "    total_loss = 0\n",
    "    for X_batch, y_batch in train_loader:\n",
    "        X_batch, y_batch = X_batch.to(device), y_batch.to(device)\n",
    "        optimizer.zero_grad()\n",
    "        output = model(X_batch)\n",
    "        loss = criterion(output, y_batch)\n",
    "        loss.backward()\n",
    "        optimizer.step()\n",
    "        total_loss += loss.item()\n",
    "    print(f\"Epoch {epoch+1}, Loss: {total_loss / len(train_loader):.4f}\")"
   ]
  },
  {
   "cell_type": "code",
   "execution_count": 22,
   "id": "88ee12e2-ddea-4ba3-a2e2-743c6d1a69b6",
   "metadata": {},
   "outputs": [],
   "source": [
    "# 평가\n",
    "model.eval()\n",
    "all_preds = []\n",
    "with torch.no_grad():\n",
    "    for X_batch, _ in test_loader:\n",
    "        X_batch = X_batch.to(device)\n",
    "        outputs = model(X_batch)\n",
    "        preds = torch.argmax(outputs, dim=1).cpu().numpy()\n",
    "        all_preds.extend(preds)"
   ]
  },
  {
   "cell_type": "code",
   "execution_count": 24,
   "id": "4ffc15df-4144-4d22-baed-8e70d7f9a929",
   "metadata": {},
   "outputs": [
    {
     "name": "stdout",
     "output_type": "stream",
     "text": [
      "Test Accuracy: 84.00%\n"
     ]
    }
   ],
   "source": [
    "accuracy = accuracy_score(y_test, all_preds)\n",
    "print(f\"Test Accuracy: {accuracy * 100:.2f}%\")"
   ]
  },
  {
   "cell_type": "code",
   "execution_count": null,
   "id": "93b0f44b-d7f0-4e45-bc12-5ea53765e132",
   "metadata": {},
   "outputs": [],
   "source": []
  }
 ],
 "metadata": {
  "kernelspec": {
   "display_name": "Python [conda env:base] *",
   "language": "python",
   "name": "conda-base-py"
  },
  "language_info": {
   "codemirror_mode": {
    "name": "ipython",
    "version": 3
   },
   "file_extension": ".py",
   "mimetype": "text/x-python",
   "name": "python",
   "nbconvert_exporter": "python",
   "pygments_lexer": "ipython3",
   "version": "3.12.7"
  }
 },
 "nbformat": 4,
 "nbformat_minor": 5
}
