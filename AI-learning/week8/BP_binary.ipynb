{
 "cells": [
  {
   "cell_type": "code",
   "execution_count": 2,
   "id": "b39be758-4116-428e-af67-ab5a7d89a5c9",
   "metadata": {},
   "outputs": [
    {
     "name": "stdout",
     "output_type": "stream",
     "text": [
      "Requirement already satisfied: torch in c:\\users\\lg\\anaconda3\\lib\\site-packages (2.6.0)\n",
      "Requirement already satisfied: torchvision in c:\\users\\lg\\anaconda3\\lib\\site-packages (0.21.0)\n",
      "Requirement already satisfied: torchaudio in c:\\users\\lg\\anaconda3\\lib\\site-packages (2.6.0)\n",
      "Requirement already satisfied: filelock in c:\\users\\lg\\anaconda3\\lib\\site-packages (from torch) (3.13.1)\n",
      "Requirement already satisfied: typing-extensions>=4.10.0 in c:\\users\\lg\\anaconda3\\lib\\site-packages (from torch) (4.11.0)\n",
      "Requirement already satisfied: networkx in c:\\users\\lg\\anaconda3\\lib\\site-packages (from torch) (3.3)\n",
      "Requirement already satisfied: jinja2 in c:\\users\\lg\\anaconda3\\lib\\site-packages (from torch) (3.1.4)\n",
      "Requirement already satisfied: fsspec in c:\\users\\lg\\anaconda3\\lib\\site-packages (from torch) (2024.6.1)\n",
      "Requirement already satisfied: setuptools in c:\\users\\lg\\anaconda3\\lib\\site-packages (from torch) (75.1.0)\n",
      "Requirement already satisfied: sympy==1.13.1 in c:\\users\\lg\\anaconda3\\lib\\site-packages (from torch) (1.13.1)\n",
      "Requirement already satisfied: mpmath<1.4,>=1.1.0 in c:\\users\\lg\\anaconda3\\lib\\site-packages (from sympy==1.13.1->torch) (1.3.0)\n",
      "Requirement already satisfied: numpy in c:\\users\\lg\\anaconda3\\lib\\site-packages (from torchvision) (1.26.4)\n",
      "Requirement already satisfied: pillow!=8.3.*,>=5.3.0 in c:\\users\\lg\\anaconda3\\lib\\site-packages (from torchvision) (10.4.0)\n",
      "Requirement already satisfied: MarkupSafe>=2.0 in c:\\users\\lg\\anaconda3\\lib\\site-packages (from jinja2->torch) (2.1.3)\n",
      "Note: you may need to restart the kernel to use updated packages.\n"
     ]
    }
   ],
   "source": [
    "pip install torch torchvision torchaudio"
   ]
  },
  {
   "cell_type": "code",
   "execution_count": 3,
   "id": "698705a5-8d36-440d-9f46-02491e88ec36",
   "metadata": {},
   "outputs": [
    {
     "name": "stdout",
     "output_type": "stream",
     "text": [
      "Requirement already satisfied: torchsummary in c:\\users\\lg\\anaconda3\\lib\\site-packages (1.5.1)\n"
     ]
    }
   ],
   "source": [
    "!pip install torchsummary"
   ]
  },
  {
   "cell_type": "code",
   "execution_count": 351,
   "id": "4020136d-604d-4b26-a70a-1482b576ab24",
   "metadata": {},
   "outputs": [],
   "source": [
    "import pandas as pd\n",
    "import numpy as np\n",
    "import torch\n",
    "import torch.nn as nn\n",
    "import torch.optim as optim\n",
    "from torch.utils.data import Dataset, DataLoader, TensorDataset\n",
    "from sklearn.preprocessing import LabelEncoder\n",
    "from sklearn.metrics import precision_score, recall_score, f1_score, roc_auc_score, confusion_matrix, ConfusionMatrixDisplay\n",
    "from sklearn.preprocessing import StandardScaler\n",
    "from sklearn.model_selection import train_test_split\n",
    "\n",
    "import matplotlib.pyplot as plt\n",
    "from torchsummary import summary\n",
    "import numpy as np"
   ]
  },
  {
   "cell_type": "code",
   "execution_count": 353,
   "id": "f1a34b4c-dbab-47ea-94a3-62441de082f8",
   "metadata": {},
   "outputs": [],
   "source": [
    "# 데이터 로드\n",
    "data = pd.read_csv(\"C:\\\\Users\\\\LG\\\\Downloads\\\\BP_data.csv\")"
   ]
  },
  {
   "cell_type": "code",
   "execution_count": 355,
   "id": "2bed2ee6-bbc6-4744-98ab-457fe88fcd67",
   "metadata": {},
   "outputs": [
    {
     "data": {
      "text/html": [
       "<div>\n",
       "<style scoped>\n",
       "    .dataframe tbody tr th:only-of-type {\n",
       "        vertical-align: middle;\n",
       "    }\n",
       "\n",
       "    .dataframe tbody tr th {\n",
       "        vertical-align: top;\n",
       "    }\n",
       "\n",
       "    .dataframe thead th {\n",
       "        text-align: right;\n",
       "    }\n",
       "</style>\n",
       "<table border=\"1\" class=\"dataframe\">\n",
       "  <thead>\n",
       "    <tr style=\"text-align: right;\">\n",
       "      <th></th>\n",
       "      <th>Patient_Number</th>\n",
       "      <th>Blood_Pressure_Abnormality</th>\n",
       "      <th>Level_of_Hemoglobin</th>\n",
       "      <th>Genetic_Pedigree_Coefficient</th>\n",
       "      <th>Age</th>\n",
       "      <th>BMI</th>\n",
       "      <th>Sex</th>\n",
       "      <th>Pregnancy</th>\n",
       "      <th>Smoking</th>\n",
       "      <th>Physical_activity</th>\n",
       "      <th>salt_content_in_the_diet</th>\n",
       "      <th>alcohol_consumption_per_day</th>\n",
       "      <th>Level_of_Stress</th>\n",
       "      <th>Chronic_kidney_disease</th>\n",
       "      <th>Adrenal_and_thyroid_disorders</th>\n",
       "    </tr>\n",
       "  </thead>\n",
       "  <tbody>\n",
       "    <tr>\n",
       "      <th>0</th>\n",
       "      <td>1</td>\n",
       "      <td>1</td>\n",
       "      <td>11.28</td>\n",
       "      <td>0.90</td>\n",
       "      <td>34</td>\n",
       "      <td>23</td>\n",
       "      <td>1</td>\n",
       "      <td>1.0</td>\n",
       "      <td>0</td>\n",
       "      <td>45961</td>\n",
       "      <td>48071</td>\n",
       "      <td>NaN</td>\n",
       "      <td>2</td>\n",
       "      <td>1</td>\n",
       "      <td>1</td>\n",
       "    </tr>\n",
       "    <tr>\n",
       "      <th>1</th>\n",
       "      <td>2</td>\n",
       "      <td>0</td>\n",
       "      <td>9.75</td>\n",
       "      <td>0.23</td>\n",
       "      <td>54</td>\n",
       "      <td>33</td>\n",
       "      <td>1</td>\n",
       "      <td>NaN</td>\n",
       "      <td>0</td>\n",
       "      <td>26106</td>\n",
       "      <td>25333</td>\n",
       "      <td>205.0</td>\n",
       "      <td>3</td>\n",
       "      <td>0</td>\n",
       "      <td>0</td>\n",
       "    </tr>\n",
       "    <tr>\n",
       "      <th>2</th>\n",
       "      <td>3</td>\n",
       "      <td>1</td>\n",
       "      <td>10.79</td>\n",
       "      <td>0.91</td>\n",
       "      <td>70</td>\n",
       "      <td>49</td>\n",
       "      <td>0</td>\n",
       "      <td>NaN</td>\n",
       "      <td>0</td>\n",
       "      <td>9995</td>\n",
       "      <td>29465</td>\n",
       "      <td>67.0</td>\n",
       "      <td>2</td>\n",
       "      <td>1</td>\n",
       "      <td>0</td>\n",
       "    </tr>\n",
       "    <tr>\n",
       "      <th>3</th>\n",
       "      <td>4</td>\n",
       "      <td>0</td>\n",
       "      <td>11.00</td>\n",
       "      <td>0.43</td>\n",
       "      <td>71</td>\n",
       "      <td>50</td>\n",
       "      <td>0</td>\n",
       "      <td>NaN</td>\n",
       "      <td>0</td>\n",
       "      <td>10635</td>\n",
       "      <td>7439</td>\n",
       "      <td>242.0</td>\n",
       "      <td>1</td>\n",
       "      <td>1</td>\n",
       "      <td>0</td>\n",
       "    </tr>\n",
       "    <tr>\n",
       "      <th>4</th>\n",
       "      <td>5</td>\n",
       "      <td>1</td>\n",
       "      <td>14.17</td>\n",
       "      <td>0.83</td>\n",
       "      <td>52</td>\n",
       "      <td>19</td>\n",
       "      <td>0</td>\n",
       "      <td>NaN</td>\n",
       "      <td>0</td>\n",
       "      <td>15619</td>\n",
       "      <td>49644</td>\n",
       "      <td>397.0</td>\n",
       "      <td>2</td>\n",
       "      <td>0</td>\n",
       "      <td>0</td>\n",
       "    </tr>\n",
       "    <tr>\n",
       "      <th>...</th>\n",
       "      <td>...</td>\n",
       "      <td>...</td>\n",
       "      <td>...</td>\n",
       "      <td>...</td>\n",
       "      <td>...</td>\n",
       "      <td>...</td>\n",
       "      <td>...</td>\n",
       "      <td>...</td>\n",
       "      <td>...</td>\n",
       "      <td>...</td>\n",
       "      <td>...</td>\n",
       "      <td>...</td>\n",
       "      <td>...</td>\n",
       "      <td>...</td>\n",
       "      <td>...</td>\n",
       "    </tr>\n",
       "    <tr>\n",
       "      <th>1995</th>\n",
       "      <td>1996</td>\n",
       "      <td>1</td>\n",
       "      <td>10.14</td>\n",
       "      <td>0.02</td>\n",
       "      <td>69</td>\n",
       "      <td>26</td>\n",
       "      <td>1</td>\n",
       "      <td>NaN</td>\n",
       "      <td>1</td>\n",
       "      <td>26118</td>\n",
       "      <td>47568</td>\n",
       "      <td>144.0</td>\n",
       "      <td>3</td>\n",
       "      <td>1</td>\n",
       "      <td>0</td>\n",
       "    </tr>\n",
       "    <tr>\n",
       "      <th>1996</th>\n",
       "      <td>1997</td>\n",
       "      <td>1</td>\n",
       "      <td>11.77</td>\n",
       "      <td>1.00</td>\n",
       "      <td>24</td>\n",
       "      <td>45</td>\n",
       "      <td>1</td>\n",
       "      <td>1.0</td>\n",
       "      <td>1</td>\n",
       "      <td>2572</td>\n",
       "      <td>8063</td>\n",
       "      <td>NaN</td>\n",
       "      <td>3</td>\n",
       "      <td>1</td>\n",
       "      <td>1</td>\n",
       "    </tr>\n",
       "    <tr>\n",
       "      <th>1997</th>\n",
       "      <td>1998</td>\n",
       "      <td>1</td>\n",
       "      <td>16.91</td>\n",
       "      <td>0.22</td>\n",
       "      <td>18</td>\n",
       "      <td>42</td>\n",
       "      <td>0</td>\n",
       "      <td>NaN</td>\n",
       "      <td>0</td>\n",
       "      <td>14933</td>\n",
       "      <td>24753</td>\n",
       "      <td>NaN</td>\n",
       "      <td>2</td>\n",
       "      <td>1</td>\n",
       "      <td>1</td>\n",
       "    </tr>\n",
       "    <tr>\n",
       "      <th>1998</th>\n",
       "      <td>1999</td>\n",
       "      <td>0</td>\n",
       "      <td>11.15</td>\n",
       "      <td>0.72</td>\n",
       "      <td>46</td>\n",
       "      <td>45</td>\n",
       "      <td>1</td>\n",
       "      <td>NaN</td>\n",
       "      <td>1</td>\n",
       "      <td>18157</td>\n",
       "      <td>15275</td>\n",
       "      <td>253.0</td>\n",
       "      <td>3</td>\n",
       "      <td>0</td>\n",
       "      <td>1</td>\n",
       "    </tr>\n",
       "    <tr>\n",
       "      <th>1999</th>\n",
       "      <td>2000</td>\n",
       "      <td>1</td>\n",
       "      <td>11.36</td>\n",
       "      <td>0.09</td>\n",
       "      <td>41</td>\n",
       "      <td>45</td>\n",
       "      <td>0</td>\n",
       "      <td>NaN</td>\n",
       "      <td>0</td>\n",
       "      <td>20729</td>\n",
       "      <td>30463</td>\n",
       "      <td>230.0</td>\n",
       "      <td>1</td>\n",
       "      <td>1</td>\n",
       "      <td>0</td>\n",
       "    </tr>\n",
       "  </tbody>\n",
       "</table>\n",
       "<p>2000 rows × 15 columns</p>\n",
       "</div>"
      ],
      "text/plain": [
       "      Patient_Number  Blood_Pressure_Abnormality  Level_of_Hemoglobin  \\\n",
       "0                  1                           1                11.28   \n",
       "1                  2                           0                 9.75   \n",
       "2                  3                           1                10.79   \n",
       "3                  4                           0                11.00   \n",
       "4                  5                           1                14.17   \n",
       "...              ...                         ...                  ...   \n",
       "1995            1996                           1                10.14   \n",
       "1996            1997                           1                11.77   \n",
       "1997            1998                           1                16.91   \n",
       "1998            1999                           0                11.15   \n",
       "1999            2000                           1                11.36   \n",
       "\n",
       "      Genetic_Pedigree_Coefficient  Age  BMI  Sex  Pregnancy  Smoking  \\\n",
       "0                             0.90   34   23    1        1.0        0   \n",
       "1                             0.23   54   33    1        NaN        0   \n",
       "2                             0.91   70   49    0        NaN        0   \n",
       "3                             0.43   71   50    0        NaN        0   \n",
       "4                             0.83   52   19    0        NaN        0   \n",
       "...                            ...  ...  ...  ...        ...      ...   \n",
       "1995                          0.02   69   26    1        NaN        1   \n",
       "1996                          1.00   24   45    1        1.0        1   \n",
       "1997                          0.22   18   42    0        NaN        0   \n",
       "1998                          0.72   46   45    1        NaN        1   \n",
       "1999                          0.09   41   45    0        NaN        0   \n",
       "\n",
       "      Physical_activity  salt_content_in_the_diet  \\\n",
       "0                 45961                     48071   \n",
       "1                 26106                     25333   \n",
       "2                  9995                     29465   \n",
       "3                 10635                      7439   \n",
       "4                 15619                     49644   \n",
       "...                 ...                       ...   \n",
       "1995              26118                     47568   \n",
       "1996               2572                      8063   \n",
       "1997              14933                     24753   \n",
       "1998              18157                     15275   \n",
       "1999              20729                     30463   \n",
       "\n",
       "      alcohol_consumption_per_day  Level_of_Stress  Chronic_kidney_disease  \\\n",
       "0                             NaN                2                       1   \n",
       "1                           205.0                3                       0   \n",
       "2                            67.0                2                       1   \n",
       "3                           242.0                1                       1   \n",
       "4                           397.0                2                       0   \n",
       "...                           ...              ...                     ...   \n",
       "1995                        144.0                3                       1   \n",
       "1996                          NaN                3                       1   \n",
       "1997                          NaN                2                       1   \n",
       "1998                        253.0                3                       0   \n",
       "1999                        230.0                1                       1   \n",
       "\n",
       "      Adrenal_and_thyroid_disorders  \n",
       "0                                 1  \n",
       "1                                 0  \n",
       "2                                 0  \n",
       "3                                 0  \n",
       "4                                 0  \n",
       "...                             ...  \n",
       "1995                              0  \n",
       "1996                              1  \n",
       "1997                              1  \n",
       "1998                              1  \n",
       "1999                              0  \n",
       "\n",
       "[2000 rows x 15 columns]"
      ]
     },
     "execution_count": 355,
     "metadata": {},
     "output_type": "execute_result"
    }
   ],
   "source": [
    "data"
   ]
  },
  {
   "cell_type": "code",
   "execution_count": 357,
   "id": "d5dffae3-5ee5-43b4-bca0-dc9dccfe598f",
   "metadata": {},
   "outputs": [
    {
     "data": {
      "text/plain": [
       "Index(['Patient_Number', 'Blood_Pressure_Abnormality', 'Level_of_Hemoglobin',\n",
       "       'Genetic_Pedigree_Coefficient', 'Age', 'BMI', 'Sex', 'Pregnancy',\n",
       "       'Smoking', 'Physical_activity', 'salt_content_in_the_diet',\n",
       "       'alcohol_consumption_per_day', 'Level_of_Stress',\n",
       "       'Chronic_kidney_disease', 'Adrenal_and_thyroid_disorders'],\n",
       "      dtype='object')"
      ]
     },
     "execution_count": 357,
     "metadata": {},
     "output_type": "execute_result"
    }
   ],
   "source": [
    "data.columns"
   ]
  },
  {
   "cell_type": "code",
   "execution_count": 359,
   "id": "e9ff16ea-b727-4909-838e-30ba9cb62d8a",
   "metadata": {},
   "outputs": [],
   "source": [
    "data.isnull().sum()\n",
    "data = data.fillna(0)"
   ]
  },
  {
   "cell_type": "code",
   "execution_count": 361,
   "id": "b4a6ecf2-7adf-4689-a6bd-7998965ed47c",
   "metadata": {},
   "outputs": [],
   "source": [
    "# 특성과 타겟 분리\n",
    "X = data.drop(columns=['Blood_Pressure_Abnormality']).values\n",
    "y = data['Blood_Pressure_Abnormality'].values.astype(np.int64)  # 분류이므로 int64"
   ]
  },
  {
   "cell_type": "code",
   "execution_count": 363,
   "id": "fdf5c93a-96b5-4182-989f-19734f38402b",
   "metadata": {},
   "outputs": [],
   "source": [
    "# Standardize the data\n",
    "scaler = StandardScaler()\n",
    "X = scaler.fit_transform(X)\n",
    "\n",
    "# Split the dataset into training and test sets\n",
    "X_train, X_test, y_train, y_test = train_test_split(X, y, test_size=0.2, random_state=0)"
   ]
  },
  {
   "cell_type": "code",
   "execution_count": 365,
   "id": "8865b9e5-3f01-4c1e-a685-544858e64f21",
   "metadata": {},
   "outputs": [
    {
     "data": {
      "text/plain": [
       "((1600, 14), (400, 14), (1600,), (400,))"
      ]
     },
     "execution_count": 365,
     "metadata": {},
     "output_type": "execute_result"
    }
   ],
   "source": [
    "X_train.shape, X_test.shape, y_train.shape, y_test.shape, "
   ]
  },
  {
   "cell_type": "code",
   "execution_count": 367,
   "id": "adbbfaae-d154-4d2f-a6bc-f0f840b3836c",
   "metadata": {},
   "outputs": [],
   "source": [
    "import torch\n",
    "\n",
    "# NumPy 배열을 Tensor로 변환 후 전처리\n",
    "y_train = torch.tensor(y_train, dtype=torch.float32).view(-1, 1)\n",
    "y_test = torch.tensor(y_test, dtype=torch.float32).view(-1, 1)"
   ]
  },
  {
   "cell_type": "code",
   "execution_count": 369,
   "id": "8f030d7d-4ca0-4f3c-ad3b-e38a2b063eb7",
   "metadata": {},
   "outputs": [],
   "source": [
    "import torch\n",
    "\n",
    "# NumPy 배열을 PyTorch Tensor로 변환하고 float32로 캐스팅\n",
    "X_train = torch.tensor(X_train, dtype=torch.float32)\n",
    "X_test = torch.tensor(X_test, dtype=torch.float32)"
   ]
  },
  {
   "cell_type": "code",
   "execution_count": 371,
   "id": "504537e4-e461-453b-8d2e-7ab56acc7a6c",
   "metadata": {},
   "outputs": [],
   "source": [
    "# Create DataLoader\n",
    "train_dataset = TensorDataset(X_train, y_train)\n",
    "train_dataloader = DataLoader(train_dataset, batch_size=32, shuffle=True)\n",
    "\n",
    "test_dataset = TensorDataset(X_test, y_test)\n",
    "test_dataloader = DataLoader(test_dataset, batch_size=32, shuffle=False)"
   ]
  },
  {
   "cell_type": "code",
   "execution_count": 373,
   "id": "8a2dbc2f-dcef-41ee-aac1-021c15923fe0",
   "metadata": {},
   "outputs": [
    {
     "data": {
      "text/plain": [
       "(torch.Size([1600, 14]),\n",
       " torch.Size([400, 14]),\n",
       " torch.Size([1600, 1]),\n",
       " torch.Size([400, 1]))"
      ]
     },
     "execution_count": 373,
     "metadata": {},
     "output_type": "execute_result"
    }
   ],
   "source": [
    "X_train.shape, X_test.shape, y_train.shape, y_test.shape, "
   ]
  },
  {
   "cell_type": "code",
   "execution_count": 375,
   "id": "0c2f5c2e-6c1e-494b-aab2-afddab04cbaa",
   "metadata": {},
   "outputs": [],
   "source": [
    "import torch.nn as nn\n",
    "\n",
    "class diabetesDense(nn.Module):\n",
    "    def __init__(self):\n",
    "        super(diabetesDense, self).__init__()\n",
    "        self.net = nn.Sequential(\n",
    "            nn.Linear(14, 64),   # 입력층 → 은닉층1\n",
    "            nn.ReLU(),\n",
    "            nn.Linear(64, 32),  # 은닉층1 → 은닉층2\n",
    "            nn.ReLU(),\n",
    "            nn.Linear(32, 1),   # 은닉층2 → 출력층\n",
    "            nn.Sigmoid()\n",
    "        )\n",
    "\n",
    "    def forward(self, x):\n",
    "        return self.net(x)\n",
    "\n",
    "# 모델 초기화\n",
    "model = diabetesDense()"
   ]
  },
  {
   "cell_type": "code",
   "execution_count": 377,
   "id": "f09ba141-4dfb-48dc-8bca-2565285a0fad",
   "metadata": {},
   "outputs": [],
   "source": [
    "# 🔧 손실 함수 BCELoss로 수정\n",
    "criterion = nn.BCELoss()\n",
    "optimizer = optim.Adam(model.parameters(), lr=0.001)"
   ]
  },
  {
   "cell_type": "code",
   "execution_count": 379,
   "id": "bcc4fe59-7924-4f96-ab13-acfb89e63f49",
   "metadata": {},
   "outputs": [],
   "source": [
    "# Variables to store loss and accuracy\n",
    "train_losses = []\n",
    "test_accuracies = []"
   ]
  },
  {
   "cell_type": "code",
   "execution_count": 381,
   "id": "780237a2-1886-45d8-8aae-1723cdf18d00",
   "metadata": {},
   "outputs": [
    {
     "name": "stdout",
     "output_type": "stream",
     "text": [
      "Epoch 1/20, Loss: 0.6617, Accuracy: 70.50%\n",
      "Epoch 2/20, Loss: 0.5696, Accuracy: 73.50%\n",
      "Epoch 3/20, Loss: 0.5241, Accuracy: 71.75%\n",
      "Epoch 4/20, Loss: 0.5077, Accuracy: 74.50%\n",
      "Epoch 5/20, Loss: 0.4913, Accuracy: 76.75%\n",
      "Epoch 6/20, Loss: 0.4773, Accuracy: 76.75%\n",
      "Epoch 7/20, Loss: 0.4579, Accuracy: 79.00%\n",
      "Epoch 8/20, Loss: 0.4396, Accuracy: 80.00%\n",
      "Epoch 9/20, Loss: 0.4210, Accuracy: 81.75%\n",
      "Epoch 10/20, Loss: 0.4044, Accuracy: 82.75%\n",
      "Epoch 11/20, Loss: 0.3816, Accuracy: 85.75%\n",
      "Epoch 12/20, Loss: 0.3631, Accuracy: 85.50%\n",
      "Epoch 13/20, Loss: 0.3492, Accuracy: 86.00%\n",
      "Epoch 14/20, Loss: 0.3362, Accuracy: 87.00%\n",
      "Epoch 15/20, Loss: 0.3244, Accuracy: 85.50%\n",
      "Epoch 16/20, Loss: 0.3153, Accuracy: 85.75%\n",
      "Epoch 17/20, Loss: 0.3100, Accuracy: 85.50%\n",
      "Epoch 18/20, Loss: 0.3050, Accuracy: 86.25%\n",
      "Epoch 19/20, Loss: 0.2995, Accuracy: 86.25%\n",
      "Epoch 20/20, Loss: 0.2954, Accuracy: 84.75%\n",
      "Training complete.\n"
     ]
    }
   ],
   "source": [
    "# Training loop\n",
    "num_epochs = 20\n",
    "for epoch in range(num_epochs):\n",
    "    model.train()\n",
    "    running_loss = 0.0\n",
    "    for inputs, labels in train_dataloader:\n",
    "        # Zero the parameter gradients\n",
    "        optimizer.zero_grad()\n",
    "\n",
    "        # Forward pass\n",
    "        outputs = model(inputs)\n",
    "        loss = criterion(outputs, labels)\n",
    "\n",
    "        # Backward pass and optimize\n",
    "        loss.backward()\n",
    "        optimizer.step()\n",
    "\n",
    "        running_loss += loss.item()\n",
    "\n",
    "    # Calculate average loss over an epoch\n",
    "    train_losses.append(running_loss / len(train_dataloader))\n",
    "\n",
    "    # Evaluate on test data\n",
    "    model.eval()\n",
    "    correct = 0\n",
    "    total = 0\n",
    "    with torch.no_grad():\n",
    "        for inputs, labels in test_dataloader:\n",
    "            outputs = model(inputs)\n",
    "            predicted = (outputs >= 0.5).float()  # 🔧 확률 기준 이진 분류\n",
    "            total += labels.size(0)\n",
    "            correct += (predicted == labels).sum().item()\n",
    "\n",
    "    accuracy = 100 * correct / total\n",
    "    test_accuracies.append(accuracy)\n",
    "\n",
    "    print(f\"Epoch {epoch + 1}/{num_epochs}, Loss: {train_losses[-1]:.4f}, Accuracy: {accuracy:.2f}%\")\n",
    "\n",
    "print(\"Training complete.\")"
   ]
  },
  {
   "cell_type": "code",
   "execution_count": 382,
   "id": "bb5fb0c1-4083-45e9-a325-1ddf1daaa45c",
   "metadata": {},
   "outputs": [],
   "source": [
    "from sklearn.metrics import precision_score"
   ]
  },
  {
   "cell_type": "code",
   "execution_count": 383,
   "id": "c084108b-a759-4671-9e33-d4487b86c846",
   "metadata": {},
   "outputs": [
    {
     "name": "stdout",
     "output_type": "stream",
     "text": [
      "Confusion Matrix:\n",
      "[[174  34]\n",
      " [ 27 165]]\n",
      "F1 Score: 0.85\n",
      "Precision: 0.85\n",
      "Recall: 0.85\n",
      "Specificity: 0.85\n"
     ]
    }
   ],
   "source": [
    "# Evaluation\n",
    "model.eval()\n",
    "all_labels = []\n",
    "all_predictions = []\n",
    "with torch.no_grad():\n",
    "    for inputs, labels in test_dataloader:\n",
    "        outputs = model(inputs)\n",
    "        predicted = (outputs >= 0.5).float()  # 🔧 이진 분류 방식에 맞는 예측\n",
    "        all_labels.extend(labels.cpu().numpy())\n",
    "        all_predictions.extend(predicted.cpu().numpy())\n",
    "\n",
    "y_true = np.array(all_labels)\n",
    "y_pred = np.array(all_predictions)\n",
    "\n",
    "# Convert to numpy arrays\n",
    "all_labels = np.array(all_labels)\n",
    "all_predictions = np.array(all_predictions)\n",
    "\n",
    "# Calculate metrics\n",
    "conf_matrix = confusion_matrix(all_labels, all_predictions)\n",
    "f1 = f1_score(all_labels, all_predictions, average='weighted')\n",
    "precision = precision_score(all_labels, all_predictions, average='weighted')\n",
    "recall = recall_score(all_labels, all_predictions, average='weighted')\n",
    "\n",
    "# Calculate specificity for each class\n",
    "specificity = []\n",
    "for i in range(conf_matrix.shape[0]):\n",
    "    tn = conf_matrix.sum() - (conf_matrix[i, :].sum() + conf_matrix[:, i].sum() - conf_matrix[i, i])\n",
    "    fp = conf_matrix[:, i].sum() - conf_matrix[i, i]\n",
    "    specificity.append(tn / (tn + fp))\n",
    "\n",
    "print(f'Confusion Matrix:\\n{conf_matrix}')\n",
    "print(f'F1 Score: {f1:.2f}')\n",
    "print(f'Precision: {precision:.2f}')\n",
    "print(f'Recall: {recall:.2f}')\n",
    "print(f'Specificity: {np.mean(specificity):.2f}')"
   ]
  },
  {
   "cell_type": "code",
   "execution_count": 384,
   "id": "111dda8c-5697-4e38-93b9-53402d7df52e",
   "metadata": {},
   "outputs": [
    {
     "data": {
      "image/png": "[encoded data removed]",
      "text/plain": [
       "<Figure size 1200x500 with 2 Axes>"
      ]
     },
     "metadata": {},
     "output_type": "display_data"
    }
   ],
   "source": [
    "# Plot the loss and accuracy\n",
    "plt.figure(figsize=(12, 5))\n",
    "\n",
    "# Plot loss\n",
    "plt.subplot(1, 2, 1)\n",
    "plt.plot(train_losses, label='Training Loss')\n",
    "plt.xlabel('Epoch')\n",
    "plt.ylabel('Loss')\n",
    "plt.title('Training Loss Over Epochs')\n",
    "plt.legend()\n",
    "\n",
    "# Plot accuracy\n",
    "plt.subplot(1, 2, 2)\n",
    "plt.plot(test_accuracies, label='Test Accuracy')\n",
    "plt.xlabel('Epoch')\n",
    "plt.ylabel('Accuracy (%)')\n",
    "plt.title('Test Accuracy Over Epochs')\n",
    "plt.legend()\n",
    "\n",
    "plt.show()"
   ]
  },
  {
   "cell_type": "code",
   "execution_count": 572,
   "id": "1e63774f-db87-4151-8032-5b9d6989b5f8",
   "metadata": {},
   "outputs": [],
   "source": [
    "data = pd.read_csv(\"C:\\\\Users\\\\LG\\\\Downloads\\\\BP_data.csv\")\n",
    "data = data.fillna(0)"
   ]
  },
  {
   "cell_type": "code",
   "execution_count": 574,
   "id": "4ead1e1c-6df2-4e2c-a479-de42feb157be",
   "metadata": {},
   "outputs": [],
   "source": [
    "# 특성과 타겟 분리\n",
    "X = data.drop(columns=['Blood_Pressure_Abnormality']).values\n",
    "y = data['Blood_Pressure_Abnormality'].values.astype(np.int64)  # 분류이므로 int64"
   ]
  },
  {
   "cell_type": "code",
   "execution_count": 576,
   "id": "297a088c-40c6-4646-b03f-9b0795d062b1",
   "metadata": {},
   "outputs": [],
   "source": [
    "# Standardize the data\n",
    "scaler = StandardScaler()\n",
    "X = scaler.fit_transform(X)"
   ]
  },
  {
   "cell_type": "code",
   "execution_count": 578,
   "id": "0d2b703c-d1a7-45dc-a35b-b50051448230",
   "metadata": {},
   "outputs": [],
   "source": [
    "data_array = X  # ❌ y를 합치지 말아야 한다"
   ]
  },
  {
   "cell_type": "code",
   "execution_count": 580,
   "id": "3cdddc13-6ef1-4d70-b185-43a1f1712216",
   "metadata": {},
   "outputs": [
    {
     "data": {
      "text/plain": [
       "(2000, 14)"
      ]
     },
     "execution_count": 580,
     "metadata": {},
     "output_type": "execute_result"
    }
   ],
   "source": [
    "data_array.shape"
   ]
  },
  {
   "cell_type": "code",
   "execution_count": 582,
   "id": "f1a51420-8c9d-4d25-8849-586be65184a2",
   "metadata": {},
   "outputs": [],
   "source": [
    "# Split sequences function\n",
    "def split_sequences(sequences, n_steps):\n",
    "    X, y = list(), list()\n",
    "    for i in range(len(sequences)):\n",
    "        end_ix = i + n_steps\n",
    "        if end_ix > len(sequences):\n",
    "            break\n",
    "        seq_x, seq_y = sequences[i:end_ix, :-1], sequences[end_ix-1, -1]\n",
    "        X.append(seq_x)\n",
    "        y.append(seq_y)\n",
    "    return np.array(X), np.array(y)\n",
    "\n",
    "# Apply sequence transformation\n",
    "n_steps = 5\n",
    "X, y = split_sequences(data_array, n_steps)\n",
    "\n",
    "# Split the dataset into training and test sets\n",
    "X_train, X_test, y_train, y_test = train_test_split(X, y, test_size=0.2, random_state=0)"
   ]
  },
  {
   "cell_type": "code",
   "execution_count": 584,
   "id": "f767d4f9-48cc-4fa8-a7f8-9ea8e020ea66",
   "metadata": {},
   "outputs": [
    {
     "data": {
      "text/plain": [
       "((1596, 5, 13), (1596,), (400, 5, 13), (400,))"
      ]
     },
     "execution_count": 584,
     "metadata": {},
     "output_type": "execute_result"
    }
   ],
   "source": [
    "X_train.shape, y_train.shape, X_test.shape, y_test.shape, "
   ]
  },
  {
   "cell_type": "code",
   "execution_count": 586,
   "id": "1b002209-03d4-4af9-b4f3-67e37cccd5ce",
   "metadata": {},
   "outputs": [],
   "source": [
    "# Convert to PyTorch tensors\n",
    "X_train = torch.tensor(X_train, dtype=torch.float32).permute(0, 2, 1)  # ✅\n",
    "y_train = torch.tensor(y_train, dtype=torch.int64)\n",
    "X_test = torch.tensor(X_test, dtype=torch.float32).permute(0, 2, 1)  # ✅\n",
    "y_test = torch.tensor(y_test, dtype=torch.int64)\n",
    "\n",
    "# Create DataLoader\n",
    "train_dataloader = DataLoader(TensorDataset(X_train, y_train), batch_size=32, shuffle=True)\n",
    "test_dataloader = DataLoader(TensorDataset(X_test, y_test), batch_size=32, shuffle=False)"
   ]
  },
  {
   "cell_type": "code",
   "execution_count": 588,
   "id": "60d80865-d70a-40ff-bce7-4e52271e0674",
   "metadata": {},
   "outputs": [],
   "source": [
    "import torch.nn as nn\n",
    "import torch.nn.functional as F\n",
    "\n",
    "class BPDense_Strong(nn.Module):\n",
    "    def __init__(self):\n",
    "        super(BPDense_Strong, self).__init__()\n",
    "        self.conv1 = nn.Conv1d(13, 64, kernel_size=3, padding=1)\n",
    "        self.bn1 = nn.BatchNorm1d(64)\n",
    "        self.conv2 = nn.Conv1d(64, 128, kernel_size=3, padding=1)\n",
    "        self.bn2 = nn.BatchNorm1d(128)\n",
    "        self.conv3 = nn.Conv1d(128, 256, kernel_size=3, padding=1)\n",
    "        self.bn3 = nn.BatchNorm1d(256)\n",
    "        self.fc1 = nn.Linear(256 * 5, 128)\n",
    "        self.dropout = nn.Dropout(0.3)  # Dropout 약하게\n",
    "        self.fc2 = nn.Linear(128, 2)\n",
    "\n",
    "    def forward(self, x):\n",
    "        x = F.relu(self.bn1(self.conv1(x)))\n",
    "        x = F.relu(self.bn2(self.conv2(x)))\n",
    "        x = F.relu(self.bn3(self.conv3(x)))\n",
    "        x = x.view(x.size(0), -1)\n",
    "        x = F.relu(self.fc1(x))\n",
    "        x = self.dropout(x)\n",
    "        x = self.fc2(x)\n",
    "        return x"
   ]
  },
  {
   "cell_type": "code",
   "execution_count": 590,
   "id": "d1b6626a-7bc0-4923-a2e2-d445270d4d9d",
   "metadata": {},
   "outputs": [],
   "source": [
    "# Initialize the model, loss function, and optimizer\n",
    "model = BPDense1()"
   ]
  },
  {
   "cell_type": "code",
   "execution_count": 592,
   "id": "5542a512-f5b6-46ab-b75b-0f28d4e77531",
   "metadata": {},
   "outputs": [
    {
     "name": "stdout",
     "output_type": "stream",
     "text": [
      "----------------------------------------------------------------\n",
      "        Layer (type)               Output Shape         Param #\n",
      "================================================================\n",
      "            Conv1d-1                [-1, 32, 5]           1,280\n",
      "       BatchNorm1d-2                [-1, 32, 5]              64\n",
      "            Conv1d-3                [-1, 64, 5]           6,208\n",
      "       BatchNorm1d-4                [-1, 64, 5]             128\n",
      "            Linear-5                  [-1, 128]          41,088\n",
      "           Dropout-6                  [-1, 128]               0\n",
      "            Linear-7                    [-1, 2]             258\n",
      "================================================================\n",
      "Total params: 49,026\n",
      "Trainable params: 49,026\n",
      "Non-trainable params: 0\n",
      "----------------------------------------------------------------\n",
      "Input size (MB): 0.00\n",
      "Forward/backward pass size (MB): 0.01\n",
      "Params size (MB): 0.19\n",
      "Estimated Total Size (MB): 0.20\n",
      "----------------------------------------------------------------\n"
     ]
    }
   ],
   "source": [
    "# Print the summary of the model\n",
    "summary(model, input_size=(13, 5))  # ✅"
   ]
  },
  {
   "cell_type": "code",
   "execution_count": 594,
   "id": "d40f2bb8-4c72-40fc-9292-84c00458349c",
   "metadata": {},
   "outputs": [],
   "source": [
    "optimizer = torch.optim.Adam(model.parameters(), lr=0.0003)  # 학습률 좀 더 낮춤\n",
    "criterion = nn.CrossEntropyLoss()\n",
    "num_epochs = 100  # 충분히 학습\n",
    "\n",
    "# Variables to store loss and accuracy\n",
    "train_losses = []\n",
    "test_accuracies = []"
   ]
  },
  {
   "cell_type": "code",
   "execution_count": 596,
   "id": "8ff33439-b132-42c8-9be5-fd7afc73f549",
   "metadata": {},
   "outputs": [
    {
     "name": "stdout",
     "output_type": "stream",
     "text": [
      "Epoch 1/100, Loss: 0.6950, Accuracy: 56.50%\n",
      "Epoch 2/100, Loss: 0.6719, Accuracy: 52.75%\n",
      "Epoch 3/100, Loss: 0.6622, Accuracy: 54.50%\n",
      "Epoch 4/100, Loss: 0.6463, Accuracy: 54.25%\n",
      "Epoch 5/100, Loss: 0.6308, Accuracy: 54.00%\n",
      "Epoch 6/100, Loss: 0.6135, Accuracy: 53.50%\n",
      "Epoch 7/100, Loss: 0.5950, Accuracy: 54.25%\n",
      "Epoch 8/100, Loss: 0.5749, Accuracy: 54.50%\n",
      "Epoch 9/100, Loss: 0.5527, Accuracy: 54.25%\n",
      "Epoch 10/100, Loss: 0.5257, Accuracy: 52.50%\n",
      "Epoch 11/100, Loss: 0.5007, Accuracy: 54.75%\n",
      "Epoch 12/100, Loss: 0.4663, Accuracy: 49.25%\n",
      "Epoch 13/100, Loss: 0.4429, Accuracy: 50.00%\n",
      "Epoch 14/100, Loss: 0.4029, Accuracy: 53.25%\n",
      "Epoch 15/100, Loss: 0.3869, Accuracy: 52.00%\n",
      "Epoch 16/100, Loss: 0.3533, Accuracy: 51.00%\n",
      "Epoch 17/100, Loss: 0.3118, Accuracy: 50.25%\n",
      "Epoch 18/100, Loss: 0.2891, Accuracy: 53.50%\n",
      "Epoch 19/100, Loss: 0.2538, Accuracy: 54.75%\n",
      "Epoch 20/100, Loss: 0.2265, Accuracy: 52.75%\n",
      "Epoch 21/100, Loss: 0.2121, Accuracy: 52.50%\n",
      "Epoch 22/100, Loss: 0.1978, Accuracy: 52.75%\n",
      "Epoch 23/100, Loss: 0.1599, Accuracy: 55.00%\n",
      "Epoch 24/100, Loss: 0.1581, Accuracy: 53.75%\n",
      "Epoch 25/100, Loss: 0.1350, Accuracy: 53.25%\n",
      "Epoch 26/100, Loss: 0.1172, Accuracy: 53.25%\n",
      "Epoch 27/100, Loss: 0.1043, Accuracy: 55.00%\n",
      "Epoch 28/100, Loss: 0.0980, Accuracy: 53.75%\n",
      "Epoch 29/100, Loss: 0.0866, Accuracy: 55.25%\n",
      "Epoch 30/100, Loss: 0.0752, Accuracy: 52.75%\n",
      "Epoch 31/100, Loss: 0.0720, Accuracy: 51.50%\n",
      "Epoch 32/100, Loss: 0.0595, Accuracy: 56.00%\n",
      "Epoch 33/100, Loss: 0.0621, Accuracy: 53.75%\n",
      "Epoch 34/100, Loss: 0.0496, Accuracy: 55.00%\n",
      "Epoch 35/100, Loss: 0.0448, Accuracy: 55.75%\n",
      "Epoch 36/100, Loss: 0.0491, Accuracy: 53.75%\n",
      "Epoch 37/100, Loss: 0.0445, Accuracy: 55.25%\n",
      "Epoch 38/100, Loss: 0.0364, Accuracy: 55.25%\n",
      "Epoch 39/100, Loss: 0.0399, Accuracy: 52.50%\n",
      "Epoch 40/100, Loss: 0.0326, Accuracy: 55.00%\n",
      "Epoch 41/100, Loss: 0.0264, Accuracy: 53.00%\n",
      "Epoch 42/100, Loss: 0.0275, Accuracy: 56.00%\n",
      "Epoch 43/100, Loss: 0.0212, Accuracy: 53.50%\n",
      "Epoch 44/100, Loss: 0.0260, Accuracy: 53.25%\n",
      "Epoch 45/100, Loss: 0.0189, Accuracy: 54.75%\n",
      "Epoch 46/100, Loss: 0.0263, Accuracy: 54.50%\n",
      "Epoch 47/100, Loss: 0.0223, Accuracy: 53.50%\n",
      "Epoch 48/100, Loss: 0.0188, Accuracy: 55.25%\n",
      "Epoch 49/100, Loss: 0.0199, Accuracy: 53.75%\n",
      "Epoch 50/100, Loss: 0.0192, Accuracy: 54.75%\n",
      "Epoch 51/100, Loss: 0.0150, Accuracy: 55.00%\n",
      "Epoch 52/100, Loss: 0.0157, Accuracy: 54.75%\n",
      "Epoch 53/100, Loss: 0.0139, Accuracy: 53.25%\n",
      "Epoch 54/100, Loss: 0.0139, Accuracy: 51.50%\n",
      "Epoch 55/100, Loss: 0.0138, Accuracy: 51.25%\n",
      "Epoch 56/100, Loss: 0.0173, Accuracy: 51.25%\n",
      "Epoch 57/100, Loss: 0.0127, Accuracy: 53.25%\n",
      "Epoch 58/100, Loss: 0.0132, Accuracy: 53.00%\n",
      "Epoch 59/100, Loss: 0.0122, Accuracy: 52.00%\n",
      "Epoch 60/100, Loss: 0.0099, Accuracy: 54.00%\n",
      "Epoch 61/100, Loss: 0.0112, Accuracy: 53.00%\n",
      "Epoch 62/100, Loss: 0.0084, Accuracy: 52.00%\n",
      "Epoch 63/100, Loss: 0.0082, Accuracy: 53.75%\n",
      "Epoch 64/100, Loss: 0.0088, Accuracy: 55.00%\n",
      "Epoch 65/100, Loss: 0.0081, Accuracy: 52.75%\n",
      "Epoch 66/100, Loss: 0.0062, Accuracy: 54.50%\n",
      "Epoch 67/100, Loss: 0.0062, Accuracy: 51.75%\n",
      "Epoch 68/100, Loss: 0.0063, Accuracy: 53.50%\n",
      "Epoch 69/100, Loss: 0.0068, Accuracy: 52.75%\n",
      "Epoch 70/100, Loss: 0.0056, Accuracy: 52.00%\n",
      "Epoch 71/100, Loss: 0.0088, Accuracy: 53.50%\n",
      "Epoch 72/100, Loss: 0.0063, Accuracy: 54.25%\n",
      "Epoch 73/100, Loss: 0.0114, Accuracy: 52.75%\n",
      "Epoch 74/100, Loss: 0.0092, Accuracy: 52.75%\n",
      "Epoch 75/100, Loss: 0.0068, Accuracy: 54.25%\n",
      "Epoch 76/100, Loss: 0.0064, Accuracy: 53.00%\n",
      "Epoch 77/100, Loss: 0.0050, Accuracy: 51.50%\n",
      "Epoch 78/100, Loss: 0.0063, Accuracy: 54.00%\n",
      "Epoch 79/100, Loss: 0.0058, Accuracy: 53.25%\n",
      "Epoch 80/100, Loss: 0.0124, Accuracy: 52.75%\n",
      "Epoch 81/100, Loss: 0.0149, Accuracy: 52.00%\n",
      "Epoch 82/100, Loss: 0.0116, Accuracy: 52.00%\n",
      "Epoch 83/100, Loss: 0.0177, Accuracy: 51.25%\n",
      "Epoch 84/100, Loss: 0.0109, Accuracy: 52.50%\n",
      "Epoch 85/100, Loss: 0.0045, Accuracy: 52.00%\n",
      "Epoch 86/100, Loss: 0.0080, Accuracy: 52.50%\n",
      "Epoch 87/100, Loss: 0.0143, Accuracy: 49.25%\n",
      "Epoch 88/100, Loss: 0.0176, Accuracy: 53.25%\n",
      "Epoch 89/100, Loss: 0.0152, Accuracy: 51.50%\n",
      "Epoch 90/100, Loss: 0.0135, Accuracy: 52.50%\n",
      "Epoch 91/100, Loss: 0.0102, Accuracy: 52.75%\n",
      "Epoch 92/100, Loss: 0.0072, Accuracy: 51.50%\n",
      "Epoch 93/100, Loss: 0.0058, Accuracy: 52.75%\n",
      "Epoch 94/100, Loss: 0.0101, Accuracy: 53.00%\n",
      "Epoch 95/100, Loss: 0.0098, Accuracy: 51.00%\n",
      "Epoch 96/100, Loss: 0.0076, Accuracy: 52.25%\n",
      "Epoch 97/100, Loss: 0.0154, Accuracy: 52.50%\n",
      "Epoch 98/100, Loss: 0.0080, Accuracy: 54.00%\n",
      "Epoch 99/100, Loss: 0.0109, Accuracy: 52.50%\n",
      "Epoch 100/100, Loss: 0.0126, Accuracy: 53.75%\n",
      "Training complete.\n",
      "Confusion Matrix:\n",
      "[[128  97]\n",
      " [ 88  87]]\n",
      "F1 Score: 0.54\n",
      "Precision: 0.54\n",
      "Recall: 0.54\n",
      "Specificity: 0.53\n"
     ]
    },
    {
     "data": {
      "image/png": "[encoded data removed]",
      "text/plain": [
       "<Figure size 1200x500 with 2 Axes>"
      ]
     },
     "metadata": {},
     "output_type": "display_data"
    }
   ],
   "source": [
    "#Training loop\n",
    "for epoch in range(num_epochs):\n",
    "    model.train()\n",
    "    running_loss = 0.0\n",
    "    for inputs, labels in train_dataloader:\n",
    "        # Zero the parameter gradients\n",
    "        optimizer.zero_grad()\n",
    "\n",
    "        # Forward pass\n",
    "       \n",
    "        outputs = model(inputs)\n",
    "        loss = criterion(outputs, labels)\n",
    "\n",
    "        # Backward pass and optimize\n",
    "        loss.backward()\n",
    "        optimizer.step()\n",
    "\n",
    "        running_loss += loss.item()\n",
    "\n",
    "    # Calculate average loss over an epoch\n",
    "    train_losses.append(running_loss / len(train_dataloader))\n",
    "\n",
    "    # Evaluate on test data\n",
    "    model.eval()\n",
    "    correct = 0\n",
    "    total = 0\n",
    "    all_labels = []\n",
    "    all_predictions = []\n",
    "    with torch.no_grad():\n",
    "        for inputs, labels in test_dataloader:\n",
    "            outputs = model(inputs)\n",
    "            _, predicted = torch.max(outputs.data, 1)\n",
    "            total += labels.size(0)\n",
    "            correct += (predicted == labels).sum().item()\n",
    "            all_labels.extend(labels.cpu().numpy())\n",
    "            all_predictions.extend(predicted.cpu().numpy())\n",
    "\n",
    "    accuracy = 100 * correct / total\n",
    "    test_accuracies.append(accuracy)\n",
    "\n",
    "    print(f\"Epoch {epoch + 1}/{num_epochs}, Loss: {train_losses[-1]:.4f}, Accuracy: {accuracy:.2f}%\")\n",
    "\n",
    "print(\"Training complete.\")\n",
    "\n",
    "# Convert lists to numpy arrays\n",
    "all_labels = np.array(all_labels)\n",
    "all_predictions = np.array(all_predictions)\n",
    "\n",
    "# Calculate metrics\n",
    "conf_matrix = confusion_matrix(all_labels, all_predictions)\n",
    "f1 = f1_score(all_labels, all_predictions, average='weighted')\n",
    "precision = precision_score(all_labels, all_predictions, average='weighted')\n",
    "recall = recall_score(all_labels, all_predictions, average='weighted')\n",
    "\n",
    "# Calculate specificity for each class\n",
    "specificity = []\n",
    "for i in range(conf_matrix.shape[0]):\n",
    "    tn = conf_matrix.sum() - (conf_matrix[i, :].sum() + conf_matrix[:, i].sum() - conf_matrix[i, i])\n",
    "    fp = conf_matrix[:, i].sum() - conf_matrix[i, i]\n",
    "    specificity.append(tn / (tn + fp))\n",
    "\n",
    "# Print metrics\n",
    "print(f'Confusion Matrix:\\n{conf_matrix}')\n",
    "print(f'F1 Score: {f1:.2f}')\n",
    "print(f'Precision: {precision:.2f}')\n",
    "print(f'Recall: {recall:.2f}')\n",
    "print(f'Specificity: {np.mean(specificity):.2f}')\n",
    "\n",
    "# Plot the loss and accuracy\n",
    "plt.figure(figsize=(12, 5))\n",
    "\n",
    "# Plot loss\n",
    "plt.subplot(1, 2, 1)\n",
    "plt.plot(train_losses, label='Training Loss')\n",
    "plt.xlabel('Epoch')\n",
    "plt.ylabel('Loss')\n",
    "plt.title('Training Loss Over Epochs')\n",
    "plt.legend()\n",
    "\n",
    "# Plot accuracy\n",
    "plt.subplot(1, 2, 2)\n",
    "plt.plot(test_accuracies, label='Test Accuracy')\n",
    "plt.xlabel('Epoch')\n",
    "plt.ylabel('Accuracy (%)')\n",
    "plt.title('Test Accuracy Over Epochs')\n",
    "plt.legend()\n",
    "\n",
    "plt.show()"
   ]
  },
  {
   "cell_type": "code",
   "execution_count": 597,
   "id": "e2c83161-1801-4fdb-a791-514d783b869d",
   "metadata": {},
   "outputs": [
    {
     "name": "stdout",
     "output_type": "stream",
     "text": [
      "Blood_Pressure_Abnormality\n",
      "0    1013\n",
      "1     987\n",
      "Name: count, dtype: int64\n"
     ]
    }
   ],
   "source": [
    "import pandas as pd\n",
    "\n",
    "data = pd.read_csv(\"C:\\\\Users\\\\LG\\\\Downloads\\\\BP_data.csv\")\n",
    "print(data['Blood_Pressure_Abnormality'].value_counts())"
   ]
  },
  {
   "cell_type": "code",
   "execution_count": null,
   "id": "1a658bc5-1df8-4ad1-8583-5f04ba534009",
   "metadata": {},
   "outputs": [],
   "source": []
  }
 ],
 "metadata": {
  "kernelspec": {
   "display_name": "Python [conda env:base] *",
   "language": "python",
   "name": "conda-base-py"
  },
  "language_info": {
   "codemirror_mode": {
    "name": "ipython",
    "version": 3
   },
   "file_extension": ".py",
   "mimetype": "text/x-python",
   "name": "python",
   "nbconvert_exporter": "python",
   "pygments_lexer": "ipython3",
   "version": "3.12.7"
  }
 },
 "nbformat": 4,
 "nbformat_minor": 5
}
