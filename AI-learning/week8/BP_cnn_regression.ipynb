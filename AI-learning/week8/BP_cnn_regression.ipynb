{
 "cells": [
  {
   "cell_type": "code",
   "execution_count": 2,
   "id": "8cbe8ccb-54e5-4382-8dc9-c05c67511514",
   "metadata": {},
   "outputs": [],
   "source": [
    "import pandas as pd\n",
    "import numpy as np\n",
    "from sklearn.model_selection import train_test_split\n",
    "from sklearn.preprocessing import StandardScaler\n",
    "from sklearn.metrics import mean_squared_error, r2_score\n",
    "import torch\n",
    "import torch.nn as nn\n",
    "from torch.utils.data import DataLoader, TensorDataset\n",
    "import matplotlib.pyplot as plt"
   ]
  },
  {
   "cell_type": "code",
   "execution_count": 3,
   "id": "290a4274-e79d-44d5-bbb1-68124fc23fc3",
   "metadata": {},
   "outputs": [],
   "source": [
    "# 데이터 로드\n",
    "data = pd.read_csv(\"C:\\\\Users\\\\LG\\\\Downloads\\\\BP_data.csv\")"
   ]
  },
  {
   "cell_type": "code",
   "execution_count": 6,
   "id": "a8432e54-82f6-46ee-91eb-3b605c67c91f",
   "metadata": {},
   "outputs": [],
   "source": [
    "data.isnull().sum()\n",
    "data = data.fillna(0)"
   ]
  },
  {
   "cell_type": "code",
   "execution_count": 8,
   "id": "ae180442-ce6a-4347-81c4-a5e68c32ce54",
   "metadata": {},
   "outputs": [],
   "source": [
    "# 불필요 컬럼 제거, 레이블을 예측 타겟으로 설정\n",
    "X = data.drop(columns=['Patient_Number', 'Blood_Pressure_Abnormality']).values  \n",
    "y = data['Blood_Pressure_Abnormality'].values.astype(np.float32)         "
   ]
  },
  {
   "cell_type": "code",
   "execution_count": 10,
   "id": "cbfcb704-8106-4b87-81cc-d2bd0d7f3f96",
   "metadata": {},
   "outputs": [],
   "source": [
    "# 정규화\n",
    "scaler = StandardScaler()\n",
    "X = scaler.fit_transform(X)"
   ]
  },
  {
   "cell_type": "code",
   "execution_count": 12,
   "id": "bcf8bf93-e7b8-4d78-8aa8-be8ef96ab379",
   "metadata": {},
   "outputs": [],
   "source": [
    "# 시퀀스 형태로 변환\n",
    "def split_sequences(sequences, n_steps):\n",
    "    X, y = [], []\n",
    "    for i in range(len(sequences)):\n",
    "        end_ix = i + n_steps\n",
    "        if end_ix > len(sequences):\n",
    "            break\n",
    "        seq_x, seq_y = sequences[i:end_ix, :-1], sequences[end_ix-1, -1]\n",
    "        X.append(seq_x)\n",
    "        y.append(seq_y)\n",
    "    return np.array(X), np.array(y)"
   ]
  },
  {
   "cell_type": "code",
   "execution_count": 14,
   "id": "cd515a96-1dea-46f9-9ee8-5ab09f021153",
   "metadata": {},
   "outputs": [],
   "source": [
    "# Blood_Pressure_Abnormality를 붙여서 시퀀스 분할\n",
    "full_data = np.hstack((X, y.reshape(-1, 1)))\n",
    "X_seq, y_seq = split_sequences(full_data, n_steps=5)"
   ]
  },
  {
   "cell_type": "code",
   "execution_count": 16,
   "id": "972b3a6b-831a-4ff4-bdee-e2971fa9588b",
   "metadata": {},
   "outputs": [],
   "source": [
    "# Train/Test 분할\n",
    "X_train, X_test, y_train, y_test = train_test_split(X_seq, y_seq, test_size=0.2, random_state=42)\n"
   ]
  },
  {
   "cell_type": "code",
   "execution_count": 18,
   "id": "0b25aa81-128e-401e-ad3b-52361b84d904",
   "metadata": {},
   "outputs": [],
   "source": [
    "# Tensor 변환\n",
    "X_train = torch.tensor(X_train, dtype=torch.float32).permute(0, 2, 1)  # (batch, channels, seq_len)\n",
    "X_test = torch.tensor(X_test, dtype=torch.float32).permute(0, 2, 1)\n",
    "y_train = torch.tensor(y_train, dtype=torch.float32).view(-1, 1)\n",
    "y_test = torch.tensor(y_test, dtype=torch.float32).view(-1, 1)"
   ]
  },
  {
   "cell_type": "code",
   "execution_count": 20,
   "id": "14d8d5dd-4e0d-487d-883b-596f33c0f76b",
   "metadata": {},
   "outputs": [],
   "source": [
    "train_dataset = TensorDataset(X_train, y_train)\n",
    "test_dataset = TensorDataset(X_test, y_test)"
   ]
  },
  {
   "cell_type": "code",
   "execution_count": 22,
   "id": "0fb1c4d0-88e3-4edb-b043-c5ef121f9f54",
   "metadata": {},
   "outputs": [],
   "source": [
    "train_loader = DataLoader(train_dataset, batch_size=32, shuffle=True)\n",
    "test_loader = DataLoader(test_dataset, batch_size=32)"
   ]
  },
  {
   "cell_type": "code",
   "execution_count": 26,
   "id": "ae23abdd-7f24-49bc-9938-199587f32850",
   "metadata": {},
   "outputs": [],
   "source": [
    "#모델 정의: Conv1D 회귀 모델\n",
    "class BPCNN(nn.Module):\n",
    "    def __init__(self):\n",
    "        super(BPCNN, self).__init__()\n",
    "        self.conv1 = nn.Conv1d(in_channels=13, out_channels=16, kernel_size=3, padding=1)\n",
    "        self.conv2 = nn.Conv1d(16, 32, kernel_size=3, padding=1)\n",
    "        self.fc1 = nn.Linear(32 * 5, 64)\n",
    "        self.fc2 = nn.Linear(64, 1)  # 회귀 출력\n",
    "\n",
    "    def forward(self, x):\n",
    "        x = torch.relu(self.conv1(x))\n",
    "        x = torch.relu(self.conv2(x))\n",
    "        x = x.view(x.size(0), -1)\n",
    "        x = torch.relu(self.fc1(x))\n",
    "        return self.fc2(x)\n"
   ]
  },
  {
   "cell_type": "code",
   "execution_count": 28,
   "id": "9ca841cc-e9df-42c1-9c9b-0bac9b878a97",
   "metadata": {},
   "outputs": [
    {
     "name": "stdout",
     "output_type": "stream",
     "text": [
      "Epoch 1, Loss: 0.2697\n",
      "Epoch 2, Loss: 0.2190\n",
      "Epoch 3, Loss: 0.1894\n",
      "Epoch 4, Loss: 0.1695\n",
      "Epoch 5, Loss: 0.1574\n",
      "Epoch 6, Loss: 0.1458\n",
      "Epoch 7, Loss: 0.1342\n",
      "Epoch 8, Loss: 0.1251\n",
      "Epoch 9, Loss: 0.1147\n",
      "Epoch 10, Loss: 0.1077\n",
      "Epoch 11, Loss: 0.0981\n",
      "Epoch 12, Loss: 0.0870\n",
      "Epoch 13, Loss: 0.0816\n",
      "Epoch 14, Loss: 0.0719\n",
      "Epoch 15, Loss: 0.0617\n",
      "Epoch 16, Loss: 0.0557\n",
      "Epoch 17, Loss: 0.0491\n",
      "Epoch 18, Loss: 0.0448\n",
      "Epoch 19, Loss: 0.0398\n",
      "Epoch 20, Loss: 0.0359\n",
      "Epoch 21, Loss: 0.0325\n",
      "Epoch 22, Loss: 0.0286\n",
      "Epoch 23, Loss: 0.0239\n",
      "Epoch 24, Loss: 0.0207\n",
      "Epoch 25, Loss: 0.0180\n",
      "Epoch 26, Loss: 0.0157\n",
      "Epoch 27, Loss: 0.0138\n",
      "Epoch 28, Loss: 0.0124\n",
      "Epoch 29, Loss: 0.0116\n",
      "Epoch 30, Loss: 0.0102\n"
     ]
    }
   ],
   "source": [
    "#학습 및 평가\n",
    "model = BPCNN()\n",
    "criterion = nn.MSELoss()\n",
    "optimizer = torch.optim.Adam(model.parameters(), lr=0.001)\n",
    "\n",
    "train_losses = []\n",
    "\n",
    "# Training loop\n",
    "for epoch in range(30):\n",
    "    model.train()\n",
    "    running_loss = 0.0\n",
    "    for xb, yb in train_loader:\n",
    "        optimizer.zero_grad()\n",
    "        preds = model(xb)\n",
    "        loss = criterion(preds, yb)\n",
    "        loss.backward()\n",
    "        optimizer.step()\n",
    "        running_loss += loss.item()\n",
    "    train_losses.append(running_loss / len(train_loader))\n",
    "    print(f\"Epoch {epoch+1}, Loss: {train_losses[-1]:.4f}\")"
   ]
  },
  {
   "cell_type": "code",
   "execution_count": 30,
   "id": "8ef28b2b-533c-4a10-87e3-502f6cdd6d27",
   "metadata": {},
   "outputs": [
    {
     "name": "stdout",
     "output_type": "stream",
     "text": [
      "Test MSE: 0.2554\n",
      "R² Score: -0.0220\n"
     ]
    }
   ],
   "source": [
    "# Evaluation\n",
    "model.eval()\n",
    "preds = []\n",
    "actuals = []\n",
    "with torch.no_grad():\n",
    "    for xb, yb in test_loader:\n",
    "        out = model(xb)\n",
    "        preds.extend(out.squeeze().cpu().numpy())\n",
    "        actuals.extend(yb.squeeze().cpu().numpy())\n",
    "\n",
    "mse = mean_squared_error(actuals, preds)\n",
    "r2 = r2_score(actuals, preds)\n",
    "print(f\"Test MSE: {mse:.4f}\")\n",
    "print(f\"R² Score: {r2:.4f}\")"
   ]
  },
  {
   "cell_type": "code",
   "execution_count": null,
   "id": "3c1985ee-acda-42dc-8224-0d2c9c2a38b1",
   "metadata": {},
   "outputs": [],
   "source": []
  }
 ],
 "metadata": {
  "kernelspec": {
   "display_name": "Python [conda env:base] *",
   "language": "python",
   "name": "conda-base-py"
  },
  "language_info": {
   "codemirror_mode": {
    "name": "ipython",
    "version": 3
   },
   "file_extension": ".py",
   "mimetype": "text/x-python",
   "name": "python",
   "nbconvert_exporter": "python",
   "pygments_lexer": "ipython3",
   "version": "3.12.7"
  }
 },
 "nbformat": 4,
 "nbformat_minor": 5
}
