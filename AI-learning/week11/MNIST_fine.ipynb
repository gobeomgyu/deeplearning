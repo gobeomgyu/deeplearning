{
 "cells": [
  {
   "cell_type": "code",
   "execution_count": 1,
   "id": "1a57d5af-f885-4a26-82ec-db4fa85d11e0",
   "metadata": {},
   "outputs": [],
   "source": [
    "import torch\n",
    "import torch.nn as nn\n",
    "import torch.optim as optim\n",
    "from torchvision import datasets, transforms, models\n",
    "from torch.utils.data import DataLoader\n",
    "import matplotlib.pyplot as plt\n",
    "from torchvision.models import resnet18, ResNet18_Weights"
   ]
  },
  {
   "cell_type": "code",
   "execution_count": 2,
   "id": "733d8a71-ea7c-4a53-9c39-f23eb6f59c4a",
   "metadata": {},
   "outputs": [
    {
     "name": "stdout",
     "output_type": "stream",
     "text": [
      "Using device: cpu\n"
     ]
    }
   ],
   "source": [
    "# 모델 설정\n",
    "device = torch.device(\"cuda\" if torch.cuda.is_available() else \"cpu\")\n",
    "print(f\"Using device: {device}\")"
   ]
  },
  {
   "cell_type": "code",
   "execution_count": 3,
   "id": "11a78a8f-36a8-45d6-a5ca-60027ea31f43",
   "metadata": {},
   "outputs": [
    {
     "name": "stdout",
     "output_type": "stream",
     "text": [
      "학습 시작 전 체크포인트 통과\n",
      "Epoch 1 시작\n",
      "총 준비 시간: 0.00초\n"
     ]
    }
   ],
   "source": [
    "import time\n",
    "start_time = time.time()\n",
    "\n",
    "# 코드 중간중간\n",
    "print(\"학습 시작 전 체크포인트 통과\")\n",
    "...\n",
    "print(\"Epoch 1 시작\")\n",
    "\n",
    "# 이후\n",
    "print(f\"총 준비 시간: {time.time() - start_time:.2f}초\")"
   ]
  },
  {
   "cell_type": "code",
   "execution_count": 4,
   "id": "8ae5e5a0-85db-4abf-bc5a-e477d6d5f2d4",
   "metadata": {},
   "outputs": [],
   "source": [
    "# 데이터 전처리\n",
    "transform = transforms.Compose([\n",
    "    transforms.Resize((224, 224)),                # ResNet은 224x224 입력\n",
    "    transforms.Grayscale(num_output_channels=3),  # 1채널 -> 3채널\n",
    "    transforms.ToTensor(),\n",
    "    transforms.Normalize(mean=[0.5]*3, std=[0.5]*3)  # 정규화 (모델 성능 안정화)\n",
    "])\n"
   ]
  },
  {
   "cell_type": "code",
   "execution_count": 5,
   "id": "5aba0db1-fc49-4152-ab93-0d08115db356",
   "metadata": {},
   "outputs": [],
   "source": [
    "# 데이터 로딩\n",
    "train_dataset = datasets.MNIST(root='./data', train=True, download=True, transform=transform)\n",
    "test_dataset  = datasets.MNIST(root='./data', train=False, download=True, transform=transform)\n",
    "\n",
    "train_loader = DataLoader(train_dataset, batch_size=64, shuffle=True)\n",
    "test_loader  = DataLoader(test_dataset, batch_size=64, shuffle=False)"
   ]
  },
  {
   "cell_type": "code",
   "execution_count": 6,
   "id": "20bb2a42-54c7-46e0-93fb-c5dabb7fc251",
   "metadata": {},
   "outputs": [],
   "source": [
    "# 모델 로딩 및 설정\n",
    "weights = ResNet18_Weights.DEFAULT\n",
    "model = resnet18(weights=weights)\n",
    "model.fc = nn.Linear(model.fc.in_features, 10)\n",
    "model = model.to(device)"
   ]
  },
  {
   "cell_type": "code",
   "execution_count": 12,
   "id": "a5634e9a-fe03-40c7-bf5f-b2e4b0485b38",
   "metadata": {},
   "outputs": [],
   "source": [
    "# 손실 함수와 옵티마이저\n",
    "criterion = nn.CrossEntropyLoss()\n",
    "optimizer = optim.Adam(model.parameters(), lr=0.0001)\n"
   ]
  },
  {
   "cell_type": "code",
   "execution_count": null,
   "id": "4b72eeb4-292f-441a-bbf4-9d8dea421aea",
   "metadata": {},
   "outputs": [],
   "source": [
    "# 학습 루프\n",
    "epochs = 5\n",
    "for epoch in range(epochs):\n",
    "    model.train()\n",
    "    total_loss = 0.0\n",
    "\n",
    "    for images, labels in train_loader:\n",
    "        images, labels = images.to(device), labels.to(device)\n",
    "\n",
    "        optimizer.zero_grad()\n",
    "        outputs = model(images)\n",
    "        loss = criterion(outputs, labels)\n",
    "        loss.backward()\n",
    "        optimizer.step()\n",
    "\n",
    "        total_loss += loss.item()\n",
    "\n",
    "    avg_loss = total_loss / len(train_loader)\n",
    "    print(f\"Epoch {epoch+1}/{epochs}, Loss: {avg_loss:.4f}\")"
   ]
  },
  {
   "cell_type": "code",
   "execution_count": null,
   "id": "05c0b779-dc67-4413-8ab9-4fb4f0324c5e",
   "metadata": {},
   "outputs": [],
   "source": [
    "# 테스트\n",
    "model.eval()\n",
    "correct = 0\n",
    "total = 0\n",
    "with torch.no_grad():\n",
    "    for images, labels in test_loader:\n",
    "        images, labels = images.to(device), labels.to(device)\n",
    "        outputs = model(images)\n",
    "        _, predicted = torch.max(outputs, 1)\n",
    "        correct += (predicted == labels).sum().item()\n",
    "        total += labels.size(0)\n",
    "\n",
    "print(f\"\\nTest Accuracy: {100 * correct / total:.2f}%\")"
   ]
  },
  {
   "cell_type": "code",
   "execution_count": null,
   "id": "2bf249b6-d26a-4775-b9f0-9ee61fec9dac",
   "metadata": {},
   "outputs": [],
   "source": [
    "print(torchvision.__version__"
   ]
  },
  {
   "cell_type": "code",
   "execution_count": null,
   "id": "3077129b-14db-4f4e-94aa-e65e11787c5e",
   "metadata": {},
   "outputs": [],
   "source": []
  }
 ],
 "metadata": {
  "kernelspec": {
   "display_name": "Python [conda env:base] *",
   "language": "python",
   "name": "conda-base-py"
  },
  "language_info": {
   "codemirror_mode": {
    "name": "ipython",
    "version": 3
   },
   "file_extension": ".py",
   "mimetype": "text/x-python",
   "name": "python",
   "nbconvert_exporter": "python",
   "pygments_lexer": "ipython3",
   "version": "3.12.7"
  }
 },
 "nbformat": 4,
 "nbformat_minor": 5
}
