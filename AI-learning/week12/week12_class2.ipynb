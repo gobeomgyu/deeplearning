{
 "cells": [
  {
   "cell_type": "code",
   "execution_count": 20,
   "id": "2f116033-d50f-48a5-895b-677be57ea594",
   "metadata": {},
   "outputs": [],
   "source": [
    "import pandas as pd\n",
    "import numpy as np\n",
    "from sklearn.model_selection import train_test_split\n",
    "from sklearn.preprocessing import StandardScaler\n",
    "from sklearn.utils import shuffle\n",
    "from tensorflow.keras.utils import to_categorical"
   ]
  },
  {
   "cell_type": "code",
   "execution_count": 22,
   "id": "4dd770c2-b7d0-4d15-9d82-d78ee0df0657",
   "metadata": {},
   "outputs": [],
   "source": [
    "# 데이터 로딩\n",
    "data = pd.read_csv(\"C:\\\\Users\\\\LG\\\\Downloads\\\\seeds\\\\seeds_dataset.txt\", sep=r'\\s+', header=None)"
   ]
  },
  {
   "cell_type": "code",
   "execution_count": 24,
   "id": "6ee47f63-f176-4782-a0bb-cb51a37ec4cc",
   "metadata": {},
   "outputs": [],
   "source": [
    "# 특성/레이블 분리\n",
    "X = data.iloc[:, :-1].values\n",
    "y = data.iloc[:, -1].values.astype(int) - 1  # 0~2로 정리\n",
    "y_encoded = to_categorical(y, num_classes=3)"
   ]
  },
  {
   "cell_type": "code",
   "execution_count": 26,
   "id": "20802bc6-5e4b-4008-be36-86f43efcb215",
   "metadata": {},
   "outputs": [],
   "source": [
    "# 셔플 및 stratify 분할\n",
    "X, y_encoded = shuffle(X, y_encoded, random_state=42)\n",
    "y_raw = np.argmax(y_encoded, axis=1)\n",
    "\n",
    "X_train, X_test, y_train, y_test = train_test_split(X, y_encoded, test_size=0.2, stratify=y_raw, random_state=42)\n",
    "y_train_raw = np.argmax(y_train, axis=1)\n",
    "X_train_final, X_val, y_train_final, y_val = train_test_split(X_train, y_train, test_size=0.1, stratify=y_train_raw, random_state=42)"
   ]
  },
  {
   "cell_type": "code",
   "execution_count": 27,
   "id": "cd9b2f5c-0e28-428d-9f7b-ff9937165ca1",
   "metadata": {},
   "outputs": [],
   "source": [
    "# 정규화\n",
    "scaler = StandardScaler()\n",
    "X_train_final = scaler.fit_transform(X_train_final)\n",
    "X_val = scaler.transform(X_val)\n",
    "X_test = scaler.transform(X_test)"
   ]
  },
  {
   "cell_type": "code",
   "execution_count": 30,
   "id": "a10810fe-b47a-4146-b0db-37909d4f3170",
   "metadata": {},
   "outputs": [],
   "source": [
    "from tensorflow.keras.layers import Input, Dense, Dropout\n",
    "from tensorflow.keras.models import Model\n",
    "\n",
    "# 입력층\n",
    "inputs = Input(shape=(7,))\n",
    "\n",
    "# 은닉층\n",
    "x = Dense(32, activation='relu')(inputs)\n",
    "x = Dropout(0.3)(x)\n",
    "x = Dense(16, activation='relu')(x)\n",
    "\n",
    "#출력층\n",
    "prediction = Dense(3, activation='softmax')(x)\n",
    "\n",
    "# 모델 정의\n",
    "model = Model(inputs=inputs, outputs=prediction)"
   ]
  },
  {
   "cell_type": "code",
   "execution_count": 31,
   "id": "89a20d36-625e-4ae0-a7a7-037f14e114b7",
   "metadata": {},
   "outputs": [
    {
     "name": "stdout",
     "output_type": "stream",
     "text": [
      "Epoch 1/100\n",
      "\u001b[1m19/19\u001b[0m \u001b[32m━━━━━━━━━━━━━━━━━━━━\u001b[0m\u001b[37m\u001b[0m \u001b[1m3s\u001b[0m 40ms/step - accuracy: 0.4429 - loss: 1.0896 - val_accuracy: 0.5882 - val_loss: 0.8764\n",
      "Epoch 2/100\n",
      "\u001b[1m19/19\u001b[0m \u001b[32m━━━━━━━━━━━━━━━━━━━━\u001b[0m\u001b[37m\u001b[0m \u001b[1m0s\u001b[0m 11ms/step - accuracy: 0.6877 - loss: 0.8360 - val_accuracy: 0.8824 - val_loss: 0.6650\n",
      "Epoch 3/100\n",
      "\u001b[1m19/19\u001b[0m \u001b[32m━━━━━━━━━━━━━━━━━━━━\u001b[0m\u001b[37m\u001b[0m \u001b[1m0s\u001b[0m 11ms/step - accuracy: 0.7766 - loss: 0.7560 - val_accuracy: 0.8824 - val_loss: 0.5399\n",
      "Epoch 4/100\n",
      "\u001b[1m19/19\u001b[0m \u001b[32m━━━━━━━━━━━━━━━━━━━━\u001b[0m\u001b[37m\u001b[0m \u001b[1m0s\u001b[0m 11ms/step - accuracy: 0.8215 - loss: 0.6072 - val_accuracy: 0.8824 - val_loss: 0.4426\n",
      "Epoch 5/100\n",
      "\u001b[1m19/19\u001b[0m \u001b[32m━━━━━━━━━━━━━━━━━━━━\u001b[0m\u001b[37m\u001b[0m \u001b[1m0s\u001b[0m 12ms/step - accuracy: 0.8616 - loss: 0.4908 - val_accuracy: 0.8824 - val_loss: 0.3731\n",
      "Epoch 6/100\n",
      "\u001b[1m19/19\u001b[0m \u001b[32m━━━━━━━━━━━━━━━━━━━━\u001b[0m\u001b[37m\u001b[0m \u001b[1m0s\u001b[0m 18ms/step - accuracy: 0.8784 - loss: 0.4814 - val_accuracy: 0.8824 - val_loss: 0.3276\n",
      "Epoch 7/100\n",
      "\u001b[1m19/19\u001b[0m \u001b[32m━━━━━━━━━━━━━━━━━━━━\u001b[0m\u001b[37m\u001b[0m \u001b[1m0s\u001b[0m 11ms/step - accuracy: 0.8999 - loss: 0.3726 - val_accuracy: 0.8824 - val_loss: 0.3031\n",
      "Epoch 8/100\n",
      "\u001b[1m19/19\u001b[0m \u001b[32m━━━━━━━━━━━━━━━━━━━━\u001b[0m\u001b[37m\u001b[0m \u001b[1m0s\u001b[0m 10ms/step - accuracy: 0.8896 - loss: 0.3646 - val_accuracy: 0.8824 - val_loss: 0.2936\n",
      "Epoch 9/100\n",
      "\u001b[1m19/19\u001b[0m \u001b[32m━━━━━━━━━━━━━━━━━━━━\u001b[0m\u001b[37m\u001b[0m \u001b[1m0s\u001b[0m 11ms/step - accuracy: 0.9111 - loss: 0.3520 - val_accuracy: 0.8824 - val_loss: 0.2963\n",
      "Epoch 10/100\n",
      "\u001b[1m19/19\u001b[0m \u001b[32m━━━━━━━━━━━━━━━━━━━━\u001b[0m\u001b[37m\u001b[0m \u001b[1m0s\u001b[0m 17ms/step - accuracy: 0.8827 - loss: 0.2889 - val_accuracy: 0.8824 - val_loss: 0.3000\n",
      "Epoch 11/100\n",
      "\u001b[1m19/19\u001b[0m \u001b[32m━━━━━━━━━━━━━━━━━━━━\u001b[0m\u001b[37m\u001b[0m \u001b[1m0s\u001b[0m 18ms/step - accuracy: 0.9191 - loss: 0.2754 - val_accuracy: 0.8824 - val_loss: 0.3080\n",
      "Epoch 12/100\n",
      "\u001b[1m19/19\u001b[0m \u001b[32m━━━━━━━━━━━━━━━━━━━━\u001b[0m\u001b[37m\u001b[0m \u001b[1m0s\u001b[0m 20ms/step - accuracy: 0.9114 - loss: 0.2541 - val_accuracy: 0.8824 - val_loss: 0.3183\n",
      "Epoch 13/100\n",
      "\u001b[1m19/19\u001b[0m \u001b[32m━━━━━━━━━━━━━━━━━━━━\u001b[0m\u001b[37m\u001b[0m \u001b[1m0s\u001b[0m 20ms/step - accuracy: 0.9192 - loss: 0.1969 - val_accuracy: 0.8824 - val_loss: 0.3269\n",
      "Epoch 14/100\n",
      "\u001b[1m19/19\u001b[0m \u001b[32m━━━━━━━━━━━━━━━━━━━━\u001b[0m\u001b[37m\u001b[0m \u001b[1m0s\u001b[0m 13ms/step - accuracy: 0.9080 - loss: 0.2492 - val_accuracy: 0.8824 - val_loss: 0.3307\n",
      "Epoch 15/100\n",
      "\u001b[1m19/19\u001b[0m \u001b[32m━━━━━━━━━━━━━━━━━━━━\u001b[0m\u001b[37m\u001b[0m \u001b[1m1s\u001b[0m 22ms/step - accuracy: 0.9422 - loss: 0.2015 - val_accuracy: 0.8824 - val_loss: 0.3342\n",
      "Epoch 16/100\n",
      "\u001b[1m19/19\u001b[0m \u001b[32m━━━━━━━━━━━━━━━━━━━━\u001b[0m\u001b[37m\u001b[0m \u001b[1m1s\u001b[0m 23ms/step - accuracy: 0.9308 - loss: 0.2053 - val_accuracy: 0.8824 - val_loss: 0.3410\n",
      "Epoch 17/100\n",
      "\u001b[1m19/19\u001b[0m \u001b[32m━━━━━━━━━━━━━━━━━━━━\u001b[0m\u001b[37m\u001b[0m \u001b[1m1s\u001b[0m 22ms/step - accuracy: 0.9217 - loss: 0.2565 - val_accuracy: 0.8824 - val_loss: 0.3466\n",
      "Epoch 18/100\n",
      "\u001b[1m19/19\u001b[0m \u001b[32m━━━━━━━━━━━━━━━━━━━━\u001b[0m\u001b[37m\u001b[0m \u001b[1m0s\u001b[0m 10ms/step - accuracy: 0.9153 - loss: 0.2140 - val_accuracy: 0.8824 - val_loss: 0.3497\n"
     ]
    }
   ],
   "source": [
    "from tensorflow.keras.callbacks import EarlyStopping\n",
    "\n",
    "model.compile(optimizer='adam',\n",
    "              loss='categorical_crossentropy',\n",
    "              metrics=['accuracy'])\n",
    "\n",
    "history = model.fit(\n",
    "    X_train_final, y_train_final,\n",
    "    validation_data=(X_val, y_val),\n",
    "    epochs=100,\n",
    "    batch_size=8,\n",
    "    callbacks=[early_stop]\n",
    ")"
   ]
  },
  {
   "cell_type": "code",
   "execution_count": 34,
   "id": "703c93b3-359a-4c9e-9d64-3a73f5988365",
   "metadata": {},
   "outputs": [
    {
     "name": "stdout",
     "output_type": "stream",
     "text": [
      "\u001b[1m2/2\u001b[0m \u001b[32m━━━━━━━━━━━━━━━━━━━━\u001b[0m\u001b[37m\u001b[0m \u001b[1m0s\u001b[0m 63ms/step - accuracy: 0.9211 - loss: 0.3377\n",
      "테스트 정확도: 0.9286\n",
      "\u001b[1m2/2\u001b[0m \u001b[32m━━━━━━━━━━━━━━━━━━━━\u001b[0m\u001b[37m\u001b[0m \u001b[1m0s\u001b[0m 145ms/step\n",
      "[[13  0  1]\n",
      " [ 1 13  0]\n",
      " [ 1  0 13]]\n",
      "              precision    recall  f1-score   support\n",
      "\n",
      "           0     0.8667    0.9286    0.8966        14\n",
      "           1     1.0000    0.9286    0.9630        14\n",
      "           2     0.9286    0.9286    0.9286        14\n",
      "\n",
      "    accuracy                         0.9286        42\n",
      "   macro avg     0.9317    0.9286    0.9294        42\n",
      "weighted avg     0.9317    0.9286    0.9294        42\n",
      "\n"
     ]
    }
   ],
   "source": [
    "# 테스트 성능 평가\n",
    "loss, accuracy = model.evaluate(X_test, y_test)\n",
    "print(f\"테스트 정확도: {accuracy:.4f}\")\n",
    "\n",
    "# 예측 분포 확인\n",
    "pred_classes = np.argmax(model.predict(X_test), axis=1)\n",
    "true_classes = np.argmax(y_test, axis=1)\n",
    "\n",
    "from sklearn.metrics import confusion_matrix, classification_report\n",
    "print(confusion_matrix(true_classes, pred_classes))\n",
    "print(classification_report(true_classes, pred_classes, digits=4))"
   ]
  },
  {
   "cell_type": "code",
   "execution_count": null,
   "id": "1cb94b37-6e8b-4827-ae4d-463a4d5ebc42",
   "metadata": {},
   "outputs": [],
   "source": []
  }
 ],
 "metadata": {
  "kernelspec": {
   "display_name": "Python [conda env:base] *",
   "language": "python",
   "name": "conda-base-py"
  },
  "language_info": {
   "codemirror_mode": {
    "name": "ipython",
    "version": 3
   },
   "file_extension": ".py",
   "mimetype": "text/x-python",
   "name": "python",
   "nbconvert_exporter": "python",
   "pygments_lexer": "ipython3",
   "version": "3.12.7"
  }
 },
 "nbformat": 4,
 "nbformat_minor": 5
}
