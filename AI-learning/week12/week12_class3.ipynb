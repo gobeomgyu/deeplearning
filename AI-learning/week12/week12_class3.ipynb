{
 "cells": [
  {
   "cell_type": "code",
   "execution_count": 2,
   "id": "fdd52181-e1f0-4c3b-b023-2767e7a61e04",
   "metadata": {},
   "outputs": [],
   "source": [
    "import pandas as pd\n",
    "import numpy as np\n",
    "from sklearn.model_selection import train_test_split\n",
    "from sklearn.preprocessing import StandardScaler\n",
    "from sklearn.utils import shuffle\n",
    "from tensorflow.keras.utils import to_categorical"
   ]
  },
  {
   "cell_type": "code",
   "execution_count": 6,
   "id": "95c2c045-c71d-4954-9cad-1d2947c4a3a2",
   "metadata": {},
   "outputs": [],
   "source": [
    "# 데이터 로드\n",
    "data = pd.read_csv(\"C:\\\\Users\\\\LG\\\\Downloads\\\\seeds\\\\seeds_dataset.txt\", sep=r'\\s+', header=None)\n",
    "X = data.iloc[:, :-1].values\n",
    "y = data.iloc[:, -1].values.astype(int) - 1  # 클래스 0~2\n",
    "y_encoded = to_categorical(y, num_classes=3)"
   ]
  },
  {
   "cell_type": "code",
   "execution_count": 8,
   "id": "b78863db-13f7-4983-809b-c0fae3d86de1",
   "metadata": {},
   "outputs": [],
   "source": [
    "# 셔플 및 stratify 분할\n",
    "X, y_encoded = shuffle(X, y_encoded, random_state=42)\n",
    "y_raw = np.argmax(y_encoded, axis=1)\n",
    "\n",
    "X_train, X_test, y_train, y_test = train_test_split(X, y_encoded, test_size=0.2, stratify=y_raw, random_state=42)\n",
    "y_train_raw = np.argmax(y_train, axis=1)\n",
    "\n",
    "X_train_final, X_val, y_train_final, y_val = train_test_split(X_train, y_train, test_size=0.1, stratify=y_train_raw, random_state=42)"
   ]
  },
  {
   "cell_type": "code",
   "execution_count": 10,
   "id": "0111fe51-4ff7-446f-a3cb-a2f6e938e5dd",
   "metadata": {},
   "outputs": [],
   "source": [
    "# 정규화\n",
    "scaler = StandardScaler()\n",
    "X_train_final = scaler.fit_transform(X_train_final)\n",
    "X_val = scaler.transform(X_val)\n",
    "X_test = scaler.transform(X_test)"
   ]
  },
  {
   "cell_type": "code",
   "execution_count": 12,
   "id": "b4d6adc0-7ec6-42c8-a101-4107990eb682",
   "metadata": {},
   "outputs": [],
   "source": [
    "import tensorflow as tf\n",
    "from tensorflow.keras import Model\n",
    "from tensorflow.keras.layers import Dense, Dropout\n",
    "\n",
    "# Model 클래스 상속\n",
    "class SeedsClassifier(Model):\n",
    "    def __init__(self):\n",
    "        super(SeedsClassifier, self).__init__()\n",
    "        self.dense1 = Dense(32, activation='relu')\n",
    "        self.dropout = Dropout(0.3)\n",
    "        self.dense2 = Dense(16, activation='relu')\n",
    "        self.prediction = Dense(3, activation='softmax')  # 출력층 변수명: prediction\n",
    "\n",
    "    def call(self, inputs, training=False):\n",
    "        x = self.dense1(inputs)\n",
    "        if training:\n",
    "            x = self.dropout(x, training=training)\n",
    "        x = self.dense2(x)\n",
    "        return self.prediction(x)"
   ]
  },
  {
   "cell_type": "code",
   "execution_count": 14,
   "id": "fff24225-8778-4403-9b82-2afba4cbebdf",
   "metadata": {},
   "outputs": [
    {
     "name": "stdout",
     "output_type": "stream",
     "text": [
      "Epoch 1/100\n",
      "\u001b[1m19/19\u001b[0m \u001b[32m━━━━━━━━━━━━━━━━━━━━\u001b[0m\u001b[37m\u001b[0m \u001b[1m5s\u001b[0m 55ms/step - accuracy: 0.4492 - loss: 1.0098 - val_accuracy: 0.8824 - val_loss: 0.8427\n",
      "Epoch 2/100\n",
      "\u001b[1m19/19\u001b[0m \u001b[32m━━━━━━━━━━━━━━━━━━━━\u001b[0m\u001b[37m\u001b[0m \u001b[1m0s\u001b[0m 15ms/step - accuracy: 0.7124 - loss: 0.8537 - val_accuracy: 0.8824 - val_loss: 0.6980\n",
      "Epoch 3/100\n",
      "\u001b[1m19/19\u001b[0m \u001b[32m━━━━━━━━━━━━━━━━━━━━\u001b[0m\u001b[37m\u001b[0m \u001b[1m1s\u001b[0m 22ms/step - accuracy: 0.8104 - loss: 0.7328 - val_accuracy: 0.8824 - val_loss: 0.5642\n",
      "Epoch 4/100\n",
      "\u001b[1m19/19\u001b[0m \u001b[32m━━━━━━━━━━━━━━━━━━━━\u001b[0m\u001b[37m\u001b[0m \u001b[1m0s\u001b[0m 12ms/step - accuracy: 0.8865 - loss: 0.5777 - val_accuracy: 0.8824 - val_loss: 0.4555\n",
      "Epoch 5/100\n",
      "\u001b[1m19/19\u001b[0m \u001b[32m━━━━━━━━━━━━━━━━━━━━\u001b[0m\u001b[37m\u001b[0m \u001b[1m0s\u001b[0m 12ms/step - accuracy: 0.8694 - loss: 0.5343 - val_accuracy: 0.8824 - val_loss: 0.3812\n",
      "Epoch 6/100\n",
      "\u001b[1m19/19\u001b[0m \u001b[32m━━━━━━━━━━━━━━━━━━━━\u001b[0m\u001b[37m\u001b[0m \u001b[1m0s\u001b[0m 13ms/step - accuracy: 0.9010 - loss: 0.4489 - val_accuracy: 0.8824 - val_loss: 0.3402\n",
      "Epoch 7/100\n",
      "\u001b[1m19/19\u001b[0m \u001b[32m━━━━━━━━━━━━━━━━━━━━\u001b[0m\u001b[37m\u001b[0m \u001b[1m0s\u001b[0m 12ms/step - accuracy: 0.8946 - loss: 0.4355 - val_accuracy: 0.8824 - val_loss: 0.3221\n",
      "Epoch 8/100\n",
      "\u001b[1m19/19\u001b[0m \u001b[32m━━━━━━━━━━━━━━━━━━━━\u001b[0m\u001b[37m\u001b[0m \u001b[1m0s\u001b[0m 19ms/step - accuracy: 0.8743 - loss: 0.3532 - val_accuracy: 0.8824 - val_loss: 0.3072\n",
      "Epoch 9/100\n",
      "\u001b[1m19/19\u001b[0m \u001b[32m━━━━━━━━━━━━━━━━━━━━\u001b[0m\u001b[37m\u001b[0m \u001b[1m0s\u001b[0m 11ms/step - accuracy: 0.9509 - loss: 0.2484 - val_accuracy: 0.8824 - val_loss: 0.3075\n",
      "Epoch 10/100\n",
      "\u001b[1m19/19\u001b[0m \u001b[32m━━━━━━━━━━━━━━━━━━━━\u001b[0m\u001b[37m\u001b[0m \u001b[1m0s\u001b[0m 13ms/step - accuracy: 0.8958 - loss: 0.2891 - val_accuracy: 0.8824 - val_loss: 0.3147\n",
      "Epoch 11/100\n",
      "\u001b[1m19/19\u001b[0m \u001b[32m━━━━━━━━━━━━━━━━━━━━\u001b[0m\u001b[37m\u001b[0m \u001b[1m0s\u001b[0m 15ms/step - accuracy: 0.9615 - loss: 0.2326 - val_accuracy: 0.8824 - val_loss: 0.3202\n",
      "Epoch 12/100\n",
      "\u001b[1m19/19\u001b[0m \u001b[32m━━━━━━━━━━━━━━━━━━━━\u001b[0m\u001b[37m\u001b[0m \u001b[1m0s\u001b[0m 15ms/step - accuracy: 0.9454 - loss: 0.1894 - val_accuracy: 0.8824 - val_loss: 0.3321\n",
      "Epoch 13/100\n",
      "\u001b[1m19/19\u001b[0m \u001b[32m━━━━━━━━━━━━━━━━━━━━\u001b[0m\u001b[37m\u001b[0m \u001b[1m0s\u001b[0m 21ms/step - accuracy: 0.9284 - loss: 0.2514 - val_accuracy: 0.8824 - val_loss: 0.3370\n",
      "Epoch 14/100\n",
      "\u001b[1m19/19\u001b[0m \u001b[32m━━━━━━━━━━━━━━━━━━━━\u001b[0m\u001b[37m\u001b[0m \u001b[1m1s\u001b[0m 28ms/step - accuracy: 0.9308 - loss: 0.1956 - val_accuracy: 0.8824 - val_loss: 0.3407\n",
      "Epoch 15/100\n",
      "\u001b[1m19/19\u001b[0m \u001b[32m━━━━━━━━━━━━━━━━━━━━\u001b[0m\u001b[37m\u001b[0m \u001b[1m1s\u001b[0m 25ms/step - accuracy: 0.9365 - loss: 0.1959 - val_accuracy: 0.8824 - val_loss: 0.3491\n",
      "Epoch 16/100\n",
      "\u001b[1m19/19\u001b[0m \u001b[32m━━━━━━━━━━━━━━━━━━━━\u001b[0m\u001b[37m\u001b[0m \u001b[1m1s\u001b[0m 23ms/step - accuracy: 0.9547 - loss: 0.1909 - val_accuracy: 0.8824 - val_loss: 0.3435\n",
      "Epoch 17/100\n",
      "\u001b[1m19/19\u001b[0m \u001b[32m━━━━━━━━━━━━━━━━━━━━\u001b[0m\u001b[37m\u001b[0m \u001b[1m1s\u001b[0m 27ms/step - accuracy: 0.9414 - loss: 0.1765 - val_accuracy: 0.8824 - val_loss: 0.3466\n",
      "Epoch 18/100\n",
      "\u001b[1m19/19\u001b[0m \u001b[32m━━━━━━━━━━━━━━━━━━━━\u001b[0m\u001b[37m\u001b[0m \u001b[1m0s\u001b[0m 14ms/step - accuracy: 0.9444 - loss: 0.1761 - val_accuracy: 0.8824 - val_loss: 0.3581\n"
     ]
    }
   ],
   "source": [
    "#컴파일 및 학습\n",
    "model = SeedsClassifier()\n",
    "\n",
    "model.compile(optimizer='adam',\n",
    "              loss='categorical_crossentropy',\n",
    "              metrics=['accuracy'])\n",
    "\n",
    "early_stop = tf.keras.callbacks.EarlyStopping(monitor='val_loss', patience=10, restore_best_weights=True)\n",
    "\n",
    "history = model.fit(\n",
    "    X_train_final, y_train_final,\n",
    "    validation_data=(X_val, y_val),\n",
    "    epochs=100,\n",
    "    batch_size=8,\n",
    "    callbacks=[early_stop]\n",
    ")"
   ]
  },
  {
   "cell_type": "code",
   "execution_count": 16,
   "id": "d6611077-a4ff-428a-a26a-c1f6ed2219cf",
   "metadata": {},
   "outputs": [
    {
     "name": "stdout",
     "output_type": "stream",
     "text": [
      "\u001b[1m2/2\u001b[0m \u001b[32m━━━━━━━━━━━━━━━━━━━━\u001b[0m\u001b[37m\u001b[0m \u001b[1m0s\u001b[0m 53ms/step - accuracy: 0.8948 - loss: 0.3541\n",
      "테스트 정확도: 0.9048\n",
      "\u001b[1m2/2\u001b[0m \u001b[32m━━━━━━━━━━━━━━━━━━━━\u001b[0m\u001b[37m\u001b[0m \u001b[1m0s\u001b[0m 165ms/step\n",
      "[[12  1  1]\n",
      " [ 1 13  0]\n",
      " [ 1  0 13]]\n",
      "              precision    recall  f1-score   support\n",
      "\n",
      "           0     0.8571    0.8571    0.8571        14\n",
      "           1     0.9286    0.9286    0.9286        14\n",
      "           2     0.9286    0.9286    0.9286        14\n",
      "\n",
      "    accuracy                         0.9048        42\n",
      "   macro avg     0.9048    0.9048    0.9048        42\n",
      "weighted avg     0.9048    0.9048    0.9048        42\n",
      "\n"
     ]
    }
   ],
   "source": [
    "loss, accuracy = model.evaluate(X_test, y_test)\n",
    "print(f\"테스트 정확도: {accuracy:.4f}\")\n",
    "\n",
    "pred_classes = np.argmax(model.predict(X_test), axis=1)\n",
    "true_classes = np.argmax(y_test, axis=1)\n",
    "\n",
    "from sklearn.metrics import confusion_matrix, classification_report\n",
    "print(confusion_matrix(true_classes, pred_classes))\n",
    "print(classification_report(true_classes, pred_classes, digits=4))"
   ]
  },
  {
   "cell_type": "code",
   "execution_count": null,
   "id": "4368f5b9-1416-4b4e-ad6b-138aa656394c",
   "metadata": {},
   "outputs": [],
   "source": []
  }
 ],
 "metadata": {
  "kernelspec": {
   "display_name": "Python [conda env:base] *",
   "language": "python",
   "name": "conda-base-py"
  },
  "language_info": {
   "codemirror_mode": {
    "name": "ipython",
    "version": 3
   },
   "file_extension": ".py",
   "mimetype": "text/x-python",
   "name": "python",
   "nbconvert_exporter": "python",
   "pygments_lexer": "ipython3",
   "version": "3.12.7"
  }
 },
 "nbformat": 4,
 "nbformat_minor": 5
}
