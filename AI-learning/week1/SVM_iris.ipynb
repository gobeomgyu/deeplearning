{
 "cells": [
  {
   "cell_type": "code",
   "execution_count": 4,
   "id": "15640e43-93f1-42dd-9472-b8b8ee049180",
   "metadata": {},
   "outputs": [
    {
     "name": "stdout",
     "output_type": "stream",
     "text": [
      "SVM 모델 정확도: 1.0000\n",
      "\n",
      "분류 리포트:\n",
      "                  precision    recall  f1-score   support\n",
      "\n",
      "    Iris-setosa       1.00      1.00      1.00        10\n",
      "Iris-versicolor       1.00      1.00      1.00         9\n",
      " Iris-virginica       1.00      1.00      1.00        11\n",
      "\n",
      "       accuracy                           1.00        30\n",
      "      macro avg       1.00      1.00      1.00        30\n",
      "   weighted avg       1.00      1.00      1.00        30\n",
      "\n"
     ]
    }
   ],
   "source": [
    "import pandas as pd                                                #데이터 파일을 불러오고 처리하기 위한 판다스(Pandas) 라이브러리를 가져옴\n",
    "from sklearn.model_selection import train_test_split               #데이터를 훈련용(train)과 테스트용(test)으로 나누는 함수\n",
    "from sklearn.svm import SVC                                        # SVM(Support Vector Machine) 모델을 사용하기 위한 클래스\n",
    "from sklearn.metrics import accuracy_score, classification_report  #모델정확도/ 정밀도(Precision), 재현율(Recall), F1-score 등의 성능 평가 지표를 출력하는 함수\n",
    "\n",
    "# 1. 데이터 불러오기\n",
    "df = pd.read_csv(\"C:\\\\Users\\\\LG\\\\Downloads\\\\iris.csv\")  # 파일 경로 확인 후 수정\n",
    "\n",
    "# 2. 특성과 타겟 변수 분리\n",
    "X = df.iloc[:, :-1]  # SepalLength, SepalWidth, PetalLength, PetalWidth 데이터프레임의 행과 열을 인덱스로 선택 -모든 행(:)과 마지막 열을 제외한 모든 열(:-1)을 선택->X에는 꽃잎(sepal)과 꽃받침(petal)의 길이와 너비 값이 저장\n",
    "y = df.iloc[:, -1]   # 마지막 열(-1)을 선택하여 **타겟 변수(y)**로 설정->y에 품종이 저장\n",
    "\n",
    "# 3. 데이터 분할 (80% 훈련, 20% 테스트)\n",
    "X_train, X_test, y_train, y_test = train_test_split(X, y, test_size=0.2, random_state=42) #random_state=42:무작위로 데이터를 나누지만 항상 같은 결과가 나오도록 설정\n",
    "\n",
    "# 4. SVM 모델 학습\n",
    "svm_model = SVC(kernel='linear', random_state=42) #선형(SVM) 커널을 사용하여 데이터를 분류, 동일한 결과를 얻기 위해 난수를 고정\n",
    "svm_model.fit(X_train, y_train)\n",
    "\n",
    "# 5. 예측 및 평가\n",
    "y_pred_svm = svm_model.predict(X_test)  #품종을 예측\n",
    "accuracy_svm = accuracy_score(y_test, y_pred_svm)   #예측된 품종과 실제 품종 비교\n",
    "classification_report_svm = classification_report(y_test, y_pred_svm)   #평가 지표 계산\n",
    "\n",
    "# 결과 출력\n",
    "print(f\"SVM 모델 정확도: {accuracy_svm:.4f}\")\n",
    "print(\"\\n분류 리포트:\\n\", classification_report_svm)\n",
    "\n",
    "#accuracy-전체 정확도\n",
    "#macro avg-클래스별 평균\n",
    "#weighted avg-가중평균->평균값을 구할 때 자료의 중요한 정도를  각각의 가중치를 곱하여 구한 평균값"
   ]
  },
  {
   "cell_type": "code",
   "execution_count": null,
   "id": "37a31b23-2cf8-4df2-bd59-5c1933bfd080",
   "metadata": {},
   "outputs": [],
   "source": []
  },
  {
   "cell_type": "code",
   "execution_count": null,
   "id": "3fbf90da-47b8-4d14-89fb-c53ab41a356b",
   "metadata": {},
   "outputs": [],
   "source": []
  }
 ],
 "metadata": {
  "kernelspec": {
   "display_name": "Python [conda env:base] *",
   "language": "python",
   "name": "conda-base-py"
  },
  "language_info": {
   "codemirror_mode": {
    "name": "ipython",
    "version": 3
   },
   "file_extension": ".py",
   "mimetype": "text/x-python",
   "name": "python",
   "nbconvert_exporter": "python",
   "pygments_lexer": "ipython3",
   "version": "3.12.7"
  }
 },
 "nbformat": 4,
 "nbformat_minor": 5
}
