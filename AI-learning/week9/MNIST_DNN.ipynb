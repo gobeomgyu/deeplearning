{
 "cells": [
  {
   "cell_type": "code",
   "execution_count": 32,
   "id": "876344e5-45e9-4cb9-a00c-9148e708a480",
   "metadata": {},
   "outputs": [],
   "source": [
    "import torch\n",
    "import torch.nn as nn\n",
    "import torch.optim as optim\n",
    "from sklearn import datasets\n",
    "from sklearn.model_selection import train_test_split\n",
    "from sklearn.preprocessing import StandardScaler\n",
    "from sklearn.metrics import accuracy_score"
   ]
  },
  {
   "cell_type": "code",
   "execution_count": 34,
   "id": "91d4801b-f63e-4a0b-a0cf-f290740f5132",
   "metadata": {},
   "outputs": [],
   "source": [
    "# 데이터 로드\n",
    "digits = datasets.load_digits()\n",
    "X = digits.images.reshape((len(digits.images), -1))  # (n_samples, 64)\n",
    "y = digits.target"
   ]
  },
  {
   "cell_type": "code",
   "execution_count": 36,
   "id": "4315a619-d136-4d6e-a75d-20cef03e94fb",
   "metadata": {},
   "outputs": [],
   "source": [
    "# 데이터 정규화\n",
    "scaler = StandardScaler()\n",
    "X = scaler.fit_transform(X)"
   ]
  },
  {
   "cell_type": "code",
   "execution_count": 38,
   "id": "cc81396e-fba5-429d-b6cc-0568196129e8",
   "metadata": {},
   "outputs": [],
   "source": [
    "# train/test 분리\n",
    "X_train, X_test, y_train, y_test = train_test_split(X, y, test_size=0.2, random_state=42)"
   ]
  },
  {
   "cell_type": "code",
   "execution_count": 40,
   "id": "f562be12-fdc1-45f4-80c8-14d8211803b2",
   "metadata": {},
   "outputs": [],
   "source": [
    "# Tensor 변환\n",
    "X_train = torch.tensor(X_train, dtype=torch.float32)\n",
    "X_test = torch.tensor(X_test, dtype=torch.float32)\n",
    "y_train = torch.tensor(y_train, dtype=torch.long)\n",
    "y_test = torch.tensor(y_test, dtype=torch.long)"
   ]
  },
  {
   "cell_type": "code",
   "execution_count": 42,
   "id": "ae8a4a19-b3bd-4dc6-9483-4219cc417253",
   "metadata": {},
   "outputs": [],
   "source": [
    "# DNN 모델 정의\n",
    "class DNN(nn.Module):\n",
    "    def __init__(self):\n",
    "        super(DNN, self).__init__()\n",
    "        self.model = nn.Sequential(\n",
    "            nn.Linear(64, 128),\n",
    "            nn.ReLU(),\n",
    "            nn.Linear(128, 64),\n",
    "            nn.ReLU(),\n",
    "            nn.Linear(64, 10)  # 10개의 숫자 클래스\n",
    "        )\n",
    "\n",
    "    def forward(self, x):\n",
    "        return self.model(x)\n",
    "\n",
    "model = DNN()"
   ]
  },
  {
   "cell_type": "code",
   "execution_count": 44,
   "id": "c5213433-2a5c-4565-87f5-67661ac58f5c",
   "metadata": {},
   "outputs": [],
   "source": [
    "# 손실함수와 옵티마이저\n",
    "criterion = nn.CrossEntropyLoss()\n",
    "optimizer = optim.Adam(model.parameters(), lr=0.001)"
   ]
  },
  {
   "cell_type": "code",
   "execution_count": 54,
   "id": "8d51eed4-92c0-4a9a-b157-5fdf0fca292a",
   "metadata": {},
   "outputs": [
    {
     "name": "stdout",
     "output_type": "stream",
     "text": [
      "Epoch 1/20, Loss: 0.2352\n",
      "Epoch 2/20, Loss: 0.2262\n",
      "Epoch 3/20, Loss: 0.2176\n",
      "Epoch 4/20, Loss: 0.2095\n",
      "Epoch 5/20, Loss: 0.2018\n",
      "Epoch 6/20, Loss: 0.1945\n",
      "Epoch 7/20, Loss: 0.1876\n",
      "Epoch 8/20, Loss: 0.1810\n",
      "Epoch 9/20, Loss: 0.1747\n",
      "Epoch 10/20, Loss: 0.1688\n",
      "Epoch 11/20, Loss: 0.1631\n",
      "Epoch 12/20, Loss: 0.1578\n",
      "Epoch 13/20, Loss: 0.1527\n",
      "Epoch 14/20, Loss: 0.1479\n",
      "Epoch 15/20, Loss: 0.1433\n",
      "Epoch 16/20, Loss: 0.1389\n",
      "Epoch 17/20, Loss: 0.1348\n",
      "Epoch 18/20, Loss: 0.1308\n",
      "Epoch 19/20, Loss: 0.1270\n",
      "Epoch 20/20, Loss: 0.1234\n"
     ]
    }
   ],
   "source": [
    "# 학습\n",
    "losses = []\n",
    "\n",
    "for epoch in range(epochs):\n",
    "    optimizer.zero_grad()\n",
    "    outputs = model(X_train)\n",
    "    loss = criterion(outputs, y_train)\n",
    "    loss.backward()\n",
    "    optimizer.step()\n",
    "\n",
    "    losses.append(loss.item())\n",
    "    print(f\"Epoch {epoch+1}/{epochs}, Loss: {loss.item():.4f}\", flush=True)"
   ]
  },
  {
   "cell_type": "code",
   "execution_count": 56,
   "id": "793d3638-56d5-4d24-bdc5-df887fe9597d",
   "metadata": {},
   "outputs": [
    {
     "name": "stdout",
     "output_type": "stream",
     "text": [
      "Test Accuracy: 0.9611\n"
     ]
    }
   ],
   "source": [
    "# 예측 및 정확도 평가\n",
    "with torch.no_grad():\n",
    "    y_pred = model(X_test).argmax(dim=1)\n",
    "    acc = accuracy_score(y_test, y_pred)\n",
    "    print(f\"Test Accuracy: {acc:.4f}\")"
   ]
  },
  {
   "cell_type": "code",
   "execution_count": null,
   "id": "e902995a-f31c-407e-87a5-ea1052aa2aae",
   "metadata": {},
   "outputs": [],
   "source": []
  }
 ],
 "metadata": {
  "kernelspec": {
   "display_name": "Python [conda env:base] *",
   "language": "python",
   "name": "conda-base-py"
  },
  "language_info": {
   "codemirror_mode": {
    "name": "ipython",
    "version": 3
   },
   "file_extension": ".py",
   "mimetype": "text/x-python",
   "name": "python",
   "nbconvert_exporter": "python",
   "pygments_lexer": "ipython3",
   "version": "3.12.7"
  }
 },
 "nbformat": 4,
 "nbformat_minor": 5
}
