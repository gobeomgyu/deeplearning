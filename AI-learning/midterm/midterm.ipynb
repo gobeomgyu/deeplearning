{
 "cells": [
  {
   "cell_type": "code",
   "execution_count": 16,
   "id": "60783966-785f-41ee-99c7-315b56facbec",
   "metadata": {},
   "outputs": [],
   "source": [
    "# 라이브러리 불러오기\n",
    "import pandas as pd\n",
    "import numpy as np\n",
    "from sklearn.model_selection import train_test_split\n",
    "from sklearn.preprocessing import StandardScaler\n",
    "from sklearn.metrics import mean_absolute_error, mean_squared_error, r2_score\n",
    "import tensorflow as tf\n",
    "from tensorflow.keras import layers, models\n",
    "import matplotlib.pyplot as plt\n",
    "import torch\n",
    "import torch.nn as nn\n",
    "from torch.utils.data import DataLoader, TensorDataset\n",
    "import matplotlib.pyplot as plt\n",
    "from sklearn.preprocessing import LabelEncoder"
   ]
  },
  {
   "cell_type": "code",
   "execution_count": 31,
   "id": "082a4a51-fe78-49dc-9079-f33a250bc4dc",
   "metadata": {},
   "outputs": [],
   "source": [
    "url = \"https://raw.githubusercontent.com/stedy/Machine-Learning-with-R-datasets/master/insurance.csv\"\n",
    "\n",
    "\n",
    "\n",
    "# 데이터 읽기\n",
    "\n",
    "df = pd.read_csv(url)"
   ]
  },
  {
   "cell_type": "code",
   "execution_count": 33,
   "id": "264e029b-261c-4007-a4a4-11bfd8dfadbe",
   "metadata": {},
   "outputs": [
    {
     "data": {
      "text/html": [
       "<div>\n",
       "<style scoped>\n",
       "    .dataframe tbody tr th:only-of-type {\n",
       "        vertical-align: middle;\n",
       "    }\n",
       "\n",
       "    .dataframe tbody tr th {\n",
       "        vertical-align: top;\n",
       "    }\n",
       "\n",
       "    .dataframe thead th {\n",
       "        text-align: right;\n",
       "    }\n",
       "</style>\n",
       "<table border=\"1\" class=\"dataframe\">\n",
       "  <thead>\n",
       "    <tr style=\"text-align: right;\">\n",
       "      <th></th>\n",
       "      <th>age</th>\n",
       "      <th>sex</th>\n",
       "      <th>bmi</th>\n",
       "      <th>children</th>\n",
       "      <th>smoker</th>\n",
       "      <th>region</th>\n",
       "      <th>charges</th>\n",
       "    </tr>\n",
       "  </thead>\n",
       "  <tbody>\n",
       "    <tr>\n",
       "      <th>0</th>\n",
       "      <td>19</td>\n",
       "      <td>female</td>\n",
       "      <td>27.900</td>\n",
       "      <td>0</td>\n",
       "      <td>yes</td>\n",
       "      <td>southwest</td>\n",
       "      <td>16884.92400</td>\n",
       "    </tr>\n",
       "    <tr>\n",
       "      <th>1</th>\n",
       "      <td>18</td>\n",
       "      <td>male</td>\n",
       "      <td>33.770</td>\n",
       "      <td>1</td>\n",
       "      <td>no</td>\n",
       "      <td>southeast</td>\n",
       "      <td>1725.55230</td>\n",
       "    </tr>\n",
       "    <tr>\n",
       "      <th>2</th>\n",
       "      <td>28</td>\n",
       "      <td>male</td>\n",
       "      <td>33.000</td>\n",
       "      <td>3</td>\n",
       "      <td>no</td>\n",
       "      <td>southeast</td>\n",
       "      <td>4449.46200</td>\n",
       "    </tr>\n",
       "    <tr>\n",
       "      <th>3</th>\n",
       "      <td>33</td>\n",
       "      <td>male</td>\n",
       "      <td>22.705</td>\n",
       "      <td>0</td>\n",
       "      <td>no</td>\n",
       "      <td>northwest</td>\n",
       "      <td>21984.47061</td>\n",
       "    </tr>\n",
       "    <tr>\n",
       "      <th>4</th>\n",
       "      <td>32</td>\n",
       "      <td>male</td>\n",
       "      <td>28.880</td>\n",
       "      <td>0</td>\n",
       "      <td>no</td>\n",
       "      <td>northwest</td>\n",
       "      <td>3866.85520</td>\n",
       "    </tr>\n",
       "    <tr>\n",
       "      <th>...</th>\n",
       "      <td>...</td>\n",
       "      <td>...</td>\n",
       "      <td>...</td>\n",
       "      <td>...</td>\n",
       "      <td>...</td>\n",
       "      <td>...</td>\n",
       "      <td>...</td>\n",
       "    </tr>\n",
       "    <tr>\n",
       "      <th>1333</th>\n",
       "      <td>50</td>\n",
       "      <td>male</td>\n",
       "      <td>30.970</td>\n",
       "      <td>3</td>\n",
       "      <td>no</td>\n",
       "      <td>northwest</td>\n",
       "      <td>10600.54830</td>\n",
       "    </tr>\n",
       "    <tr>\n",
       "      <th>1334</th>\n",
       "      <td>18</td>\n",
       "      <td>female</td>\n",
       "      <td>31.920</td>\n",
       "      <td>0</td>\n",
       "      <td>no</td>\n",
       "      <td>northeast</td>\n",
       "      <td>2205.98080</td>\n",
       "    </tr>\n",
       "    <tr>\n",
       "      <th>1335</th>\n",
       "      <td>18</td>\n",
       "      <td>female</td>\n",
       "      <td>36.850</td>\n",
       "      <td>0</td>\n",
       "      <td>no</td>\n",
       "      <td>southeast</td>\n",
       "      <td>1629.83350</td>\n",
       "    </tr>\n",
       "    <tr>\n",
       "      <th>1336</th>\n",
       "      <td>21</td>\n",
       "      <td>female</td>\n",
       "      <td>25.800</td>\n",
       "      <td>0</td>\n",
       "      <td>no</td>\n",
       "      <td>southwest</td>\n",
       "      <td>2007.94500</td>\n",
       "    </tr>\n",
       "    <tr>\n",
       "      <th>1337</th>\n",
       "      <td>61</td>\n",
       "      <td>female</td>\n",
       "      <td>29.070</td>\n",
       "      <td>0</td>\n",
       "      <td>yes</td>\n",
       "      <td>northwest</td>\n",
       "      <td>29141.36030</td>\n",
       "    </tr>\n",
       "  </tbody>\n",
       "</table>\n",
       "<p>1338 rows × 7 columns</p>\n",
       "</div>"
      ],
      "text/plain": [
       "      age     sex     bmi  children smoker     region      charges\n",
       "0      19  female  27.900         0    yes  southwest  16884.92400\n",
       "1      18    male  33.770         1     no  southeast   1725.55230\n",
       "2      28    male  33.000         3     no  southeast   4449.46200\n",
       "3      33    male  22.705         0     no  northwest  21984.47061\n",
       "4      32    male  28.880         0     no  northwest   3866.85520\n",
       "...   ...     ...     ...       ...    ...        ...          ...\n",
       "1333   50    male  30.970         3     no  northwest  10600.54830\n",
       "1334   18  female  31.920         0     no  northeast   2205.98080\n",
       "1335   18  female  36.850         0     no  southeast   1629.83350\n",
       "1336   21  female  25.800         0     no  southwest   2007.94500\n",
       "1337   61  female  29.070         0    yes  northwest  29141.36030\n",
       "\n",
       "[1338 rows x 7 columns]"
      ]
     },
     "execution_count": 33,
     "metadata": {},
     "output_type": "execute_result"
    }
   ],
   "source": [
    "df"
   ]
  },
  {
   "cell_type": "code",
   "execution_count": 35,
   "id": "9663dc2a-9464-4915-86f9-3a8f065c39d6",
   "metadata": {},
   "outputs": [],
   "source": [
    "df['sex'] = LabelEncoder().fit_transform(df['sex'])  "
   ]
  },
  {
   "cell_type": "code",
   "execution_count": 37,
   "id": "046dbdf2-6b5e-40ca-8ea2-13497e82103a",
   "metadata": {},
   "outputs": [],
   "source": [
    "df['smoker'] = LabelEncoder().fit_transform(df['smoker'])  "
   ]
  },
  {
   "cell_type": "code",
   "execution_count": 39,
   "id": "5a936df8-daf4-43a2-a4be-2c1374bfc06f",
   "metadata": {},
   "outputs": [],
   "source": [
    "df['region'] = LabelEncoder().fit_transform(df['region'])  "
   ]
  },
  {
   "cell_type": "code",
   "execution_count": 41,
   "id": "004d3ba9-ce77-4c06-b62a-b5a6e75e47f5",
   "metadata": {},
   "outputs": [],
   "source": [
    "# 타겟(BMI) 분리\n",
    "X = df.drop(columns=['bmi']).values  # 7개 특성\n",
    "y = df['bmi'].values.astype(np.float32)"
   ]
  },
  {
   "cell_type": "code",
   "execution_count": 43,
   "id": "1294b256-906e-4165-87f4-fe3884c6f063",
   "metadata": {},
   "outputs": [],
   "source": [
    "# 정규화\n",
    "scaler = StandardScaler()\n",
    "X = scaler.fit_transform(X)"
   ]
  },
  {
   "cell_type": "code",
   "execution_count": 46,
   "id": "dfab3352-c850-480d-a331-d4f4c7e9e0d6",
   "metadata": {},
   "outputs": [],
   "source": [
    "# 시퀀스 형태로 변환\n",
    "def split_sequences(sequences, n_steps):\n",
    "    X, y = [], []\n",
    "    for i in range(len(sequences)):\n",
    "        end_ix = i + n_steps\n",
    "        if end_ix > len(sequences):\n",
    "            break\n",
    "        seq_x, seq_y = sequences[i:end_ix, :-1], sequences[end_ix-1, -1]\n",
    "        X.append(seq_x)\n",
    "        y.append(seq_y)\n",
    "    return np.array(X), np.array(y)"
   ]
  },
  {
   "cell_type": "code",
   "execution_count": 48,
   "id": "382b2573-8ff3-49e0-91f8-7245893b1020",
   "metadata": {},
   "outputs": [],
   "source": [
    "# BMI를 붙여서 시퀀스 분할\n",
    "full_data = np.hstack((X, y.reshape(-1, 1)))\n",
    "X_seq, y_seq = split_sequences(full_data, n_steps=5)"
   ]
  },
  {
   "cell_type": "code",
   "execution_count": 50,
   "id": "7dbb67ef-33b1-4f53-8f5c-fe3e3b0b4ea0",
   "metadata": {},
   "outputs": [],
   "source": [
    "# Train/Test 분할\n",
    "X_train, X_test, y_train, y_test = train_test_split(X_seq, y_seq, test_size=0.2, random_state=42)"
   ]
  },
  {
   "cell_type": "code",
   "execution_count": 52,
   "id": "9363e404-2785-4181-9668-952d8de68121",
   "metadata": {},
   "outputs": [],
   "source": [
    "# Tensor 변환\n",
    "X_train = torch.tensor(X_train, dtype=torch.float32).permute(0, 2, 1)  # (batch, channels, seq_len)\n",
    "X_test = torch.tensor(X_test, dtype=torch.float32).permute(0, 2, 1)\n",
    "y_train = torch.tensor(y_train, dtype=torch.float32).view(-1, 1)\n",
    "y_test = torch.tensor(y_test, dtype=torch.float32).view(-1, 1)"
   ]
  },
  {
   "cell_type": "code",
   "execution_count": 54,
   "id": "4b1db903-e0b9-4b4c-9984-a03f431213cd",
   "metadata": {},
   "outputs": [],
   "source": [
    "train_dataset = TensorDataset(X_train, y_train)\n",
    "test_dataset = TensorDataset(X_test, y_test)"
   ]
  },
  {
   "cell_type": "code",
   "execution_count": 56,
   "id": "571ff76e-a4fc-4c23-97f3-2c6a8659e9d8",
   "metadata": {},
   "outputs": [],
   "source": [
    "train_loader = DataLoader(train_dataset, batch_size=32, shuffle=True)\n",
    "test_loader = DataLoader(test_dataset, batch_size=32)"
   ]
  },
  {
   "cell_type": "code",
   "execution_count": 60,
   "id": "1021cf3a-9ae7-46f0-8f39-ce3c8e4ecb6c",
   "metadata": {},
   "outputs": [],
   "source": [
    "#모델 정의: Conv1D 회귀 모델\n",
    "class BMICNN(nn.Module):\n",
    "    def __init__(self):\n",
    "        super(BMICNN, self).__init__()\n",
    "        self.conv1 = nn.Conv1d(in_channels=6, out_channels=16, kernel_size=3, padding=1)\n",
    "        self.conv2 = nn.Conv1d(16, 32, kernel_size=3, padding=1)\n",
    "        self.fc1 = nn.Linear(32 * 5, 64)\n",
    "        self.fc2 = nn.Linear(64, 1)  # 회귀 출력\n",
    "\n",
    "    def forward(self, x):\n",
    "        x = torch.relu(self.conv1(x))\n",
    "        x = torch.relu(self.conv2(x))\n",
    "        x = x.view(x.size(0), -1)\n",
    "        x = torch.relu(self.fc1(x))\n",
    "        return self.fc2(x)"
   ]
  },
  {
   "cell_type": "code",
   "execution_count": 62,
   "id": "e557cf08-40f9-4006-95d9-6b90b31ff03d",
   "metadata": {},
   "outputs": [
    {
     "name": "stdout",
     "output_type": "stream",
     "text": [
      "Epoch 1, Loss: 872.8678\n",
      "Epoch 2, Loss: 196.1055\n",
      "Epoch 3, Loss: 50.4778\n",
      "Epoch 4, Loss: 45.5483\n",
      "Epoch 5, Loss: 44.6400\n",
      "Epoch 6, Loss: 42.0641\n",
      "Epoch 7, Loss: 41.0382\n",
      "Epoch 8, Loss: 40.2368\n",
      "Epoch 9, Loss: 39.8537\n",
      "Epoch 10, Loss: 39.9255\n",
      "Epoch 11, Loss: 39.2438\n",
      "Epoch 12, Loss: 38.3019\n",
      "Epoch 13, Loss: 37.6389\n",
      "Epoch 14, Loss: 37.3324\n",
      "Epoch 15, Loss: 36.5953\n",
      "Epoch 16, Loss: 36.8720\n",
      "Epoch 17, Loss: 35.7923\n",
      "Epoch 18, Loss: 35.4546\n",
      "Epoch 19, Loss: 35.0303\n",
      "Epoch 20, Loss: 35.1703\n",
      "Epoch 21, Loss: 34.5249\n",
      "Epoch 22, Loss: 34.1620\n",
      "Epoch 23, Loss: 34.1083\n",
      "Epoch 24, Loss: 34.4650\n",
      "Epoch 25, Loss: 33.7818\n",
      "Epoch 26, Loss: 33.2280\n",
      "Epoch 27, Loss: 32.7736\n",
      "Epoch 28, Loss: 33.0551\n",
      "Epoch 29, Loss: 32.3780\n",
      "Epoch 30, Loss: 32.6151\n"
     ]
    }
   ],
   "source": [
    "#학습 및 평가\n",
    "model = BMICNN()\n",
    "criterion = nn.MSELoss()\n",
    "optimizer = torch.optim.Adam(model.parameters(), lr=0.001)\n",
    "\n",
    "train_losses = []\n",
    "\n",
    "# Training loop\n",
    "for epoch in range(30):\n",
    "    model.train()\n",
    "    running_loss = 0.0\n",
    "    for xb, yb in train_loader:\n",
    "        optimizer.zero_grad()\n",
    "        preds = model(xb)\n",
    "        loss = criterion(preds, yb)\n",
    "        loss.backward()\n",
    "        optimizer.step()\n",
    "        running_loss += loss.item()\n",
    "    train_losses.append(running_loss / len(train_loader))\n",
    "    print(f\"Epoch {epoch+1}, Loss: {train_losses[-1]:.4f}\")"
   ]
  },
  {
   "cell_type": "code",
   "execution_count": 64,
   "id": "4825e85b-7841-4329-b7bd-ab363280a817",
   "metadata": {},
   "outputs": [
    {
     "name": "stdout",
     "output_type": "stream",
     "text": [
      "Test MSE: 42.2169\n",
      "R² Score: -0.1329\n"
     ]
    }
   ],
   "source": [
    "# Evaluation\n",
    "model.eval()\n",
    "preds = []\n",
    "actuals = []\n",
    "with torch.no_grad():\n",
    "    for xb, yb in test_loader:\n",
    "        out = model(xb)\n",
    "        preds.extend(out.squeeze().cpu().numpy())\n",
    "        actuals.extend(yb.squeeze().cpu().numpy())\n",
    "\n",
    "mse = mean_squared_error(actuals, preds)\n",
    "r2 = r2_score(actuals, preds)\n",
    "print(f\"Test MSE: {mse:.4f}\")\n",
    "print(f\"R² Score: {r2:.4f}\")"
   ]
  },
  {
   "cell_type": "code",
   "execution_count": null,
   "id": "9162d5cf-22aa-4e8e-a1a3-b6e29506bc42",
   "metadata": {},
   "outputs": [],
   "source": []
  }
 ],
 "metadata": {
  "kernelspec": {
   "display_name": "Python [conda env:base] *",
   "language": "python",
   "name": "conda-base-py"
  },
  "language_info": {
   "codemirror_mode": {
    "name": "ipython",
    "version": 3
   },
   "file_extension": ".py",
   "mimetype": "text/x-python",
   "name": "python",
   "nbconvert_exporter": "python",
   "pygments_lexer": "ipython3",
   "version": "3.12.7"
  }
 },
 "nbformat": 4,
 "nbformat_minor": 5
}
